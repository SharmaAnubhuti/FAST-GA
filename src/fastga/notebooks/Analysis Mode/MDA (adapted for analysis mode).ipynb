{
 "cells": [
  {
   "cell_type": "markdown",
   "metadata": {},
   "source": [
    "<div class=\"row\">\n",
    "  <div class=\"column\">\n",
    "    <img src=\"./img/logo-onera.png\" width=\"200\">\n",
    "  </div>\n",
    "  <div class=\"column\">\n",
    "    <img src=\"./img/logo-ISAE_SUPAERO.png\" width=\"200\">\n",
    "  </div>\n",
    "</div>"
   ]
  },
  {
   "cell_type": "markdown",
   "metadata": {},
   "source": [
    "# FAST-OAD-GA MDA (adapted for analysis  mode)"
   ]
  },
  {
   "cell_type": "markdown",
   "metadata": {},
   "source": [
    "This notebook is dedicated to generate the converged aircraft xml files that will serve for the purpose of the analysis mode as reference aircraft files. A conventional MDA is performed. The yml configuration file is stored in the data folder and is used for each analysis. A rtol of 1e-5 gives a sufficient accuracy so that no visible changes occur when the aircraft passes again through the modules of the code in the analysis mode.\n",
    "\n",
    "The use of the widget allows to avoid the user to manually change the name of the aircraft computed and of the output files.\n",
    "\n",
    "However as for any MDA the engine id and the class parameters have to be manually defined by the user in the yml configuration file. It is advised to change the class parameters with caution as some postprocessing modules require some of the quantities computed with these parameters on (for example the wing structural analysis requires the computation of the slipstream in the aerodynamic module).\n",
    "\n",
    "A cell called \"running complementary methods\" is run after the convergence of the MDA. It consists in classes that are useful for postprocessing reasons but that don't need to be executed at each iteration. They are processed outside of the loop to avoid extra computational time.\n",
    "\n",
    "As this notebook does not aim to present the MDA of FAST-OAD-GA secondary features such as the N2 diagram or the display of the inputs/outputs are not included here."
   ]
  },
  {
   "cell_type": "markdown",
   "metadata": {},
   "source": [
    "## Initialization of the work environment"
   ]
  },
  {
   "cell_type": "markdown",
   "metadata": {},
   "source": [
    "### Choice of the aircraft\n",
    "\n",
    "The available aircrafts are :\n",
    "\n",
    "- Beechcraft Duchess 76\n",
    "- Cirrus SR22\n",
    "- TBM 930\n",
    "\n",
    "The Beechcraft 76 is the default option."
   ]
  },
  {
   "cell_type": "code",
   "execution_count": 1,
   "metadata": {},
   "outputs": [
    {
     "name": "stderr",
     "output_type": "stream",
     "text": [
      "Failed to import module fastga.models.weight.mass_breakdown.unitary_tests.test_beechcraft_76.py\n",
      "Failed to import module fastga.models.weight.cg.unitary_tests.test_cirrus_sr22.py\n",
      "Failed to import module fastga.models.geometry.unitary_tests.test_cirrus_sr22.py\n",
      "Failed to import module fastga.models.load_analysis.unitary_tests.test_beechcraft_76.py\n",
      "Failed to import module fastga.models.performances.unitary_tests.test_cirrus_sr22.py\n",
      "Failed to import module fastga.models.performances.unitary_tests.test_beechcraft_76.py\n",
      "Failed to import module fastga.models.aerodynamics.unitary_tests.test_beechcraft_76.py\n",
      "Failed to import module fastga.models.weight.cg.unitary_tests.test_beechcraft_76.py\n",
      "Failed to import module fastga.models.handling_qualities.unitary_tests.test_cirrus_sr22.py\n",
      "Failed to import module fastga.models.aerodynamics.unitary_tests.test_functions.py\n",
      "Failed to import module fastga.models.loops.unitary_tests.test_wing_area.py\n",
      "Failed to import module fastga.models.aerodynamics.unitary_tests.test_cirrus_sr22.py\n",
      "Failed to import module fastga.models.load_analysis.unitary_tests.test_cirrus_sr22.py\n",
      "Failed to import module fastga.models.geometry.unitary_tests.test_beechcraft_76.py\n",
      "Failed to import module fastga.models.handling_qualities.unitary_tests.test_beechcraft_76.py\n",
      "Failed to import module fastga.models.weight.mass_breakdown.unitary_tests.test_cirrus_sr22.py\n",
      "Failed to import module fastga.models.propulsion.fuel_propulsion.turboprop_simple.unitary_tests.test_openmdao_engine.py\n",
      "Failed to import module fastga.models.propulsion.fuel_propulsion.basicIC_engine.unitary_tests.test_openmdao_engine.py\n"
     ]
    },
    {
     "name": "stdout",
     "output_type": "stream",
     "text": [
      "The reference aircraft .xml file is beechcraft_76.xml\n"
     ]
    },
    {
     "data": {
      "application/vnd.jupyter.widget-view+json": {
       "model_id": "54188e610eb448d3a7bfc19c60f4b21e",
       "version_major": 2,
       "version_minor": 0
      },
      "text/plain": [
       "Dropdown(description='Aircraft to size:', layout=Layout(width='30%'), options=(('Beechcraft Duchess 76', 'beec…"
      ]
     },
     "metadata": {},
     "output_type": "display_data"
    },
    {
     "name": "stdout",
     "output_type": "stream",
     "text": [
      "The reference aircraft .xml file is cirrus_sr22.xml\n"
     ]
    }
   ],
   "source": [
    "from ipywidgets import widgets, Layout\n",
    "from fastoad.io import VariableIO\n",
    "from IPython.display import display, clear_output\n",
    "\n",
    "liste = widgets.Dropdown(\n",
    "    options=[('Beechcraft Duchess 76', 'beechcraft_76.xml'), ('Cirrus SR22', 'cirrus_sr22.xml'), ('TBM 930', 'TBM-930.xml')],\n",
    "    value='beechcraft_76.xml',\n",
    "    description='Aircraft to size:',\n",
    "    style={'description_width': 'initial'},\n",
    "    layout=Layout(width='30%'),\n",
    ")\n",
    " \n",
    "# # Initialization of the reference aircraft\n",
    "ref_aircraft = 'beechcraft_76.xml'\n",
    "print('The reference aircraft .xml file is '+ ref_aircraft)\n",
    "\n",
    "def eventhandler(change):\n",
    "    if (change.new):\n",
    "        global ref_aircraft\n",
    "        ref_aircraft = liste.value\n",
    "        print('The reference aircraft .xml file is '+ ref_aircraft)\n",
    "\n",
    "liste.observe(eventhandler, names='value')\n",
    "display(liste)"
   ]
  },
  {
   "cell_type": "markdown",
   "metadata": {},
   "source": [
    "### Preparation of files\n",
    "\n",
    "Reminder : the user has to manually check that the engine id in the file 'MDA_analysis_mode.yml' in the data folder is the right one before running the notebook.\n",
    "\n",
    "The yml configuration file is duplicated in the work folder so that the MDA input and output files are not generated in the data folder."
   ]
  },
  {
   "cell_type": "code",
   "execution_count": 2,
   "metadata": {},
   "outputs": [
    {
     "data": {
      "text/html": [
       "<style>.container { width:95% !important; }</style>"
      ],
      "text/plain": [
       "<IPython.core.display.HTML object>"
      ]
     },
     "metadata": {},
     "output_type": "display_data"
    }
   ],
   "source": [
    "import os.path as pth\n",
    "import os\n",
    "import openmdao.api as om\n",
    "from fastoad import api as api_cs25\n",
    "from fastga.command import api as api_cs23\n",
    "import logging\n",
    "from fastoad.gui import VariableViewer\n",
    "import shutil\n",
    "\n",
    "# Define relative path\n",
    "DATA_FOLDER_PATH = 'data'\n",
    "WORK_FOLDER_PATH = 'workdir'\n",
    "OUTPUT_FOLDER_PATH = 'output'\n",
    "\n",
    "# Clear work folder\n",
    "shutil.rmtree(WORK_FOLDER_PATH, ignore_errors=True)\n",
    "os.mkdir(WORK_FOLDER_PATH)\n",
    "\n",
    "# Define files\n",
    "CONFIGURATION_FILE = pth.join(DATA_FOLDER_PATH, 'MDA_analysis_mode.yml')\n",
    "WORK_FOLDER_CONFIGURATION_FILE = pth.join(WORK_FOLDER_PATH, 'MDA_analysis_mode.yml')\n",
    "shutil.copy(CONFIGURATION_FILE, WORK_FOLDER_CONFIGURATION_FILE)\n",
    "SOURCE_FILE = pth.join(DATA_FOLDER_PATH, ref_aircraft)\n",
    "\n",
    "# For having log messages on screen\n",
    "logging.basicConfig(level=logging.INFO, format='%(levelname)-8s: %(message)s')\n",
    "\n",
    "# For using all screen width\n",
    "from IPython.core.display import display, HTML\n",
    "display(HTML(\"<style>.container { width:95% !important; }</style>\"))"
   ]
  },
  {
   "cell_type": "markdown",
   "metadata": {},
   "source": [
    "The MDA xml input file is then created in the work folder."
   ]
  },
  {
   "cell_type": "code",
   "execution_count": null,
   "metadata": {},
   "outputs": [],
   "source": [
    "api_cs25.variable_viewer(SOURCE_FILE)"
   ]
  },
  {
   "cell_type": "code",
   "execution_count": 3,
   "metadata": {
    "scrolled": false
   },
   "outputs": [
    {
     "name": "stderr",
     "output_type": "stream",
     "text": [
      "INFO    : Problem inputs written in C:\\Users\\Lucas\\FAST-OAD-GA\\FAST-GA\\src\\fastga\\notebooks\\Analysis Mode\\workdir\\problem_inputs.xml\n"
     ]
    },
    {
     "data": {
      "text/plain": [
       "'C:\\\\Users\\\\Lucas\\\\FAST-OAD-GA\\\\FAST-GA\\\\src\\\\fastga\\\\notebooks\\\\Analysis Mode\\\\workdir\\\\problem_inputs.xml'"
      ]
     },
     "execution_count": 3,
     "metadata": {},
     "output_type": "execute_result"
    }
   ],
   "source": [
    "api_cs25.generate_inputs(WORK_FOLDER_CONFIGURATION_FILE, SOURCE_FILE, overwrite=True)"
   ]
  },
  {
   "cell_type": "markdown",
   "metadata": {},
   "source": [
    "## Running the MDA"
   ]
  },
  {
   "cell_type": "code",
   "execution_count": 4,
   "metadata": {
    "scrolled": false
   },
   "outputs": [
    {
     "name": "stderr",
     "output_type": "stream",
     "text": [
      "c:\\users\\lucas\\fast-oad-ga\\venvtest\\lib\\site-packages\\scipy\\optimize\\minpack.py:175: RuntimeWarning: The iteration is not making good progress, as measured by the \n",
      "  improvement from the last five Jacobian evaluations.\n",
      "  warnings.warn(msg, RuntimeWarning)\n"
     ]
    },
    {
     "name": "stdout",
     "output_type": "stream",
     "text": [
      "\n",
      "===============\n",
      "aircraft_sizing\n",
      "===============\n"
     ]
    },
    {
     "name": "stderr",
     "output_type": "stream",
     "text": [
      "WARNING : Taper ratio outside of the range in Roskam's book k_ar_fuselage, value clipped[0.502]\n",
      "WARNING : min value of Roskam's book is 0.6\n",
      "WARNING : max value of Roskam's book is 1.0\n",
      "WARNING : Airfoil lift coefficient to theoretical lift coefficient ratio value outside of the range in Roskam's book, value clipped k_ch_alpha1.0\n",
      "WARNING : min value of Roskam's book is 0.7\n",
      "WARNING : max value of Roskam's book is 1.0\n",
      "WARNING : Airfoil lift coefficient to theoretical lift coefficient ratio value outside of the range in Roskam's book k_ch_delta, value clipped0.14492753623188406\n",
      "WARNING : min value of Roskam's book is 0.6\n",
      "WARNING : max value of Roskam's book is 1.0\n",
      "WARNING : Airfoil lift slope ratio value outside of the range in Roskam's book k_cl_delta_plain_flap, value clipped0.14492753623188406\n",
      "WARNING : min value of Roskam's book is 0.7\n",
      "WARNING : max value of Roskam's book is 1.0\n",
      "WARNING : Aspect ratio value outside of the range in Roskam's book k_a_delta, value clipped10.12\n",
      "WARNING : min value of Roskam's book is 0.0\n",
      "WARNING : max value of Roskam's book is 10.0\n",
      "WARNING : Aspect ratio value outside of the range in Roskam's book k_a_delta, value clipped10.12\n",
      "WARNING : min value of Roskam's book is 0.0\n",
      "WARNING : max value of Roskam's book is 10.0\n",
      "WARNING : Aspect ratio value outside of the range in Roskam's book k_a_delta, value clipped10.12\n",
      "WARNING : min value of Roskam's book is 0.0\n",
      "WARNING : max value of Roskam's book is 10.0\n",
      "WARNING : Aspect ratio value outside of the range in Roskam's book k_a_delta, value clipped10.12\n",
      "WARNING : min value of Roskam's book is 0.0\n",
      "WARNING : max value of Roskam's book is 10.0\n",
      "WARNING : Taper ratio outside of the range in Roskam's book k_ar_fuselage, value clipped[0.502]\n",
      "WARNING : min value of Roskam's book is 0.6\n",
      "WARNING : max value of Roskam's book is 1.0\n",
      "INFO    : Entering load factors computation\n",
      "INFO    : Entering mission computation\n",
      "INFO    : Failed to remove C:\\Users\\Lucas\\FAST-OAD-GA\\FAST-GA\\src\\fastga\\notebooks\\Analysis Mode\\workdir\\./workdir/mda_mission_results.csv file!\n",
      "INFO    : Entering mission computation\n",
      "INFO    : Entering mission computation\n",
      "INFO    : Looping on wing area with new value equal to [14.22709768]\n",
      "INFO    : Wing Area for mission fuel equal to [13.63279674]\n",
      "WARNING : Taper ratio outside of the range in Roskam's book k_ar_fuselage, value clipped[0.502]\n",
      "WARNING : min value of Roskam's book is 0.6\n",
      "WARNING : max value of Roskam's book is 1.0\n"
     ]
    },
    {
     "name": "stdout",
     "output_type": "stream",
     "text": [
      "NL: NLBGS 1 ; 180234424 1\n"
     ]
    },
    {
     "name": "stderr",
     "output_type": "stream",
     "text": [
      "WARNING : Aspect ratio value outside of the range in Roskam's book k_a_delta, value clipped10.12\n",
      "WARNING : min value of Roskam's book is 0.0\n",
      "WARNING : max value of Roskam's book is 10.0\n",
      "WARNING : Aspect ratio value outside of the range in Roskam's book k_a_delta, value clipped10.12\n",
      "WARNING : min value of Roskam's book is 0.0\n",
      "WARNING : max value of Roskam's book is 10.0\n",
      "WARNING : Aspect ratio value outside of the range in Roskam's book k_a_delta, value clipped10.12\n",
      "WARNING : min value of Roskam's book is 0.0\n",
      "WARNING : max value of Roskam's book is 10.0\n",
      "WARNING : Aspect ratio value outside of the range in Roskam's book k_a_delta, value clipped10.12\n",
      "WARNING : min value of Roskam's book is 0.0\n",
      "WARNING : max value of Roskam's book is 10.0\n",
      "WARNING : Airfoil lift slope ratio value outside of the range in Roskam's book k_cl_delta_plain_flap, value clipped1.0299432620089277\n",
      "WARNING : min value of Roskam's book is 0.7\n",
      "WARNING : max value of Roskam's book is 1.0\n",
      "WARNING : Taper ratio outside of the range in Roskam's book k_ar_fuselage, value clipped[0.502]\n",
      "WARNING : min value of Roskam's book is 0.6\n",
      "WARNING : max value of Roskam's book is 1.0\n",
      "WARNING : Airfoil lift slope ratio value outside of the range in Roskam's book k_cl_delta_plain_flap, value clipped1.0450894864502354\n",
      "WARNING : min value of Roskam's book is 0.7\n",
      "WARNING : max value of Roskam's book is 1.0\n",
      "INFO    : Entering load factors computation\n",
      "INFO    : Entering mission computation\n",
      "INFO    : Entering mission computation\n",
      "INFO    : Entering mission computation\n",
      "INFO    : Looping on wing area with new value equal to [13.71969316]\n",
      "INFO    : Wing Area for mission fuel equal to [13.71969316]\n",
      "WARNING : Taper ratio outside of the range in Roskam's book k_ar_fuselage, value clipped[0.502]\n",
      "WARNING : min value of Roskam's book is 0.6\n",
      "WARNING : max value of Roskam's book is 1.0\n",
      "WARNING : Airfoil lift coefficient to theoretical lift coefficient ratio value outside of the range in Roskam's book, value clipped k_ch_alpha7.1066085078616\n",
      "WARNING : min value of Roskam's book is 0.7\n",
      "WARNING : max value of Roskam's book is 1.0\n",
      "WARNING : Airfoil lift coefficient to theoretical lift coefficient ratio value outside of the range in Roskam's book k_ch_delta, value clipped1.0299432620089277\n",
      "WARNING : min value of Roskam's book is 0.6\n",
      "WARNING : max value of Roskam's book is 1.0\n",
      "WARNING : Airfoil lift slope ratio value outside of the range in Roskam's book k_cl_delta_plain_flap, value clipped1.0299432620089277\n",
      "WARNING : min value of Roskam's book is 0.7\n",
      "WARNING : max value of Roskam's book is 1.0\n"
     ]
    },
    {
     "name": "stdout",
     "output_type": "stream",
     "text": [
      "NL: NLBGS 2 ; 3643602.32 0.0202159068\n"
     ]
    },
    {
     "name": "stderr",
     "output_type": "stream",
     "text": [
      "WARNING : Aspect ratio value outside of the range in Roskam's book k_a_delta, value clipped10.12\n",
      "WARNING : min value of Roskam's book is 0.0\n",
      "WARNING : max value of Roskam's book is 10.0\n",
      "WARNING : Aspect ratio value outside of the range in Roskam's book k_a_delta, value clipped10.12\n",
      "WARNING : min value of Roskam's book is 0.0\n",
      "WARNING : max value of Roskam's book is 10.0\n",
      "WARNING : Aspect ratio value outside of the range in Roskam's book k_a_delta, value clipped10.12\n",
      "WARNING : min value of Roskam's book is 0.0\n",
      "WARNING : max value of Roskam's book is 10.0\n",
      "WARNING : Aspect ratio value outside of the range in Roskam's book k_a_delta, value clipped10.12\n",
      "WARNING : min value of Roskam's book is 0.0\n",
      "WARNING : max value of Roskam's book is 10.0\n",
      "WARNING : Taper ratio outside of the range in Roskam's book k_ar_fuselage, value clipped[0.502]\n",
      "WARNING : min value of Roskam's book is 0.6\n",
      "WARNING : max value of Roskam's book is 1.0\n",
      "INFO    : Entering load factors computation\n",
      "INFO    : Entering mission computation\n",
      "INFO    : Entering mission computation\n",
      "INFO    : Entering mission computation\n",
      "INFO    : Looping on wing area with new value equal to [15.57418211]\n",
      "INFO    : Wing Area for mission fuel equal to [13.1869158]\n",
      "WARNING : Taper ratio outside of the range in Roskam's book k_ar_fuselage, value clipped[0.502]\n",
      "WARNING : min value of Roskam's book is 0.6\n",
      "WARNING : max value of Roskam's book is 1.0\n"
     ]
    },
    {
     "name": "stdout",
     "output_type": "stream",
     "text": [
      "NL: NLBGS 3 ; 2183484.56 0.0121146921\n"
     ]
    },
    {
     "name": "stderr",
     "output_type": "stream",
     "text": [
      "WARNING : Aspect ratio value outside of the range in Roskam's book k_a_delta, value clipped10.12\n",
      "WARNING : min value of Roskam's book is 0.0\n",
      "WARNING : max value of Roskam's book is 10.0\n",
      "WARNING : Aspect ratio value outside of the range in Roskam's book k_a_delta, value clipped10.12\n",
      "WARNING : min value of Roskam's book is 0.0\n",
      "WARNING : max value of Roskam's book is 10.0\n",
      "WARNING : Aspect ratio value outside of the range in Roskam's book k_a_delta, value clipped10.12\n",
      "WARNING : min value of Roskam's book is 0.0\n",
      "WARNING : max value of Roskam's book is 10.0\n",
      "WARNING : Aspect ratio value outside of the range in Roskam's book k_a_delta, value clipped10.12\n",
      "WARNING : min value of Roskam's book is 0.0\n",
      "WARNING : max value of Roskam's book is 10.0\n",
      "WARNING : Taper ratio outside of the range in Roskam's book k_ar_fuselage, value clipped[0.502]\n",
      "WARNING : min value of Roskam's book is 0.6\n",
      "WARNING : max value of Roskam's book is 1.0\n",
      "INFO    : Entering load factors computation\n",
      "INFO    : Entering mission computation\n",
      "INFO    : Entering mission computation\n",
      "INFO    : Entering mission computation\n",
      "INFO    : Looping on wing area with new value equal to [15.84371872]\n",
      "INFO    : Wing Area for mission fuel equal to [13.49176889]\n",
      "WARNING : Taper ratio outside of the range in Roskam's book k_ar_fuselage, value clipped[0.502]\n",
      "WARNING : min value of Roskam's book is 0.6\n",
      "WARNING : max value of Roskam's book is 1.0\n"
     ]
    },
    {
     "name": "stdout",
     "output_type": "stream",
     "text": [
      "NL: NLBGS 4 ; 1285208.24 0.00713075897\n"
     ]
    },
    {
     "name": "stderr",
     "output_type": "stream",
     "text": [
      "WARNING : Aspect ratio value outside of the range in Roskam's book k_a_delta, value clipped10.12\n",
      "WARNING : min value of Roskam's book is 0.0\n",
      "WARNING : max value of Roskam's book is 10.0\n",
      "WARNING : Aspect ratio value outside of the range in Roskam's book k_a_delta, value clipped10.12\n",
      "WARNING : min value of Roskam's book is 0.0\n",
      "WARNING : max value of Roskam's book is 10.0\n",
      "WARNING : Aspect ratio value outside of the range in Roskam's book k_a_delta, value clipped10.12\n",
      "WARNING : min value of Roskam's book is 0.0\n",
      "WARNING : max value of Roskam's book is 10.0\n",
      "WARNING : Aspect ratio value outside of the range in Roskam's book k_a_delta, value clipped10.12\n",
      "WARNING : min value of Roskam's book is 0.0\n",
      "WARNING : max value of Roskam's book is 10.0\n",
      "WARNING : Taper ratio outside of the range in Roskam's book k_ar_fuselage, value clipped[0.502]\n",
      "WARNING : min value of Roskam's book is 0.6\n",
      "WARNING : max value of Roskam's book is 1.0\n",
      "INFO    : Entering load factors computation\n",
      "INFO    : Entering mission computation\n",
      "INFO    : Entering mission computation\n",
      "INFO    : Entering mission computation\n",
      "INFO    : Looping on wing area with new value equal to [16.00879828]\n",
      "INFO    : Wing Area for mission fuel equal to [13.50642591]\n",
      "WARNING : Taper ratio outside of the range in Roskam's book k_ar_fuselage, value clipped[0.502]\n",
      "WARNING : min value of Roskam's book is 0.6\n",
      "WARNING : max value of Roskam's book is 1.0\n"
     ]
    },
    {
     "name": "stdout",
     "output_type": "stream",
     "text": [
      "NL: NLBGS 5 ; 721213.038 0.00400152768\n"
     ]
    },
    {
     "name": "stderr",
     "output_type": "stream",
     "text": [
      "WARNING : Aspect ratio value outside of the range in Roskam's book k_a_delta, value clipped10.12\n",
      "WARNING : min value of Roskam's book is 0.0\n",
      "WARNING : max value of Roskam's book is 10.0\n",
      "WARNING : Aspect ratio value outside of the range in Roskam's book k_a_delta, value clipped10.12\n",
      "WARNING : min value of Roskam's book is 0.0\n",
      "WARNING : max value of Roskam's book is 10.0\n",
      "WARNING : Aspect ratio value outside of the range in Roskam's book k_a_delta, value clipped10.12\n",
      "WARNING : min value of Roskam's book is 0.0\n",
      "WARNING : max value of Roskam's book is 10.0\n",
      "WARNING : Aspect ratio value outside of the range in Roskam's book k_a_delta, value clipped10.12\n",
      "WARNING : min value of Roskam's book is 0.0\n",
      "WARNING : max value of Roskam's book is 10.0\n",
      "WARNING : Taper ratio outside of the range in Roskam's book k_ar_fuselage, value clipped[0.502]\n",
      "WARNING : min value of Roskam's book is 0.6\n",
      "WARNING : max value of Roskam's book is 1.0\n",
      "INFO    : Entering load factors computation\n",
      "INFO    : Entering mission computation\n",
      "INFO    : Entering mission computation\n",
      "INFO    : Entering mission computation\n",
      "INFO    : Looping on wing area with new value equal to [16.25462634]\n",
      "INFO    : Wing Area for mission fuel equal to [13.32959581]\n",
      "WARNING : Taper ratio outside of the range in Roskam's book k_ar_fuselage, value clipped[0.502]\n",
      "WARNING : min value of Roskam's book is 0.6\n",
      "WARNING : max value of Roskam's book is 1.0\n"
     ]
    },
    {
     "name": "stdout",
     "output_type": "stream",
     "text": [
      "NL: NLBGS 6 ; 106251.023 0.000589515699\n"
     ]
    },
    {
     "name": "stderr",
     "output_type": "stream",
     "text": [
      "WARNING : Aspect ratio value outside of the range in Roskam's book k_a_delta, value clipped10.12\n",
      "WARNING : min value of Roskam's book is 0.0\n",
      "WARNING : max value of Roskam's book is 10.0\n",
      "WARNING : Aspect ratio value outside of the range in Roskam's book k_a_delta, value clipped10.12\n",
      "WARNING : min value of Roskam's book is 0.0\n",
      "WARNING : max value of Roskam's book is 10.0\n",
      "WARNING : Aspect ratio value outside of the range in Roskam's book k_a_delta, value clipped10.12\n",
      "WARNING : min value of Roskam's book is 0.0\n",
      "WARNING : max value of Roskam's book is 10.0\n",
      "WARNING : Aspect ratio value outside of the range in Roskam's book k_a_delta, value clipped10.12\n",
      "WARNING : min value of Roskam's book is 0.0\n",
      "WARNING : max value of Roskam's book is 10.0\n",
      "WARNING : Taper ratio outside of the range in Roskam's book k_ar_fuselage, value clipped[0.502]\n",
      "WARNING : min value of Roskam's book is 0.6\n",
      "WARNING : max value of Roskam's book is 1.0\n",
      "INFO    : Entering load factors computation\n",
      "INFO    : Entering mission computation\n",
      "INFO    : Entering mission computation\n",
      "INFO    : Entering mission computation\n",
      "INFO    : Looping on wing area with new value equal to [16.27309191]\n",
      "INFO    : Wing Area for mission fuel equal to [13.28310928]\n",
      "WARNING : Taper ratio outside of the range in Roskam's book k_ar_fuselage, value clipped[0.502]\n",
      "WARNING : min value of Roskam's book is 0.6\n",
      "WARNING : max value of Roskam's book is 1.0\n"
     ]
    },
    {
     "name": "stdout",
     "output_type": "stream",
     "text": [
      "NL: NLBGS 7 ; 115891.998 0.000643007009\n"
     ]
    },
    {
     "name": "stderr",
     "output_type": "stream",
     "text": [
      "WARNING : Aspect ratio value outside of the range in Roskam's book k_a_delta, value clipped10.12\n",
      "WARNING : min value of Roskam's book is 0.0\n",
      "WARNING : max value of Roskam's book is 10.0\n",
      "WARNING : Aspect ratio value outside of the range in Roskam's book k_a_delta, value clipped10.12\n",
      "WARNING : min value of Roskam's book is 0.0\n",
      "WARNING : max value of Roskam's book is 10.0\n",
      "WARNING : Aspect ratio value outside of the range in Roskam's book k_a_delta, value clipped10.12\n",
      "WARNING : min value of Roskam's book is 0.0\n",
      "WARNING : max value of Roskam's book is 10.0\n",
      "WARNING : Aspect ratio value outside of the range in Roskam's book k_a_delta, value clipped10.12\n",
      "WARNING : min value of Roskam's book is 0.0\n",
      "WARNING : max value of Roskam's book is 10.0\n",
      "WARNING : Taper ratio outside of the range in Roskam's book k_ar_fuselage, value clipped[0.502]\n",
      "WARNING : min value of Roskam's book is 0.6\n",
      "WARNING : max value of Roskam's book is 1.0\n",
      "INFO    : Entering load factors computation\n",
      "INFO    : Entering mission computation\n",
      "INFO    : Entering mission computation\n",
      "INFO    : Entering mission computation\n",
      "INFO    : Looping on wing area with new value equal to [16.24453622]\n",
      "INFO    : Wing Area for mission fuel equal to [13.27569372]\n",
      "WARNING : Taper ratio outside of the range in Roskam's book k_ar_fuselage, value clipped[0.502]\n",
      "WARNING : min value of Roskam's book is 0.6\n",
      "WARNING : max value of Roskam's book is 1.0\n"
     ]
    },
    {
     "name": "stdout",
     "output_type": "stream",
     "text": [
      "NL: NLBGS 8 ; 81897.0434 0.000454391794\n"
     ]
    },
    {
     "name": "stderr",
     "output_type": "stream",
     "text": [
      "WARNING : Aspect ratio value outside of the range in Roskam's book k_a_delta, value clipped10.12\n",
      "WARNING : min value of Roskam's book is 0.0\n",
      "WARNING : max value of Roskam's book is 10.0\n",
      "WARNING : Aspect ratio value outside of the range in Roskam's book k_a_delta, value clipped10.12\n",
      "WARNING : min value of Roskam's book is 0.0\n",
      "WARNING : max value of Roskam's book is 10.0\n",
      "WARNING : Aspect ratio value outside of the range in Roskam's book k_a_delta, value clipped10.12\n",
      "WARNING : min value of Roskam's book is 0.0\n",
      "WARNING : max value of Roskam's book is 10.0\n",
      "WARNING : Aspect ratio value outside of the range in Roskam's book k_a_delta, value clipped10.12\n",
      "WARNING : min value of Roskam's book is 0.0\n",
      "WARNING : max value of Roskam's book is 10.0\n",
      "WARNING : Taper ratio outside of the range in Roskam's book k_ar_fuselage, value clipped[0.502]\n",
      "WARNING : min value of Roskam's book is 0.6\n",
      "WARNING : max value of Roskam's book is 1.0\n",
      "INFO    : Entering load factors computation\n",
      "INFO    : Entering mission computation\n",
      "INFO    : Entering mission computation\n",
      "INFO    : Entering mission computation\n",
      "INFO    : Looping on wing area with new value equal to [16.22605939]\n",
      "INFO    : Wing Area for mission fuel equal to [13.28267658]\n",
      "WARNING : Taper ratio outside of the range in Roskam's book k_ar_fuselage, value clipped[0.502]\n",
      "WARNING : min value of Roskam's book is 0.6\n",
      "WARNING : max value of Roskam's book is 1.0\n"
     ]
    },
    {
     "name": "stdout",
     "output_type": "stream",
     "text": [
      "NL: NLBGS 9 ; 64029.084 0.000355254465\n"
     ]
    },
    {
     "name": "stderr",
     "output_type": "stream",
     "text": [
      "WARNING : Aspect ratio value outside of the range in Roskam's book k_a_delta, value clipped10.12\n",
      "WARNING : min value of Roskam's book is 0.0\n",
      "WARNING : max value of Roskam's book is 10.0\n",
      "WARNING : Aspect ratio value outside of the range in Roskam's book k_a_delta, value clipped10.12\n",
      "WARNING : min value of Roskam's book is 0.0\n",
      "WARNING : max value of Roskam's book is 10.0\n",
      "WARNING : Aspect ratio value outside of the range in Roskam's book k_a_delta, value clipped10.12\n",
      "WARNING : min value of Roskam's book is 0.0\n",
      "WARNING : max value of Roskam's book is 10.0\n",
      "WARNING : Aspect ratio value outside of the range in Roskam's book k_a_delta, value clipped10.12\n",
      "WARNING : min value of Roskam's book is 0.0\n",
      "WARNING : max value of Roskam's book is 10.0\n",
      "WARNING : Taper ratio outside of the range in Roskam's book k_ar_fuselage, value clipped[0.502]\n",
      "WARNING : min value of Roskam's book is 0.6\n",
      "WARNING : max value of Roskam's book is 1.0\n",
      "INFO    : Entering load factors computation\n",
      "INFO    : Entering mission computation\n",
      "INFO    : Entering mission computation\n",
      "INFO    : Entering mission computation\n",
      "INFO    : Looping on wing area with new value equal to [16.22516135]\n",
      "INFO    : Wing Area for mission fuel equal to [13.27246305]\n",
      "WARNING : Taper ratio outside of the range in Roskam's book k_ar_fuselage, value clipped[0.502]\n",
      "WARNING : min value of Roskam's book is 0.6\n",
      "WARNING : max value of Roskam's book is 1.0\n"
     ]
    },
    {
     "name": "stdout",
     "output_type": "stream",
     "text": [
      "NL: NLBGS 10 ; 44255.7424 0.000245545448\n"
     ]
    },
    {
     "name": "stderr",
     "output_type": "stream",
     "text": [
      "WARNING : Aspect ratio value outside of the range in Roskam's book k_a_delta, value clipped10.12\n",
      "WARNING : min value of Roskam's book is 0.0\n",
      "WARNING : max value of Roskam's book is 10.0\n",
      "WARNING : Aspect ratio value outside of the range in Roskam's book k_a_delta, value clipped10.12\n",
      "WARNING : min value of Roskam's book is 0.0\n",
      "WARNING : max value of Roskam's book is 10.0\n",
      "WARNING : Aspect ratio value outside of the range in Roskam's book k_a_delta, value clipped10.12\n",
      "WARNING : min value of Roskam's book is 0.0\n",
      "WARNING : max value of Roskam's book is 10.0\n",
      "WARNING : Aspect ratio value outside of the range in Roskam's book k_a_delta, value clipped10.12\n",
      "WARNING : min value of Roskam's book is 0.0\n",
      "WARNING : max value of Roskam's book is 10.0\n",
      "WARNING : Taper ratio outside of the range in Roskam's book k_ar_fuselage, value clipped[0.502]\n",
      "WARNING : min value of Roskam's book is 0.6\n",
      "WARNING : max value of Roskam's book is 1.0\n",
      "INFO    : Entering load factors computation\n",
      "INFO    : Entering mission computation\n",
      "INFO    : Entering mission computation\n",
      "INFO    : Entering mission computation\n",
      "INFO    : Looping on wing area with new value equal to [16.21967889]\n",
      "INFO    : Wing Area for mission fuel equal to [13.27488938]\n",
      "WARNING : Taper ratio outside of the range in Roskam's book k_ar_fuselage, value clipped[0.502]\n",
      "WARNING : min value of Roskam's book is 0.6\n",
      "WARNING : max value of Roskam's book is 1.0\n"
     ]
    },
    {
     "name": "stdout",
     "output_type": "stream",
     "text": [
      "NL: NLBGS 11 ; 29052.0728 0.000161190477\n"
     ]
    },
    {
     "name": "stderr",
     "output_type": "stream",
     "text": [
      "WARNING : Aspect ratio value outside of the range in Roskam's book k_a_delta, value clipped10.12\n",
      "WARNING : min value of Roskam's book is 0.0\n",
      "WARNING : max value of Roskam's book is 10.0\n",
      "WARNING : Aspect ratio value outside of the range in Roskam's book k_a_delta, value clipped10.12\n",
      "WARNING : min value of Roskam's book is 0.0\n",
      "WARNING : max value of Roskam's book is 10.0\n",
      "WARNING : Aspect ratio value outside of the range in Roskam's book k_a_delta, value clipped10.12\n",
      "WARNING : min value of Roskam's book is 0.0\n",
      "WARNING : max value of Roskam's book is 10.0\n",
      "WARNING : Aspect ratio value outside of the range in Roskam's book k_a_delta, value clipped10.12\n",
      "WARNING : min value of Roskam's book is 0.0\n",
      "WARNING : max value of Roskam's book is 10.0\n",
      "WARNING : Taper ratio outside of the range in Roskam's book k_ar_fuselage, value clipped[0.502]\n",
      "WARNING : min value of Roskam's book is 0.6\n",
      "WARNING : max value of Roskam's book is 1.0\n",
      "INFO    : Entering load factors computation\n",
      "INFO    : Entering mission computation\n",
      "INFO    : Entering mission computation\n",
      "INFO    : Entering mission computation\n",
      "INFO    : Looping on wing area with new value equal to [16.2180049]\n",
      "INFO    : Wing Area for mission fuel equal to [13.2721944]\n",
      "WARNING : Taper ratio outside of the range in Roskam's book k_ar_fuselage, value clipped[0.502]\n",
      "WARNING : min value of Roskam's book is 0.6\n",
      "WARNING : max value of Roskam's book is 1.0\n"
     ]
    },
    {
     "name": "stdout",
     "output_type": "stream",
     "text": [
      "NL: NLBGS 12 ; 22824.0183 0.000126635178\n"
     ]
    },
    {
     "name": "stderr",
     "output_type": "stream",
     "text": [
      "WARNING : Aspect ratio value outside of the range in Roskam's book k_a_delta, value clipped10.12\n",
      "WARNING : min value of Roskam's book is 0.0\n",
      "WARNING : max value of Roskam's book is 10.0\n",
      "WARNING : Aspect ratio value outside of the range in Roskam's book k_a_delta, value clipped10.12\n",
      "WARNING : min value of Roskam's book is 0.0\n",
      "WARNING : max value of Roskam's book is 10.0\n",
      "WARNING : Aspect ratio value outside of the range in Roskam's book k_a_delta, value clipped10.12\n",
      "WARNING : min value of Roskam's book is 0.0\n",
      "WARNING : max value of Roskam's book is 10.0\n",
      "WARNING : Aspect ratio value outside of the range in Roskam's book k_a_delta, value clipped10.12\n",
      "WARNING : min value of Roskam's book is 0.0\n",
      "WARNING : max value of Roskam's book is 10.0\n",
      "WARNING : Taper ratio outside of the range in Roskam's book k_ar_fuselage, value clipped[0.502]\n",
      "WARNING : min value of Roskam's book is 0.6\n",
      "WARNING : max value of Roskam's book is 1.0\n",
      "INFO    : Entering load factors computation\n",
      "INFO    : Entering mission computation\n",
      "INFO    : Entering mission computation\n",
      "INFO    : Entering mission computation\n",
      "INFO    : Looping on wing area with new value equal to [16.2158538]\n",
      "INFO    : Wing Area for mission fuel equal to [13.27437239]\n",
      "WARNING : Taper ratio outside of the range in Roskam's book k_ar_fuselage, value clipped[0.502]\n",
      "WARNING : min value of Roskam's book is 0.6\n",
      "WARNING : max value of Roskam's book is 1.0\n"
     ]
    },
    {
     "name": "stdout",
     "output_type": "stream",
     "text": [
      "NL: NLBGS 13 ; 15976.3362 8.86419796e-05\n"
     ]
    },
    {
     "name": "stderr",
     "output_type": "stream",
     "text": [
      "WARNING : Aspect ratio value outside of the range in Roskam's book k_a_delta, value clipped10.12\n",
      "WARNING : min value of Roskam's book is 0.0\n",
      "WARNING : max value of Roskam's book is 10.0\n",
      "WARNING : Aspect ratio value outside of the range in Roskam's book k_a_delta, value clipped10.12\n",
      "WARNING : min value of Roskam's book is 0.0\n",
      "WARNING : max value of Roskam's book is 10.0\n",
      "WARNING : Aspect ratio value outside of the range in Roskam's book k_a_delta, value clipped10.12\n",
      "WARNING : min value of Roskam's book is 0.0\n",
      "WARNING : max value of Roskam's book is 10.0\n",
      "WARNING : Aspect ratio value outside of the range in Roskam's book k_a_delta, value clipped10.12\n",
      "WARNING : min value of Roskam's book is 0.0\n",
      "WARNING : max value of Roskam's book is 10.0\n",
      "WARNING : Taper ratio outside of the range in Roskam's book k_ar_fuselage, value clipped[0.502]\n",
      "WARNING : min value of Roskam's book is 0.6\n",
      "WARNING : max value of Roskam's book is 1.0\n",
      "INFO    : Entering load factors computation\n",
      "INFO    : Entering mission computation\n",
      "INFO    : Entering mission computation\n",
      "INFO    : Entering mission computation\n",
      "INFO    : Looping on wing area with new value equal to [16.21609219]\n",
      "INFO    : Wing Area for mission fuel equal to [13.2727742]\n",
      "WARNING : Taper ratio outside of the range in Roskam's book k_ar_fuselage, value clipped[0.502]\n",
      "WARNING : min value of Roskam's book is 0.6\n",
      "WARNING : max value of Roskam's book is 1.0\n"
     ]
    },
    {
     "name": "stdout",
     "output_type": "stream",
     "text": [
      "NL: NLBGS 14 ; 11716.0454 6.50044822e-05\n"
     ]
    },
    {
     "name": "stderr",
     "output_type": "stream",
     "text": [
      "WARNING : Aspect ratio value outside of the range in Roskam's book k_a_delta, value clipped10.12\n",
      "WARNING : min value of Roskam's book is 0.0\n",
      "WARNING : max value of Roskam's book is 10.0\n",
      "WARNING : Aspect ratio value outside of the range in Roskam's book k_a_delta, value clipped10.12\n",
      "WARNING : min value of Roskam's book is 0.0\n",
      "WARNING : max value of Roskam's book is 10.0\n",
      "WARNING : Aspect ratio value outside of the range in Roskam's book k_a_delta, value clipped10.12\n",
      "WARNING : min value of Roskam's book is 0.0\n",
      "WARNING : max value of Roskam's book is 10.0\n",
      "WARNING : Aspect ratio value outside of the range in Roskam's book k_a_delta, value clipped10.12\n",
      "WARNING : min value of Roskam's book is 0.0\n",
      "WARNING : max value of Roskam's book is 10.0\n",
      "WARNING : Taper ratio outside of the range in Roskam's book k_ar_fuselage, value clipped[0.502]\n",
      "WARNING : min value of Roskam's book is 0.6\n",
      "WARNING : max value of Roskam's book is 1.0\n",
      "INFO    : Entering load factors computation\n",
      "INFO    : Entering mission computation\n",
      "INFO    : Entering mission computation\n",
      "INFO    : Entering mission computation\n",
      "INFO    : Looping on wing area with new value equal to [16.21539766]\n",
      "INFO    : Wing Area for mission fuel equal to [13.27384463]\n",
      "WARNING : Taper ratio outside of the range in Roskam's book k_ar_fuselage, value clipped[0.502]\n",
      "WARNING : min value of Roskam's book is 0.6\n",
      "WARNING : max value of Roskam's book is 1.0\n"
     ]
    },
    {
     "name": "stdout",
     "output_type": "stream",
     "text": [
      "NL: NLBGS 15 ; 8258.65903 4.58217628e-05\n"
     ]
    },
    {
     "name": "stderr",
     "output_type": "stream",
     "text": [
      "WARNING : Aspect ratio value outside of the range in Roskam's book k_a_delta, value clipped10.12\n",
      "WARNING : min value of Roskam's book is 0.0\n",
      "WARNING : max value of Roskam's book is 10.0\n",
      "WARNING : Aspect ratio value outside of the range in Roskam's book k_a_delta, value clipped10.12\n",
      "WARNING : min value of Roskam's book is 0.0\n",
      "WARNING : max value of Roskam's book is 10.0\n",
      "WARNING : Aspect ratio value outside of the range in Roskam's book k_a_delta, value clipped10.12\n",
      "WARNING : min value of Roskam's book is 0.0\n",
      "WARNING : max value of Roskam's book is 10.0\n",
      "WARNING : Aspect ratio value outside of the range in Roskam's book k_a_delta, value clipped10.12\n",
      "WARNING : min value of Roskam's book is 0.0\n",
      "WARNING : max value of Roskam's book is 10.0\n",
      "WARNING : Taper ratio outside of the range in Roskam's book k_ar_fuselage, value clipped[0.502]\n",
      "WARNING : min value of Roskam's book is 0.6\n",
      "WARNING : max value of Roskam's book is 1.0\n",
      "INFO    : Entering load factors computation\n",
      "INFO    : Entering mission computation\n",
      "INFO    : Entering mission computation\n",
      "INFO    : Entering mission computation\n",
      "INFO    : Looping on wing area with new value equal to [16.21561249]\n",
      "INFO    : Wing Area for mission fuel equal to [13.27307467]\n",
      "WARNING : Taper ratio outside of the range in Roskam's book k_ar_fuselage, value clipped[0.502]\n",
      "WARNING : min value of Roskam's book is 0.6\n",
      "WARNING : max value of Roskam's book is 1.0\n"
     ]
    },
    {
     "name": "stdout",
     "output_type": "stream",
     "text": [
      "NL: NLBGS 16 ; 6059.02336 3.3617459e-05\n"
     ]
    },
    {
     "name": "stderr",
     "output_type": "stream",
     "text": [
      "WARNING : Aspect ratio value outside of the range in Roskam's book k_a_delta, value clipped10.12\n",
      "WARNING : min value of Roskam's book is 0.0\n",
      "WARNING : max value of Roskam's book is 10.0\n",
      "WARNING : Aspect ratio value outside of the range in Roskam's book k_a_delta, value clipped10.12\n",
      "WARNING : min value of Roskam's book is 0.0\n",
      "WARNING : max value of Roskam's book is 10.0\n",
      "WARNING : Aspect ratio value outside of the range in Roskam's book k_a_delta, value clipped10.12\n",
      "WARNING : min value of Roskam's book is 0.0\n",
      "WARNING : max value of Roskam's book is 10.0\n",
      "WARNING : Aspect ratio value outside of the range in Roskam's book k_a_delta, value clipped10.12\n",
      "WARNING : min value of Roskam's book is 0.0\n",
      "WARNING : max value of Roskam's book is 10.0\n",
      "WARNING : Taper ratio outside of the range in Roskam's book k_ar_fuselage, value clipped[0.502]\n",
      "WARNING : min value of Roskam's book is 0.6\n",
      "WARNING : max value of Roskam's book is 1.0\n",
      "INFO    : Entering load factors computation\n",
      "INFO    : Entering mission computation\n",
      "INFO    : Entering mission computation\n",
      "INFO    : Entering mission computation\n",
      "INFO    : Looping on wing area with new value equal to [16.21531868]\n",
      "INFO    : Wing Area for mission fuel equal to [13.27365099]\n",
      "WARNING : Taper ratio outside of the range in Roskam's book k_ar_fuselage, value clipped[0.502]\n",
      "WARNING : min value of Roskam's book is 0.6\n",
      "WARNING : max value of Roskam's book is 1.0\n"
     ]
    },
    {
     "name": "stdout",
     "output_type": "stream",
     "text": [
      "NL: NLBGS 17 ; 4339.1195 2.40748653e-05\n"
     ]
    },
    {
     "name": "stderr",
     "output_type": "stream",
     "text": [
      "WARNING : Aspect ratio value outside of the range in Roskam's book k_a_delta, value clipped10.12\n",
      "WARNING : min value of Roskam's book is 0.0\n",
      "WARNING : max value of Roskam's book is 10.0\n",
      "WARNING : Aspect ratio value outside of the range in Roskam's book k_a_delta, value clipped10.12\n",
      "WARNING : min value of Roskam's book is 0.0\n",
      "WARNING : max value of Roskam's book is 10.0\n",
      "WARNING : Aspect ratio value outside of the range in Roskam's book k_a_delta, value clipped10.12\n",
      "WARNING : min value of Roskam's book is 0.0\n",
      "WARNING : max value of Roskam's book is 10.0\n",
      "WARNING : Aspect ratio value outside of the range in Roskam's book k_a_delta, value clipped10.12\n",
      "WARNING : min value of Roskam's book is 0.0\n",
      "WARNING : max value of Roskam's book is 10.0\n",
      "WARNING : Taper ratio outside of the range in Roskam's book k_ar_fuselage, value clipped[0.502]\n",
      "WARNING : min value of Roskam's book is 0.6\n",
      "WARNING : max value of Roskam's book is 1.0\n",
      "INFO    : Entering load factors computation\n",
      "INFO    : Entering mission computation\n",
      "INFO    : Entering mission computation\n",
      "INFO    : Entering mission computation\n",
      "INFO    : Looping on wing area with new value equal to [16.21548079]\n",
      "INFO    : Wing Area for mission fuel equal to [13.27324111]\n",
      "WARNING : Taper ratio outside of the range in Roskam's book k_ar_fuselage, value clipped[0.502]\n",
      "WARNING : min value of Roskam's book is 0.6\n",
      "WARNING : max value of Roskam's book is 1.0\n"
     ]
    },
    {
     "name": "stdout",
     "output_type": "stream",
     "text": [
      "NL: NLBGS 18 ; 3140.95046 1.74270286e-05\n"
     ]
    },
    {
     "name": "stderr",
     "output_type": "stream",
     "text": [
      "WARNING : Aspect ratio value outside of the range in Roskam's book k_a_delta, value clipped10.12\n",
      "WARNING : min value of Roskam's book is 0.0\n",
      "WARNING : max value of Roskam's book is 10.0\n",
      "WARNING : Aspect ratio value outside of the range in Roskam's book k_a_delta, value clipped10.12\n",
      "WARNING : min value of Roskam's book is 0.0\n",
      "WARNING : max value of Roskam's book is 10.0\n",
      "WARNING : Aspect ratio value outside of the range in Roskam's book k_a_delta, value clipped10.12\n",
      "WARNING : min value of Roskam's book is 0.0\n",
      "WARNING : max value of Roskam's book is 10.0\n",
      "WARNING : Aspect ratio value outside of the range in Roskam's book k_a_delta, value clipped10.12\n",
      "WARNING : min value of Roskam's book is 0.0\n",
      "WARNING : max value of Roskam's book is 10.0\n",
      "WARNING : Taper ratio outside of the range in Roskam's book k_ar_fuselage, value clipped[0.502]\n",
      "WARNING : min value of Roskam's book is 0.6\n",
      "WARNING : max value of Roskam's book is 1.0\n",
      "INFO    : Entering load factors computation\n",
      "INFO    : Entering mission computation\n",
      "INFO    : Entering mission computation\n",
      "INFO    : Entering mission computation\n",
      "INFO    : Looping on wing area with new value equal to [16.21534663]\n",
      "INFO    : Wing Area for mission fuel equal to [13.27353706]\n",
      "WARNING : Taper ratio outside of the range in Roskam's book k_ar_fuselage, value clipped[0.502]\n",
      "WARNING : min value of Roskam's book is 0.6\n",
      "WARNING : max value of Roskam's book is 1.0\n"
     ]
    },
    {
     "name": "stdout",
     "output_type": "stream",
     "text": [
      "NL: NLBGS 19 ; 2258.08211 1.25285839e-05\n"
     ]
    },
    {
     "name": "stderr",
     "output_type": "stream",
     "text": [
      "WARNING : Aspect ratio value outside of the range in Roskam's book k_a_delta, value clipped10.12\n",
      "WARNING : min value of Roskam's book is 0.0\n",
      "WARNING : max value of Roskam's book is 10.0\n",
      "WARNING : Aspect ratio value outside of the range in Roskam's book k_a_delta, value clipped10.12\n",
      "WARNING : min value of Roskam's book is 0.0\n",
      "WARNING : max value of Roskam's book is 10.0\n",
      "WARNING : Aspect ratio value outside of the range in Roskam's book k_a_delta, value clipped10.12\n",
      "WARNING : min value of Roskam's book is 0.0\n",
      "WARNING : max value of Roskam's book is 10.0\n",
      "WARNING : Aspect ratio value outside of the range in Roskam's book k_a_delta, value clipped10.12\n",
      "WARNING : min value of Roskam's book is 0.0\n",
      "WARNING : max value of Roskam's book is 10.0\n",
      "WARNING : Taper ratio outside of the range in Roskam's book k_ar_fuselage, value clipped[0.502]\n",
      "WARNING : min value of Roskam's book is 0.6\n",
      "WARNING : max value of Roskam's book is 1.0\n",
      "INFO    : Entering load factors computation\n",
      "INFO    : Entering mission computation\n",
      "INFO    : Entering mission computation\n",
      "INFO    : Entering mission computation\n",
      "INFO    : Looping on wing area with new value equal to [16.21543549]\n",
      "INFO    : Wing Area for mission fuel equal to [13.27332473]\n"
     ]
    },
    {
     "name": "stdout",
     "output_type": "stream",
     "text": [
      "NL: NLBGS 20 ; 1632.2973 9.05652353e-06\n",
      "NL: NLBGS Converged\n"
     ]
    },
    {
     "name": "stderr",
     "output_type": "stream",
     "text": [
      "INFO    : Computation finished after 1186.74 seconds\n",
      "INFO    : Problem outputs written in C:\\Users\\Lucas\\FAST-OAD-GA\\FAST-GA\\src\\fastga\\notebooks\\Analysis Mode\\workdir\\problem_outputs.xml\n"
     ]
    }
   ],
   "source": [
    "eval_problem = api_cs25.evaluate_problem(WORK_FOLDER_CONFIGURATION_FILE, overwrite=True)"
   ]
  },
  {
   "cell_type": "markdown",
   "metadata": {},
   "source": [
    "## Running complementary methods\n",
    "\n",
    "- Computation of the drag polars (for the equilibrated polar a default x_cg is taken, the widget can be used in the postprocessing notebook)\n",
    "- Load Analysis Module (Wings + Fuselage)\n",
    "- Payload Range (takes 1-2 minutes to complete)\n",
    "\n",
    "The engine id has to be manually specified by the user."
   ]
  },
  {
   "cell_type": "code",
   "execution_count": 5,
   "metadata": {
    "scrolled": false
   },
   "outputs": [
    {
     "name": "stderr",
     "output_type": "stream",
     "text": [
      "INFO    : Entering mission computation\n",
      "INFO    : Entering mission computation\n",
      "INFO    : Entering mission computation\n",
      "INFO    : Entering mission computation\n",
      "INFO    : Entering mission computation\n",
      "INFO    : Entering mission computation\n",
      "INFO    : Entering mission computation\n",
      "INFO    : Entering mission computation\n",
      "INFO    : Entering mission computation\n",
      "INFO    : Entering mission computation\n",
      "INFO    : Entering mission computation\n",
      "INFO    : Entering mission computation\n",
      "INFO    : Entering mission computation\n",
      "INFO    : Entering mission computation\n",
      "INFO    : Entering mission computation\n",
      "INFO    : Entering mission computation\n",
      "INFO    : Entering mission computation\n",
      "INFO    : Entering mission computation\n",
      "WARNING : Number of fsolve iterations for point B :\n",
      "WARNING : 4\n",
      "INFO    : Entering mission computation\n",
      "INFO    : Entering mission computation\n",
      "INFO    : Entering mission computation\n",
      "INFO    : Entering mission computation\n",
      "INFO    : Entering mission computation\n",
      "INFO    : Entering mission computation\n",
      "INFO    : Entering mission computation\n",
      "INFO    : Entering mission computation\n",
      "INFO    : Entering mission computation\n",
      "INFO    : Entering mission computation\n",
      "INFO    : Entering mission computation\n",
      "INFO    : Entering mission computation\n",
      "INFO    : Entering mission computation\n",
      "INFO    : Entering mission computation\n",
      "INFO    : Entering mission computation\n",
      "INFO    : Entering mission computation\n",
      "INFO    : Entering mission computation\n",
      "INFO    : Entering mission computation\n",
      "INFO    : Number of fsolve iterations for point D :\n",
      "INFO    : 4\n",
      "INFO    : Entering mission computation\n",
      "INFO    : Entering mission computation\n",
      "INFO    : Entering mission computation\n",
      "INFO    : Entering mission computation\n",
      "INFO    : Entering mission computation\n",
      "INFO    : Entering mission computation\n",
      "INFO    : Entering mission computation\n",
      "INFO    : Entering mission computation\n",
      "INFO    : Entering mission computation\n",
      "INFO    : Entering mission computation\n",
      "INFO    : Entering mission computation\n",
      "INFO    : Entering mission computation\n",
      "INFO    : Entering mission computation\n",
      "INFO    : Entering mission computation\n",
      "INFO    : Entering mission computation\n",
      "INFO    : Entering mission computation\n",
      "INFO    : Entering mission computation\n",
      "INFO    : Entering mission computation\n",
      "WARNING : Number of fsolve iterations for point E :\n",
      "WARNING : 4\n",
      "c:\\users\\lucas\\fast-oad-ga\\venvtest\\lib\\site-packages\\numpy\\core\\_asarray.py:102: VisibleDeprecationWarning: Creating an ndarray from ragged nested sequences (which is a list-or-tuple of lists-or-tuples-or ndarrays with different lengths or shapes) is deprecated. If you meant to do this, you must specify 'dtype=object' when creating the ndarray.\n",
      "  return array(a, dtype, copy=False, order=order)\n"
     ]
    }
   ],
   "source": [
    "from fastga.models.aerodynamics.components import ComputePolar\n",
    "from fastga.models.performances.payload_range import ComputePayloadRange\n",
    "from fastga.models.load_analysis.loads import Loads\n",
    "\n",
    "\n",
    "OUTPUT_MDA_FILE = pth.join(WORK_FOLDER_PATH,'problem_outputs.xml')\n",
    "# engine_id = \"fastga.wrapper.propulsion.basic_turboprop\"\n",
    "engine_id = \"fastga.wrapper.propulsion.basicIC_engine\"\n",
    "\n",
    "\n",
    "# POLAR\n",
    "compute_polar = api_cs23.generate_block_analysis(\n",
    "        ComputePolar(),\n",
    "        [],\n",
    "        str(OUTPUT_MDA_FILE),\n",
    "        True,\n",
    "    )\n",
    "output = compute_polar({})\n",
    "\n",
    "# LOAD ANALYSIS\n",
    "compute_loads = api_cs23.generate_block_analysis(\n",
    "        Loads(),\n",
    "        [],\n",
    "        str(OUTPUT_MDA_FILE),\n",
    "        True,\n",
    "    )\n",
    "output = compute_loads({})\n",
    "\n",
    "\n",
    "# PAYLOAD RANGE\n",
    "compute_payload_range = api_cs23.generate_block_analysis(\n",
    "        ComputePayloadRange(\n",
    "            propulsion_id=engine_id,\n",
    "        ),\n",
    "        [],\n",
    "        str(OUTPUT_MDA_FILE),\n",
    "        True,\n",
    ")\n",
    "output = compute_payload_range({})"
   ]
  },
  {
   "cell_type": "markdown",
   "metadata": {},
   "source": [
    "## Save files for postprocessing or for the analysis mode"
   ]
  },
  {
   "cell_type": "code",
   "execution_count": 6,
   "metadata": {},
   "outputs": [
    {
     "data": {
      "text/plain": [
       "'data\\\\output_mda_cirrus_sr22.xml'"
      ]
     },
     "execution_count": 6,
     "metadata": {},
     "output_type": "execute_result"
    }
   ],
   "source": [
    "if ref_aircraft == 'beechcraft_76.xml':\n",
    "    FINAL_OUTPUT_FILE = pth.join(DATA_FOLDER_PATH, 'output_mda_beech.xml')\n",
    "elif ref_aircraft == 'cirrus_sr22.xml':\n",
    "    FINAL_OUTPUT_FILE = pth.join(DATA_FOLDER_PATH, 'output_mda_cirrus_sr22.xml')\n",
    "else:\n",
    "    FINAL_OUTPUT_FILE = pth.join(DATA_FOLDER_PATH, 'output_mda_tbm930.xml')\n",
    "shutil.copy(OUTPUT_MDA_FILE, FINAL_OUTPUT_FILE)"
   ]
  },
  {
   "cell_type": "code",
   "execution_count": null,
   "metadata": {},
   "outputs": [],
   "source": []
  }
 ],
 "metadata": {
  "kernelspec": {
   "display_name": "Python 3",
   "language": "python",
   "name": "python3"
  },
  "language_info": {
   "codemirror_mode": {
    "name": "ipython",
    "version": 3
   },
   "file_extension": ".py",
   "mimetype": "text/x-python",
   "name": "python",
   "nbconvert_exporter": "python",
   "pygments_lexer": "ipython3",
   "version": "3.9.4"
  }
 },
 "nbformat": 4,
 "nbformat_minor": 4
}
