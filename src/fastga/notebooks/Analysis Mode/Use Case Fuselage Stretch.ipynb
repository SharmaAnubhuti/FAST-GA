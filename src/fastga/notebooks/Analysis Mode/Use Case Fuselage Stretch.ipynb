{
 "cells": [
  {
   "cell_type": "markdown",
   "metadata": {},
   "source": [
    "<div class=\"row\">\n",
    "  <div class=\"column\">\n",
    "    <img src=\"./img/logo-onera.png\" width=\"200\">\n",
    "  </div>\n",
    "  <div class=\"column\">\n",
    "    <img src=\"./img/logo-ISAE_SUPAERO.png\" width=\"200\">\n",
    "  </div>\n",
    "</div>"
   ]
  },
  {
   "cell_type": "markdown",
   "metadata": {},
   "source": [
    "# Modification of the fuselage cabin length of an aircraft.\n",
    "\n",
    "This notebook aims to compare a reference architecture represented by the .xml file of an aircraft (Beechcraft 76, Cirrus 22, TBM-900) with a modified configuration. The modified architecture is produced by the FAST-OAD-GA module called modify_config, which creates a new .xml file based on the reference file. The .xml file of the modified architecture then goes through all of the FAST-OAD-GA modules. Once it is done, the consequences of the geometrical changes on the aerodynamics, the performance and the weight of the aircraft can be compared with the reference aircraft in the post-processing notebook.\n",
    "\n",
    "The reference aircraft is preferably the output of a MultiDisciplinary Analysis. Please note that if the relative tolerance of the MDA is quite rough (rtol >= 1e3) then it is probable that the aircraft will undergo visible geometrical modifications when passed through the Geometry module. These modifications have nothing to do with the present use case and to avoid them it is preferable to perform a MDA with a higher accuracy (rtol < 1e4). In that way the only visible modifications will be the one intended by the use case at hand and the rest of the aircraft geometry will remain untouched. The use of the dedicated notebook \"MDA (adapted for analysis mode)\" will prevent the user from encountering these issues.\n",
    "\n",
    "The aircraft modification computed and studied in this notebook is the increase of the fuselage cabin length. The user has to specify this length, or can choose to add a row of seats. The user can also play on other parameters :\n",
    "- The relative position of the added section with respect to the wings (in front of or behind the wings)\n",
    "- Add passengers to the design mission\n",
    "- Add luggage mass to the design mission\n",
    "\n",
    "Like in the tutorials, the structure of the notebook is based on data transfers between different folders :\n",
    "- The data folder stocks the MDA outputs of the reference aircrafts. These files serve as reference files for the comparison.\n",
    "- The workdir folder stocks the .xml files of the modified architectures passing through the modules of FAST-OAD-GA.\n",
    "- The output folder stocks the final .xml files, which are ready for post-processing.\n",
    "\n",
    "For a proper notebook execution, the use of the analysis_mode branch of FAST-GA-OAD is strongly recommended.\n",
    "\n",
    "If the user wants to perform a new analysis after the notebook cells have already been run, for any change in the widget values, in the configuration files or in the aircraft modification parameters it is advised to restart the kernel to avoid unwelcomed inconsistencies."
   ]
  },
  {
   "cell_type": "markdown",
   "metadata": {},
   "source": [
    "## 1. Initialization of the work environment"
   ]
  },
  {
   "cell_type": "markdown",
   "metadata": {},
   "source": [
    "### Choice of the aircraft\n",
    "\n",
    "The available aircrafts are :\n",
    "\n",
    "- Beechcraft Duchess 76\n",
    "- Cirrus SR22\n",
    "- TBM 930\n",
    "\n",
    "The Beechcraft 76 is the default option."
   ]
  },
  {
   "cell_type": "code",
   "execution_count": 1,
   "metadata": {},
   "outputs": [
    {
     "name": "stderr",
     "output_type": "stream",
     "text": [
      "Failed to import module fastga.models.weight.cg.unitary_tests.test_cirrus_sr22.py\n",
      "Failed to import module fastga.models.performances.unitary_tests.test_cirrus_sr22.py\n",
      "Failed to import module fastga.models.handling_qualities.unitary_tests.test_beechcraft_76.py\n",
      "Failed to import module fastga.models.handling_qualities.unitary_tests.test_cirrus_sr22.py\n",
      "Failed to import module fastga.models.weight.cg.unitary_tests.test_beechcraft_76.py\n",
      "Failed to import module fastga.models.aerodynamics.unitary_tests.test_cirrus_sr22.py\n",
      "Failed to import module fastga.models.aerodynamics.unitary_tests.test_functions.py\n",
      "Failed to import module fastga.models.propulsion.fuel_propulsion.turboprop_simple.unitary_tests.test_openmdao_engine.py\n",
      "Failed to import module fastga.models.geometry.unitary_tests.test_beechcraft_76.py\n",
      "Failed to import module fastga.models.geometry.unitary_tests.test_cirrus_sr22.py\n",
      "Failed to import module fastga.models.loops.unitary_tests.test_wing_area.py\n",
      "Failed to import module fastga.models.weight.mass_breakdown.unitary_tests.test_beechcraft_76.py\n",
      "Failed to import module fastga.models.performances.unitary_tests.test_beechcraft_76.py\n",
      "Failed to import module fastga.models.propulsion.fuel_propulsion.basicIC_engine.unitary_tests.test_openmdao_engine.py\n",
      "Failed to import module fastga.models.load_analysis.unitary_tests.test_cirrus_sr22.py\n",
      "Failed to import module fastga.models.weight.mass_breakdown.unitary_tests.test_cirrus_sr22.py\n",
      "Failed to import module fastga.models.load_analysis.unitary_tests.test_beechcraft_76.py\n",
      "Failed to import module fastga.models.aerodynamics.unitary_tests.test_beechcraft_76.py\n"
     ]
    },
    {
     "name": "stdout",
     "output_type": "stream",
     "text": [
      "The reference aircraft .xml file is output_mda_beech.xml\n"
     ]
    },
    {
     "data": {
      "application/vnd.jupyter.widget-view+json": {
       "model_id": "9e80c4da346e461d91b0d27b5c3ee35b",
       "version_major": 2,
       "version_minor": 0
      },
      "text/plain": [
       "Dropdown(description='Reference Aircraft:', layout=Layout(width='30%'), options=(('Beechcraft Duchess 76', 'ou…"
      ]
     },
     "metadata": {},
     "output_type": "display_data"
    }
   ],
   "source": [
    "from ipywidgets import widgets, Layout\n",
    "from fastoad.io import VariableIO\n",
    "from IPython.display import display, clear_output\n",
    "\n",
    "liste = widgets.Dropdown(\n",
    "    options=[('Beechcraft Duchess 76', 'output_mda_beech.xml'), ('Cirrus SR22', 'output_mda_cirrus_sr22.xml'), ('TBM-930', 'output_mda_tbm930.xml')],\n",
    "    value='output_mda_beech.xml',\n",
    "    description='Reference Aircraft:',\n",
    "    style={'description_width': 'initial'},\n",
    "    layout=Layout(width='30%'),\n",
    ")\n",
    "\n",
    "# Initialization of the reference aircraft\n",
    "ref_aircraft = 'output_mda_beech.xml'\n",
    "print('The reference aircraft .xml file is '+ ref_aircraft)\n",
    "\n",
    "def eventhandler(change):\n",
    "    if (change.new):\n",
    "        global ref_aircraft\n",
    "        ref_aircraft = liste.value\n",
    "        print('The reference aircraft .xml file is '+ ref_aircraft)\n",
    "\n",
    "liste.observe(eventhandler, names='value')\n",
    "\n",
    "display(liste)"
   ]
  },
  {
   "cell_type": "markdown",
   "metadata": {},
   "source": [
    "### Choice of the engine model\n",
    "\n",
    "The available models are :\n",
    "\n",
    "- Basic IC Engine\n",
    "- Basic Turboprop\n",
    "\n",
    "The basic IC engine is the default option."
   ]
  },
  {
   "cell_type": "code",
   "execution_count": 2,
   "metadata": {},
   "outputs": [
    {
     "name": "stdout",
     "output_type": "stream",
     "text": [
      "The engine model id chosen is fastga.wrapper.propulsion.basicIC_engine\n"
     ]
    },
    {
     "data": {
      "application/vnd.jupyter.widget-view+json": {
       "model_id": "60eb617dd17249fdbe024763bd9a9c66",
       "version_major": 2,
       "version_minor": 0
      },
      "text/plain": [
       "Dropdown(description='Propulsion Model:', layout=Layout(width='30%'), options=(('Basic IC Engine', 'fastga.wra…"
      ]
     },
     "metadata": {},
     "output_type": "display_data"
    }
   ],
   "source": [
    "liste_engine = widgets.Dropdown(\n",
    "    options=[('Basic IC Engine', \"fastga.wrapper.propulsion.basicIC_engine\"), ('Basic Turboprop', \"fastga.wrapper.propulsion.basic_turboprop\")],\n",
    "    value=\"fastga.wrapper.propulsion.basicIC_engine\",\n",
    "    description='Propulsion Model:',\n",
    "    style={'description_width': 'initial'},\n",
    "    layout=Layout(width='30%'),\n",
    ")\n",
    "\n",
    "# Initialization of the engine model\n",
    "engine_id = \"fastga.wrapper.propulsion.basicIC_engine\"\n",
    "print('The engine model id chosen is '+ engine_id)\n",
    "\n",
    "def eventhandler(change):\n",
    "    if (change.new):\n",
    "        global engine_id\n",
    "        engine_id = liste_engine.value\n",
    "        print('The engine model id chosen is '+ engine_id)\n",
    "\n",
    "liste_engine.observe(eventhandler, names='value')\n",
    "\n",
    "display(liste_engine)"
   ]
  },
  {
   "cell_type": "markdown",
   "metadata": {},
   "source": [
    "### Preparation of files\n",
    "\n",
    "The reference aircraft file \"AIRCRAFT_REF_FILE\" is a copy from the corresponding mda output file. The aircraft id depends on the choice made with the widget.\n",
    "\n",
    "This file is then directly duplicated into \"AIRCRAFT_MOD_FILE\", which is the file that will receive the fuselage modifications. So after the execution of this cell, both files are identical.\n",
    "\n",
    "Please note that the engine_id widget allows for the user to skip the part where he has to manually write the engine's id in the parameters of the classes executed by generate_block_analysis. But for the weight/performance loop that uses the weight_loop.yml configuration file the user has to manually check that the right engine's id will be used for the weight and performance modules calculation. If the yml file is modified the changes will only take effect after the kernel is restarted."
   ]
  },
  {
   "cell_type": "code",
   "execution_count": 3,
   "metadata": {
    "scrolled": false
   },
   "outputs": [
    {
     "data": {
      "text/html": [
       "<style>.container { width:80% !important; }</style>"
      ],
      "text/plain": [
       "<IPython.core.display.HTML object>"
      ]
     },
     "metadata": {},
     "output_type": "display_data"
    }
   ],
   "source": [
    "import os.path as pth\n",
    "import os\n",
    "import openmdao.api as om\n",
    "from fastoad import api as api_cs25\n",
    "from fastga.command import api as api_cs23\n",
    "import logging\n",
    "from fastoad.gui import VariableViewer\n",
    "import shutil\n",
    "\n",
    "# Define relative path.\n",
    "current_path = os.getcwd()\n",
    "DATA_FOLDER_PATH = pth.join(current_path, 'data')\n",
    "WORK_FOLDER_PATH = pth.join(current_path, 'workdir')\n",
    "OUTPUT_FOLDER_PATH = pth.join(current_path, 'output')\n",
    "\n",
    "# Clear work folder.\n",
    "shutil.rmtree(WORK_FOLDER_PATH, ignore_errors=True)\n",
    "os.mkdir(WORK_FOLDER_PATH)\n",
    "\n",
    "# For using more screen width.\n",
    "from IPython.core.display import display, HTML\n",
    "display(HTML(\"<style>.container { width:80% !important; }</style>\"))\n",
    "\n",
    "# Final file names. These .xml files will be overwritten each time they pass through a module.\n",
    "AIRCRAFT_REF_FILE = pth.join(WORK_FOLDER_PATH, 'geometry_reference.xml')\n",
    "AIRCRAFT_MOD_FILE = pth.join(WORK_FOLDER_PATH, 'geometry_mod.xml')\n",
    "\n",
    "# Copy the reference aircraft .xml file.\n",
    "shutil.copy(pth.join(DATA_FOLDER_PATH, ref_aircraft), AIRCRAFT_REF_FILE)\n",
    "shutil.copy(AIRCRAFT_REF_FILE, AIRCRAFT_MOD_FILE)\n",
    "\n",
    "# Definition of the files for the weight MDA.\n",
    "CONFIG_FILE = pth.join(DATA_FOLDER_PATH, 'weight_loop.yml')\n",
    "WORK_CONFIG_FILE = pth.join(WORK_FOLDER_PATH, 'weight_loop.yml')\n",
    "shutil.copy(CONFIG_FILE, WORK_CONFIG_FILE)\n",
    "WEIGHT_LOOP_FILE = pth.join(WORK_FOLDER_PATH, 'problem_inputs_weight_loop.xml')"
   ]
  },
  {
   "cell_type": "markdown",
   "metadata": {},
   "source": [
    "## 2. Definition of the modifications from the reference architecture\n",
    "\n",
    "The different parameters the user has to choose in order to obtain the desired modified configuration are:\n",
    "\n",
    "- **added_length [m]** : If 0, the length of a row of seats will be taken (this length is defined in the xml file).\n",
    "- **added_section_x_ratio_front** : Float between 0 and 1 defining the percentage of the added section that will be placed ahead of the wing MAC 25%.\n",
    "- **added_section_x_ratio_rear** : Float between 0 and 1 defining the percentage of the added section that will be placed at the back of the wing MAC 25%.\n",
    "- **added_pax** : Integer stating the number of passengers added to the design mission. Take care not to exceed npax_max.\n",
    "- **added_luggage [kg]** : Float stating the mass of luggage added to the design mission.\n",
    "\n",
    "If a row of seats is added (added_length = 0), then the code will increase the maximum number of passengers. If a specified length is used (for example added_length = 0.5 m), then the code won't increase the maximum number of passengers. In this case the added section will be an empty space in the cabin.\n",
    "\n",
    "The sum of added_section_x_ratio_front and of added_section_x_ratio_rear must be equal to 1.\n",
    "\n",
    "There is no limit in the code for the increase in cabin length, but some modules could have problems running with an extreme value.\n",
    "A cabin length reduction can also be theorically computed by specifying a negative length, but the consequences on the code have not been studied. "
   ]
  },
  {
   "cell_type": "code",
   "execution_count": 4,
   "metadata": {},
   "outputs": [],
   "source": [
    "# Cabin length increase parameters\n",
    "added_length = 0\n",
    "added_section_x_ratio_front = 0\n",
    "added_section_x_ratio_rear = 1\n",
    "added_pax = 2\n",
    "added_luggage = 0\n",
    "\n",
    "fuselage_mod_parameters = [added_length, added_section_x_ratio_front, added_section_x_ratio_rear, added_pax, added_luggage]"
   ]
  },
  {
   "cell_type": "markdown",
   "metadata": {},
   "source": [
    "Once these parameters are defined, they can be used as options in the ComputeConfigMod class of the modify_config module.\n",
    "\n",
    "This module computes the new geometrical quantities that redefine the wing. These modified values are stocked as data_mod quantities in the .xml files. The use of the variable viewer allows to quickly understand what has changed with respect to the reference architecture."
   ]
  },
  {
   "cell_type": "code",
   "execution_count": 5,
   "metadata": {
    "scrolled": false
   },
   "outputs": [
    {
     "data": {
      "application/vnd.jupyter.widget-view+json": {
       "model_id": "b14393196d42435691db33d0767d2c2e",
       "version_major": 2,
       "version_minor": 0
      },
      "text/plain": [
       "VBox(children=(HBox(children=(Button(description='Load', icon='upload', style=ButtonStyle(), tooltip='Load the…"
      ]
     },
     "metadata": {},
     "output_type": "display_data"
    }
   ],
   "source": [
    "from fastga.models.modify_config import ComputeConfigMod\n",
    "\n",
    "\n",
    "compute_modify = api_cs23.generate_block_analysis(\n",
    "        ComputeConfigMod(fuselage_mod=fuselage_mod_parameters),\n",
    "        [],\n",
    "        str(AIRCRAFT_MOD_FILE),\n",
    "        True,\n",
    "    )\n",
    "\n",
    "output_mod = compute_modify({})\n",
    "\n",
    "# Open viewer\n",
    "api_cs25.variable_viewer(AIRCRAFT_MOD_FILE)"
   ]
  },
  {
   "cell_type": "markdown",
   "metadata": {},
   "source": [
    "The UpdateXML class takes the values from data_mod and copies them into the associated data quantities.\n",
    "\n",
    "This process highlights one limitation of generate_block_analysis: we cannot modify a quantity that is used as an input of a generate_block_analysis. That is why the architecture modification is computed in two steps: the first one which computes the new values of the geometry, and the second one which updates the old values with the new ones."
   ]
  },
  {
   "cell_type": "code",
   "execution_count": 6,
   "metadata": {
    "scrolled": false
   },
   "outputs": [
    {
     "data": {
      "application/vnd.jupyter.widget-view+json": {
       "model_id": "fcab38108c264f3e80ac35f3c1bb8541",
       "version_major": 2,
       "version_minor": 0
      },
      "text/plain": [
       "VBox(children=(HBox(children=(Button(description='Load', icon='upload', style=ButtonStyle(), tooltip='Load the…"
      ]
     },
     "metadata": {},
     "output_type": "display_data"
    }
   ],
   "source": [
    "from fastga.models.modify_config.update_XML import UpdateXML\n",
    "\n",
    "\n",
    "compute_update = api_cs23.generate_block_analysis(\n",
    "        UpdateXML(fuselage_mod=fuselage_mod_parameters),\n",
    "        [],\n",
    "        str(AIRCRAFT_MOD_FILE),\n",
    "        True,\n",
    "    )\n",
    "\n",
    "output_mod = compute_update({})\n",
    "\n",
    "# Open viewer\n",
    "api_cs25.variable_viewer(AIRCRAFT_MOD_FILE)"
   ]
  },
  {
   "cell_type": "markdown",
   "metadata": {},
   "source": [
    "## 3. Computation of the FAST-OAD-GA modules\n",
    "\n",
    "The FAST-OAD-GA modules are executed in order to compute the modifications resulting from the wing geometry changes of the previous section.\n",
    "\n",
    "The weight loop is a mda that loops on the weight / update mtow / performance modules in order to get converged MTOW and fuel mission. Its rtol parameter is quite low but it ensures to get consistent values for the operation MTOW = fuel + payload + owe.\n",
    "\n",
    "The load analysis module is also executed, for further post-processing reasons.\n",
    "\n",
    "There is no need in this type of analysis to loop at the end of the process because the aim is to observe the characteristics of an aircraft with a given geometry (cabin length increase) and not to optimize it by resizing its tails and wings.\n",
    "\n",
    "It is advised to change the class parameters with caution as some modules require some of the quantities computed with these parameters on (for example the wing structural analysis requires the computation of the slipstream in the aerodynamic module, and the load factor class requires the mach interpolation computation).\n",
    "\n",
    "The expected computational time is around 3 minutes. The aerodynamic module is the most demanding part of the analysis."
   ]
  },
  {
   "cell_type": "code",
   "execution_count": 7,
   "metadata": {
    "scrolled": false
   },
   "outputs": [
    {
     "name": "stderr",
     "output_type": "stream",
     "text": [
      "Area ratio value outside of the range in Roskam's book k_vh, value clipped2.6162514994300965\n",
      "min value of Roskam's book is 8.164931618692696e-05\n",
      "max value of Roskam's book is 1.9750765462339261\n",
      "Area ratio value outside of the range in Roskam's book k_vh, value clipped2.6162514994300965\n",
      "min value of Roskam's book is 8.164931618692696e-05\n",
      "max value of Roskam's book is 1.9750765462339261\n"
     ]
    },
    {
     "name": "stdout",
     "output_type": "stream",
     "text": [
      "NL: NLBGS 1 ; 180005859 1\n",
      "NL: NLBGS 2 ; 10560.5116 5.86675992e-05\n",
      "NL: NLBGS 3 ; 2435.52572 1.35302581e-05\n",
      "NL: NLBGS 4 ; 600.838907 3.33788528e-06\n",
      "NL: NLBGS Converged\n"
     ]
    }
   ],
   "source": [
    "from fastga.models.geometry import GeometryFixedTailDistance as Geometry\n",
    "from fastga.models.aerodynamics.aerodynamics import Aerodynamics\n",
    "from fastga.models.aerodynamics.load_factor import LoadFactor\n",
    "from fastga.models.load_analysis.loads import Loads\n",
    "from fastga.models.handling_qualities.handling_qualities import ComputeHandlingQualities\n",
    "\n",
    "\n",
    "# GEOMETRY\n",
    "compute_geometry_mod = api_cs23.generate_block_analysis(\n",
    "        Geometry(propulsion_id=engine_id),\n",
    "        [],\n",
    "        str(AIRCRAFT_MOD_FILE),\n",
    "        True,\n",
    "    )\n",
    "output_mod = compute_geometry_mod({})\n",
    "\n",
    "# AERODYNAMICS\n",
    "compute_aero_mod = api_cs23.generate_block_analysis(\n",
    "        Aerodynamics(\n",
    "            propulsion_id=engine_id,\n",
    "            use_openvsp=True,\n",
    "            compute_mach_interpolation=True,\n",
    "            compute_slipstream_cruise=True,\n",
    "#             wing_airfoil_file=\"naca43013_3.af\"\n",
    "        ),\n",
    "        [],\n",
    "        str(AIRCRAFT_MOD_FILE),\n",
    "        True,\n",
    "    )\n",
    "output_mod = compute_aero_mod({})\n",
    "\n",
    "# LOAD FACTOR (ComputeVN and speed identification)\n",
    "compute_load_factor = api_cs23.generate_block_analysis(\n",
    "        LoadFactor(propulsion_id=engine_id),\n",
    "        [],\n",
    "        str(AIRCRAFT_MOD_FILE),\n",
    "        True,\n",
    "    )\n",
    "output = compute_load_factor({})\n",
    "\n",
    "# WEIGHT / MTOW / PERFORMANCES loop\n",
    "\n",
    "shutil.copy(AIRCRAFT_MOD_FILE, WEIGHT_LOOP_FILE)\n",
    "\n",
    "eval_problem = api_cs25.evaluate_problem(WORK_CONFIG_FILE, overwrite=True)\n",
    "\n",
    "OUTPUT_FILE = pth.join(WORK_FOLDER_PATH,'problem_outputs_weight_loop.xml')\n",
    "shutil.copy(OUTPUT_FILE, AIRCRAFT_MOD_FILE)\n",
    "\n",
    "# LOAD ANALYSIS\n",
    "compute_loads_mod = api_cs23.generate_block_analysis(\n",
    "        Loads(),\n",
    "        [],\n",
    "        str(AIRCRAFT_MOD_FILE),\n",
    "        True,\n",
    "    )\n",
    "output_mod = compute_loads_mod({})\n",
    "\n",
    "# HANDLING QUALITIES\n",
    "compute_hq_mod = api_cs23.generate_block_analysis(\n",
    "        ComputeHandlingQualities(\n",
    "            propulsion_id=engine_id,\n",
    "        ),\n",
    "        [],\n",
    "        str(AIRCRAFT_MOD_FILE),\n",
    "        True,\n",
    "    )\n",
    "output_mod = compute_hq_mod({})"
   ]
  },
  {
   "cell_type": "code",
   "execution_count": 8,
   "metadata": {},
   "outputs": [
    {
     "data": {
      "application/vnd.jupyter.widget-view+json": {
       "model_id": "b8aa539920524e5191a350c68b8bfc6e",
       "version_major": 2,
       "version_minor": 0
      },
      "text/plain": [
       "VBox(children=(HBox(children=(Button(description='Load', icon='upload', style=ButtonStyle(), tooltip='Load the…"
      ]
     },
     "metadata": {},
     "output_type": "display_data"
    }
   ],
   "source": [
    "api_cs25.variable_viewer(AIRCRAFT_MOD_FILE)"
   ]
  },
  {
   "cell_type": "markdown",
   "metadata": {},
   "source": [
    "A small post-processing tool to visualize the changes."
   ]
  },
  {
   "cell_type": "code",
   "execution_count": null,
   "metadata": {
    "scrolled": false
   },
   "outputs": [],
   "source": [
    "from fastga.utils.postprocessing.analysis_and_plots import aircraft_geometry_plot\n",
    "\n",
    "fig = aircraft_geometry_plot(AIRCRAFT_REF_FILE, name='reference aircraft', plot_nacelle = False)\n",
    "fig = aircraft_geometry_plot(AIRCRAFT_MOD_FILE, name='modified aircraft', fig=fig, plot_nacelle = False)\n",
    "fig.show()"
   ]
  },
  {
   "cell_type": "markdown",
   "metadata": {},
   "source": [
    "### Running complementary methods\n",
    "\n",
    "These classes are not part of the sizing loop of the aircraft. Their computation is required for postprocessing reasons.\n",
    "\n",
    "The expected computational time is around 2 minutes. The payload range is the most demanding part of the analysis. Its progress can be tracked with the display of the number of iterations for each point that uses fsolve (point B, point D and point E)."
   ]
  },
  {
   "cell_type": "code",
   "execution_count": null,
   "metadata": {},
   "outputs": [],
   "source": [
    "from fastga.models.aerodynamics.components import ComputePolar\n",
    "from fastga.models.performances.payload_range import ComputePayloadRange\n",
    "\n",
    "# POLAR\n",
    "compute_polar = api_cs23.generate_block_analysis(\n",
    "        ComputePolar(),\n",
    "        [],\n",
    "        str(AIRCRAFT_MOD_FILE),\n",
    "        True,\n",
    "    )\n",
    "output = compute_polar({})\n",
    "\n",
    "# Payload Range\n",
    "compute_payload_range = api_cs23.generate_block_analysis(\n",
    "        ComputePayloadRange(\n",
    "            propulsion_id=engine_id,\n",
    "        ),\n",
    "        [],\n",
    "        str(AIRCRAFT_MOD_FILE),\n",
    "        True,\n",
    ")\n",
    "output = compute_payload_range({})"
   ]
  },
  {
   "cell_type": "markdown",
   "metadata": {},
   "source": [
    "## Save files for post processing\n",
    "\n",
    "The name of the output file has to be manually written. This file is ready to be used in the post-processing notebook. It is useless to save the reference aircraft for post-processing, since the file from the data folder can be directly used."
   ]
  },
  {
   "cell_type": "code",
   "execution_count": null,
   "metadata": {},
   "outputs": [],
   "source": [
    "OUTPUT_MOD_FILE = pth.join(OUTPUT_FOLDER_PATH, 'output_mod_fuselage_tbm.xml')\n",
    "shutil.copy(AIRCRAFT_MOD_FILE, OUTPUT_MOD_FILE)"
   ]
  },
  {
   "cell_type": "code",
   "execution_count": null,
   "metadata": {},
   "outputs": [],
   "source": [
    "from fastoad.io import VariableIO\n",
    "\n",
    "# Static margins\n",
    "variables_ref = VariableIO(AIRCRAFT_REF_FILE).read()\n",
    "static_margin_fixed_ref = round(variables_ref[\"data:handling_qualities:stick_fixed_static_margin\"].value[0],4)\n",
    "static_margin_free_ref = round(variables_ref[\"data:handling_qualities:stick_free_static_margin\"].value[0],4)\n",
    "print(\"TBM 930\\t\\t\\t\\t\\t\\t\", \"static margin stick fixed:\", static_margin_fixed_ref, \"\\tstatic margin stick free:\", static_margin_free_ref)\n",
    "\n",
    "variables_mod = VariableIO(AIRCRAFT_MOD_FILE).read()\n",
    "static_margin_fixed_mod = round(variables_mod[\"data:handling_qualities:stick_fixed_static_margin\"].value[0],4)\n",
    "static_margin_free_mod = round(variables_mod[\"data:handling_qualities:stick_free_static_margin\"].value[0],4)\n",
    "print(\"TBM 930 with fuselage stretched by 1 meter\\t\", \"static margin stick fixed:\", static_margin_fixed_mod, \"\\tstatic margin stick free:\", static_margin_free_mod)"
   ]
  },
  {
   "cell_type": "code",
   "execution_count": null,
   "metadata": {},
   "outputs": [],
   "source": []
  }
 ],
 "metadata": {
  "kernelspec": {
   "display_name": "Python 3",
   "language": "python",
   "name": "python3"
  },
  "language_info": {
   "codemirror_mode": {
    "name": "ipython",
    "version": 3
   },
   "file_extension": ".py",
   "mimetype": "text/x-python",
   "name": "python",
   "nbconvert_exporter": "python",
   "pygments_lexer": "ipython3",
   "version": "3.9.4"
  }
 },
 "nbformat": 4,
 "nbformat_minor": 4
}
