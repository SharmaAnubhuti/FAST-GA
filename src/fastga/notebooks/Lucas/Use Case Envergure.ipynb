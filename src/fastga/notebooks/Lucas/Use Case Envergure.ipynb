{
 "cells": [
  {
   "cell_type": "markdown",
   "metadata": {},
   "source": [
    "<div class=\"row\">\n",
    "  <div class=\"column\">\n",
    "    <img src=\"./img/logo-onera.png\" width=\"200\">\n",
    "  </div>\n",
    "  <div class=\"column\">\n",
    "    <img src=\"./img/logo-ISAE_SUPAERO.png\" width=\"200\">\n",
    "  </div>\n",
    "</div>"
   ]
  },
  {
   "cell_type": "markdown",
   "metadata": {},
   "source": [
    "# Modification of the span of an aircraft.\n",
    "\n",
    "This notebook is based on the 3rd FAST-OAD-GA tutorial written by Aurélien. It aims to compare a reference architecture represented by the .XML file of an aircraft (Beechcraft 76, Cirrus 22, TBM-900) with a modified configuration. The modified architecture is produced by the FAST-OAD-GA module called modify_config which creates the corresponding .XML file. Then the .xml files of the reference aircraft and of the modified one go through all of the FAST-OAD-GA modules, with the generate_block_analysis function which calls each module. The variable viewer is called for both aircrafts after each module.\n",
    "\n",
    "The only modification implemented for now is the increase of the wing span. The user has to define the multiplier of the span, and can also play on other parameters such as setting the engine position along the span.\n",
    "\n",
    "The fastga code is from the root analysis_mode on GitHub.\n",
    "\n",
    "Like in the tutorials, the structure of the notebook is based on data transfers between the data folder which stocks the .xml of the reference aircraft, and the workdir folder which stocks the .xml files passing through the modules of FAST-OAD-GA. After all the modules have been executed the final .xml files are placed in the output folder.\n",
    "\n",
    "As the TBM-900 turbopropeller is still being modelized in FAST-OAD-GA, the Beechcraft 76 will be used for this analysis. There is no limit in the code for the increase in span, but some modules could have problems running with an extreme value (such as two times the original span)."
   ]
  },
  {
   "cell_type": "markdown",
   "metadata": {},
   "source": [
    "## 1. Initialization of the work environment"
   ]
  },
  {
   "cell_type": "code",
   "execution_count": 1,
   "metadata": {
    "scrolled": true
   },
   "outputs": [
    {
     "name": "stderr",
     "output_type": "stream",
     "text": [
      "Failed to import module fastga.models.geometry.unitary_tests.test_cirrus_sr22.py\n",
      "Failed to import module fastga.models.handling_qualities.unitary_tests.test_beechcraft_76.py\n",
      "Failed to import module fastga.models.loops.unitary_tests.test_wing_area.py\n",
      "Failed to import module fastga.models.weight.cg.unitary_tests.test_beechcraft_76.py\n",
      "Failed to import module fastga.models.load_analysis.unitary_tests.test_cirrus_sr22.py\n",
      "Failed to import module fastga.models.load_analysis.loads.py\n",
      "Failed to import module fastga.models.weight.mass_breakdown.unitary_tests.test_beechcraft_76.py\n",
      "Failed to import module fastga.models.handling_qualities.unitary_tests.test_cirrus_sr22.py\n",
      "Failed to import module fastga.models.geometry.unitary_tests.test_beechcraft_76.py\n",
      "Failed to import module fastga.models.aerodynamics.unitary_tests.test_cirrus_sr22.py\n",
      "Failed to import module fastga.models.load_analysis.unitary_tests.test_beechcraft_76.py\n",
      "Failed to import module fastga.models.performances.unitary_tests.test_cirrus_sr22.py\n",
      "Failed to import module fastga.models.propulsion.fuel_propulsion.basicIC_engine.unitary_tests.test_openmdao_engine.py\n",
      "Failed to import module fastga.models.weight.mass_breakdown.unitary_tests.test_cirrus_sr22.py\n",
      "Failed to import module fastga.models.weight.cg.unitary_tests.test_cirrus_sr22.py\n",
      "Failed to import module fastga.models.performances.unitary_tests.test_beechcraft_76.py\n",
      "Failed to import module fastga.models.aerodynamics.unitary_tests.test_beechcraft_76.py\n"
     ]
    },
    {
     "data": {
      "text/html": [
       "<style>.container { width:80% !important; }</style>"
      ],
      "text/plain": [
       "<IPython.core.display.HTML object>"
      ]
     },
     "metadata": {},
     "output_type": "display_data"
    },
    {
     "data": {
      "text/plain": [
       "'C:\\\\Users\\\\Lucas\\\\FAST-OAD-GA\\\\FAST-GA\\\\src\\\\fastga\\\\notebooks\\\\Lucas\\\\workdir\\\\geometry_mod.xml'"
      ]
     },
     "execution_count": 1,
     "metadata": {},
     "output_type": "execute_result"
    }
   ],
   "source": [
    "import os.path as pth\n",
    "import os\n",
    "import openmdao.api as om\n",
    "from fastoad import api as api_cs25\n",
    "from fastga.command import api as api_cs23\n",
    "import logging\n",
    "from fastoad.gui import VariableViewer\n",
    "import shutil\n",
    "\n",
    "# Define relative path.\n",
    "current_path = os.getcwd()\n",
    "DATA_FOLDER_PATH = pth.join(current_path, 'data')\n",
    "WORK_FOLDER_PATH = pth.join(current_path, 'workdir')\n",
    "OUTPUT_FOLDER_PATH = pth.join(current_path, 'output')\n",
    "\n",
    "# Clear work folder.\n",
    "shutil.rmtree(WORK_FOLDER_PATH, ignore_errors=True)\n",
    "os.mkdir(WORK_FOLDER_PATH)\n",
    "\n",
    "# For using more screen width.\n",
    "from IPython.core.display import display, HTML\n",
    "display(HTML(\"<style>.container { width:80% !important; }</style>\"))\n",
    "\n",
    "# Final file names. These .xml files will be overwritten each time they pass through a module.\n",
    "AIRCRAFT_REF_FILE = pth.join(WORK_FOLDER_PATH, 'geometry_reference.xml')\n",
    "AIRCRAFT_MOD_FILE = pth.join(WORK_FOLDER_PATH, 'geometry_mod.xml')\n",
    "\n",
    "# Copy the reference aircraft file in the files of the work folder.\n",
    "shutil.copy(pth.join(DATA_FOLDER_PATH, 'beechcraft_76.xml'), AIRCRAFT_REF_FILE)\n",
    "shutil.copy(pth.join(DATA_FOLDER_PATH, 'beechcraft_76.xml'), AIRCRAFT_MOD_FILE)"
   ]
  },
  {
   "cell_type": "markdown",
   "metadata": {},
   "source": [
    "## Propeller Computation"
   ]
  },
  {
   "cell_type": "code",
   "execution_count": 3,
   "metadata": {},
   "outputs": [
    {
     "ename": "RuntimeError",
     "evalue": "<model> <class AutoUnitsDefaultGroup>: Output name 'data:aerodynamics:propeller:mach' refers to multiple outputs: ['ivc.data:aerodynamics:propeller:mach', 'system.propeller_aero_conditions.data:aerodynamics:propeller:mach'].",
     "output_type": "error",
     "traceback": [
      "\u001b[1;31m---------------------------------------------------------------------------\u001b[0m",
      "\u001b[1;31mRuntimeError\u001b[0m                              Traceback (most recent call last)",
      "\u001b[1;32m<ipython-input-3-7edbe9d9db6d>\u001b[0m in \u001b[0;36m<module>\u001b[1;34m\u001b[0m\n\u001b[0;32m      9\u001b[0m     )\n\u001b[0;32m     10\u001b[0m \u001b[1;33m\u001b[0m\u001b[0m\n\u001b[1;32m---> 11\u001b[1;33m \u001b[0moutput_ref\u001b[0m \u001b[1;33m=\u001b[0m \u001b[0mcompute_propeller\u001b[0m\u001b[1;33m(\u001b[0m\u001b[1;33m{\u001b[0m\u001b[1;33m}\u001b[0m\u001b[1;33m)\u001b[0m\u001b[1;33m\u001b[0m\u001b[1;33m\u001b[0m\u001b[0m\n\u001b[0m\u001b[0;32m     12\u001b[0m \u001b[1;33m\u001b[0m\u001b[0m\n\u001b[0;32m     13\u001b[0m \u001b[1;31m# Open viewer\u001b[0m\u001b[1;33m\u001b[0m\u001b[1;33m\u001b[0m\u001b[1;33m\u001b[0m\u001b[0m\n",
      "\u001b[1;32m~\\FAST-OAD-GA\\FAST-GA\\src\\fastga\\command\\api.py\u001b[0m in \u001b[0;36mpatched_function\u001b[1;34m(inputs_dict)\u001b[0m\n\u001b[0;32m    165\u001b[0m                 \u001b[0mgroup_local\u001b[0m\u001b[1;33m.\u001b[0m\u001b[0madd_subsystem\u001b[0m\u001b[1;33m(\u001b[0m\u001b[1;34m'ivc'\u001b[0m\u001b[1;33m,\u001b[0m \u001b[0mivc_local\u001b[0m\u001b[1;33m,\u001b[0m \u001b[0mpromotes\u001b[0m\u001b[1;33m=\u001b[0m\u001b[1;33m[\u001b[0m\u001b[1;34m\"*\"\u001b[0m\u001b[1;33m]\u001b[0m\u001b[1;33m)\u001b[0m\u001b[1;33m\u001b[0m\u001b[1;33m\u001b[0m\u001b[0m\n\u001b[0;32m    166\u001b[0m                 \u001b[0mproblem_local\u001b[0m \u001b[1;33m=\u001b[0m \u001b[0mFASTOADProblem\u001b[0m\u001b[1;33m(\u001b[0m\u001b[0mgroup_local\u001b[0m\u001b[1;33m)\u001b[0m\u001b[1;33m\u001b[0m\u001b[1;33m\u001b[0m\u001b[0m\n\u001b[1;32m--> 167\u001b[1;33m                 \u001b[0mproblem_local\u001b[0m\u001b[1;33m.\u001b[0m\u001b[0msetup\u001b[0m\u001b[1;33m(\u001b[0m\u001b[1;33m)\u001b[0m\u001b[1;33m\u001b[0m\u001b[1;33m\u001b[0m\u001b[0m\n\u001b[0m\u001b[0;32m    168\u001b[0m                 \u001b[0mproblem_local\u001b[0m\u001b[1;33m.\u001b[0m\u001b[0mrun_model\u001b[0m\u001b[1;33m(\u001b[0m\u001b[1;33m)\u001b[0m\u001b[1;33m\u001b[0m\u001b[1;33m\u001b[0m\u001b[0m\n\u001b[0;32m    169\u001b[0m                 \u001b[1;32mif\u001b[0m \u001b[0moverwrite\u001b[0m\u001b[1;33m:\u001b[0m\u001b[1;33m\u001b[0m\u001b[1;33m\u001b[0m\u001b[0m\n",
      "\u001b[1;32mc:\\users\\lucas\\anaconda3\\envs\\fast-oad-ga\\lib\\site-packages\\openmdao\\core\\problem.py\u001b[0m in \u001b[0;36msetup\u001b[1;34m(self, check, logger, mode, force_alloc_complex, distributed_vector_class, local_vector_class, derivatives)\u001b[0m\n\u001b[0;32m    913\u001b[0m                                               \u001b[1;31m# src data for inputs)\u001b[0m\u001b[1;33m\u001b[0m\u001b[1;33m\u001b[0m\u001b[1;33m\u001b[0m\u001b[0m\n\u001b[0;32m    914\u001b[0m         }\n\u001b[1;32m--> 915\u001b[1;33m         \u001b[0mmodel\u001b[0m\u001b[1;33m.\u001b[0m\u001b[0m_setup\u001b[0m\u001b[1;33m(\u001b[0m\u001b[0mmodel_comm\u001b[0m\u001b[1;33m,\u001b[0m \u001b[0mmode\u001b[0m\u001b[1;33m,\u001b[0m \u001b[0mself\u001b[0m\u001b[1;33m.\u001b[0m\u001b[0m_metadata\u001b[0m\u001b[1;33m)\u001b[0m\u001b[1;33m\u001b[0m\u001b[1;33m\u001b[0m\u001b[0m\n\u001b[0m\u001b[0;32m    916\u001b[0m \u001b[1;33m\u001b[0m\u001b[0m\n\u001b[0;32m    917\u001b[0m         \u001b[1;31m# set static mode back to True in all systems in this Problem\u001b[0m\u001b[1;33m\u001b[0m\u001b[1;33m\u001b[0m\u001b[1;33m\u001b[0m\u001b[0m\n",
      "\u001b[1;32mc:\\users\\lucas\\anaconda3\\envs\\fast-oad-ga\\lib\\site-packages\\openmdao\\core\\system.py\u001b[0m in \u001b[0;36m_setup\u001b[1;34m(self, comm, mode, prob_meta)\u001b[0m\n\u001b[0;32m    778\u001b[0m         \u001b[0mself\u001b[0m\u001b[1;33m.\u001b[0m\u001b[0m_configure_check\u001b[0m\u001b[1;33m(\u001b[0m\u001b[1;33m)\u001b[0m\u001b[1;33m\u001b[0m\u001b[1;33m\u001b[0m\u001b[0m\n\u001b[0;32m    779\u001b[0m \u001b[1;33m\u001b[0m\u001b[0m\n\u001b[1;32m--> 780\u001b[1;33m         \u001b[0mself\u001b[0m\u001b[1;33m.\u001b[0m\u001b[0m_setup_var_data\u001b[0m\u001b[1;33m(\u001b[0m\u001b[1;33m)\u001b[0m\u001b[1;33m\u001b[0m\u001b[1;33m\u001b[0m\u001b[0m\n\u001b[0m\u001b[0;32m    781\u001b[0m \u001b[1;33m\u001b[0m\u001b[0m\n\u001b[0;32m    782\u001b[0m         \u001b[0mself\u001b[0m\u001b[1;33m.\u001b[0m\u001b[0m_setup_vec_names\u001b[0m\u001b[1;33m(\u001b[0m\u001b[0mmode\u001b[0m\u001b[1;33m)\u001b[0m\u001b[1;33m\u001b[0m\u001b[1;33m\u001b[0m\u001b[0m\n",
      "\u001b[1;32mc:\\users\\lucas\\anaconda3\\envs\\fast-oad-ga\\lib\\site-packages\\openmdao\\core\\group.py\u001b[0m in \u001b[0;36m_setup_var_data\u001b[1;34m(self)\u001b[0m\n\u001b[0;32m   1128\u001b[0m         \u001b[1;32mfor\u001b[0m \u001b[0mprom_name\u001b[0m\u001b[1;33m,\u001b[0m \u001b[0mabs_list\u001b[0m \u001b[1;32min\u001b[0m \u001b[0mallprocs_prom2abs_list\u001b[0m\u001b[1;33m[\u001b[0m\u001b[1;34m'output'\u001b[0m\u001b[1;33m]\u001b[0m\u001b[1;33m.\u001b[0m\u001b[0mitems\u001b[0m\u001b[1;33m(\u001b[0m\u001b[1;33m)\u001b[0m\u001b[1;33m:\u001b[0m\u001b[1;33m\u001b[0m\u001b[1;33m\u001b[0m\u001b[0m\n\u001b[0;32m   1129\u001b[0m             \u001b[1;32mif\u001b[0m \u001b[0mlen\u001b[0m\u001b[1;33m(\u001b[0m\u001b[0mabs_list\u001b[0m\u001b[1;33m)\u001b[0m \u001b[1;33m>\u001b[0m \u001b[1;36m1\u001b[0m\u001b[1;33m:\u001b[0m\u001b[1;33m\u001b[0m\u001b[1;33m\u001b[0m\u001b[0m\n\u001b[1;32m-> 1130\u001b[1;33m                 raise RuntimeError(\"{}: Output name '{}' refers to \"\n\u001b[0m\u001b[0;32m   1131\u001b[0m                                    \"multiple outputs: {}.\".format(self.msginfo, prom_name,\n\u001b[0;32m   1132\u001b[0m                                                                   sorted(abs_list)))\n",
      "\u001b[1;31mRuntimeError\u001b[0m: <model> <class AutoUnitsDefaultGroup>: Output name 'data:aerodynamics:propeller:mach' refers to multiple outputs: ['ivc.data:aerodynamics:propeller:mach', 'system.propeller_aero_conditions.data:aerodynamics:propeller:mach']."
     ]
    }
   ],
   "source": [
    "from fastga.models.aerodynamics.components.compute_propeller_aero import ComputePropellerPerformance\n",
    "\n",
    "\n",
    "compute_propeller = api_cs23.generate_block_analysis(\n",
    "        ComputePropellerPerformance(),\n",
    "        [],\n",
    "        str(AIRCRAFT_REF_FILE),\n",
    "        True,\n",
    "    )\n",
    "\n",
    "output_ref = compute_propeller({})\n",
    "\n",
    "# Open viewer\n",
    "api_cs25.variable_viewer(AIRCRAFT_REF_FILE)"
   ]
  },
  {
   "cell_type": "markdown",
   "metadata": {},
   "source": [
    "## 2. Definition of the modifications from the reference architecture\n",
    "\n",
    "Describes the different parameters the user has to choose in order to obtain the desired modified configuration. The function generate_block_analysis is then used twice to create the .xml file related to the modified configuration."
   ]
  },
  {
   "cell_type": "code",
   "execution_count": null,
   "metadata": {},
   "outputs": [],
   "source": [
    "# Span modifications\n",
    "span_length_multiplier = 1.1       # value by which the wing span is multiplied. If 1.0, the span doesn't change.\n",
    "fixed_engine_position = True       # boolean stating if the engines stay at the same y-position along the span or if their y-ratio is conserved\n",
    "fuel_added_part = False            # boolean stating if fuel tanks are added in the extended part of the wing. If True, only applies for y_ratio_tank_end =1.0 in the initial .xml file.\n"
   ]
  },
  {
   "cell_type": "code",
   "execution_count": null,
   "metadata": {
    "scrolled": false
   },
   "outputs": [],
   "source": [
    "from fastga.models.modify_config import ComputeConfigMod\n",
    "\n",
    "\n",
    "compute_modify = api_cs23.generate_block_analysis(\n",
    "        ComputeConfigMod(span_mod=[span_length_multiplier, fixed_engine_position, fuel_added_part]),\n",
    "        [],\n",
    "        str(AIRCRAFT_MOD_FILE),\n",
    "        True,\n",
    "    )\n",
    "\n",
    "output_mod = compute_modify({})\n",
    "\n",
    "# Open viewer\n",
    "api_cs25.variable_viewer(AIRCRAFT_MOD_FILE)"
   ]
  },
  {
   "cell_type": "code",
   "execution_count": null,
   "metadata": {
    "scrolled": false
   },
   "outputs": [],
   "source": [
    "from fastga.models.modify_config.update_XML import UpdateXML\n",
    "\n",
    "\n",
    "compute_update = api_cs23.generate_block_analysis(\n",
    "        UpdateXML(span_mod=[span_length_multiplier, fixed_engine_position, fuel_added_part]),\n",
    "        [],\n",
    "        str(AIRCRAFT_MOD_FILE),\n",
    "        True,\n",
    "    )\n",
    "\n",
    "output_mod = compute_update({})\n",
    "\n",
    "# Open viewer\n",
    "api_cs25.variable_viewer(AIRCRAFT_MOD_FILE)"
   ]
  },
  {
   "cell_type": "markdown",
   "metadata": {},
   "source": [
    "## 3. Geometry Module"
   ]
  },
  {
   "cell_type": "code",
   "execution_count": 6,
   "metadata": {
    "scrolled": false
   },
   "outputs": [],
   "source": [
    "from fastga.models.geometry import GeometryFixedTailDistance as Geometry\n",
    "\n",
    "# Declare function\n",
    "compute_geometry_ref = api_cs23.generate_block_analysis(\n",
    "        Geometry(propulsion_id=\"fastga.wrapper.propulsion.basicIC_engine\"),\n",
    "        [],\n",
    "        str(AIRCRAFT_REF_FILE),\n",
    "        True,\n",
    "    )\n",
    "\n",
    "compute_geometry_mod = api_cs23.generate_block_analysis(\n",
    "        Geometry(\n",
    "            propulsion_id=\"fastga.wrapper.propulsion.basicIC_engine\"),\n",
    "        [],\n",
    "        str(AIRCRAFT_MOD_FILE),\n",
    "        True,\n",
    "    )\n",
    "\n",
    "# Compute geometry\n",
    "output_ref = compute_geometry_ref({})\n",
    "output_mod = compute_geometry_mod({})"
   ]
  },
  {
   "cell_type": "code",
   "execution_count": null,
   "metadata": {
    "scrolled": false
   },
   "outputs": [],
   "source": [
    "# Open viewer\n",
    "api_cs25.variable_viewer(AIRCRAFT_REF_FILE)"
   ]
  },
  {
   "cell_type": "code",
   "execution_count": null,
   "metadata": {},
   "outputs": [],
   "source": [
    "api_cs25.variable_viewer(AIRCRAFT_MOD_FILE)"
   ]
  },
  {
   "cell_type": "markdown",
   "metadata": {},
   "source": [
    "## 4. Aerodynamics Module \n",
    "\n",
    "We choose to use the software OpenVSP, and we activate the mach interpolation option because it is needed to execute the load analysis module. We also compute the slipstream which allows to get more variables in cruise and to plot the lift coefficient along the span in the post-processing notebook.\n",
    "\n",
    "This module usually represents the longest computational time."
   ]
  },
  {
   "cell_type": "code",
   "execution_count": null,
   "metadata": {},
   "outputs": [],
   "source": [
    "from fastga.models.aerodynamics.aerodynamics import Aerodynamics\n",
    "\n",
    "# Declare function on reference file\n",
    "compute_aero_ref = api_cs23.generate_block_analysis(\n",
    "        Aerodynamics(\n",
    "            propulsion_id=\"fastga.wrapper.propulsion.basicIC_engine\",\n",
    "            use_openvsp=True,\n",
    "            compute_mach_interpolation=True,\n",
    "            compute_slipstream_cruise=True,\n",
    "#             wing_airfoil_file=\"naca43013_3.af\"\n",
    "        ),\n",
    "        [],\n",
    "        str(AIRCRAFT_REF_FILE),\n",
    "        True,\n",
    "    )\n",
    "\n",
    "\n",
    "# Declare function on modified file\n",
    "compute_aero_mod = api_cs23.generate_block_analysis(\n",
    "        Aerodynamics(\n",
    "            propulsion_id=\"fastga.wrapper.propulsion.basicIC_engine\",\n",
    "            use_openvsp=True,\n",
    "            compute_mach_interpolation=True,\n",
    "            compute_slipstream_cruise=True,\n",
    "#             wing_airfoil_file=\"naca43013_3.af\"\n",
    "        ),\n",
    "        [],\n",
    "        str(AIRCRAFT_MOD_FILE),\n",
    "        True,\n",
    "    )\n",
    "\n",
    "# Compute both aircraft designs\n",
    "output_ref = compute_aero_ref({})\n",
    "output_mod = compute_aero_mod({})\n",
    "\n",
    "# # Save Results\n",
    "# OUTPUT_REF_FILE = pth.join(OUTPUT_FOLDER_PATH, 'output_ref_aero.xml')\n",
    "# OUTPUT_MOD_FILE = pth.join(OUTPUT_FOLDER_PATH, 'output_mod_aero.xml')\n",
    "# shutil.copy(AIRCRAFT_REF_FILE, OUTPUT_REF_FILE)\n",
    "# shutil.copy(AIRCRAFT_MOD_FILE, OUTPUT_MOD_FILE)"
   ]
  },
  {
   "cell_type": "code",
   "execution_count": null,
   "metadata": {
    "scrolled": false
   },
   "outputs": [],
   "source": [
    "api_cs25.variable_viewer(AIRCRAFT_REF_FILE)"
   ]
  },
  {
   "cell_type": "code",
   "execution_count": null,
   "metadata": {
    "scrolled": false
   },
   "outputs": [],
   "source": [
    "api_cs25.variable_viewer(AIRCRAFT_MOD_FILE)"
   ]
  },
  {
   "cell_type": "markdown",
   "metadata": {},
   "source": [
    "## 5. Weight Module (+ update MTOW)"
   ]
  },
  {
   "cell_type": "code",
   "execution_count": null,
   "metadata": {},
   "outputs": [],
   "source": [
    "from fastga.models.weight import Weight\n",
    "\n",
    "# Declare function on reference file\n",
    "compute_weight_ref = api_cs23.generate_block_analysis(\n",
    "        Weight(\n",
    "            propulsion_id=\"fastga.wrapper.propulsion.basicIC_engine\",\n",
    "        ),\n",
    "        [],\n",
    "        str(AIRCRAFT_REF_FILE),\n",
    "        True,\n",
    "    )\n",
    "\n",
    "\n",
    "# Declare function on modified file\n",
    "compute_weight_mod = api_cs23.generate_block_analysis(\n",
    "        Weight(\n",
    "            propulsion_id=\"fastga.wrapper.propulsion.basicIC_engine\",\n",
    "        ),\n",
    "        [],\n",
    "        str(AIRCRAFT_MOD_FILE),\n",
    "        True,\n",
    "    )\n",
    "\n",
    "output_ref = compute_weight_ref({})\n",
    "# output_mod = compute_weight_mod({})"
   ]
  },
  {
   "cell_type": "code",
   "execution_count": null,
   "metadata": {},
   "outputs": [],
   "source": [
    "api_cs25.variable_viewer(AIRCRAFT_REF_FILE)"
   ]
  },
  {
   "cell_type": "code",
   "execution_count": null,
   "metadata": {},
   "outputs": [],
   "source": [
    "api_cs25.variable_viewer(AIRCRAFT_MOD_FILE)"
   ]
  },
  {
   "cell_type": "code",
   "execution_count": null,
   "metadata": {},
   "outputs": [],
   "source": [
    "from fastga.models.weight.mass_breakdown.update_mtow import UpdateMTOW\n",
    "\n",
    "var_inputs = [\"data:mission:sizing:fuel\"]\n",
    "\n",
    "compute_mtow_ref = api_cs23.generate_block_analysis(\n",
    "        UpdateMTOW(),\n",
    "        var_inputs,\n",
    "        str(AIRCRAFT_REF_FILE),\n",
    "        True,\n",
    "    )\n",
    "\n",
    "compute_mtow_mod = api_cs23.generate_block_analysis(\n",
    "        UpdateMTOW(),\n",
    "        var_inputs,\n",
    "        str(AIRCRAFT_MOD_FILE),\n",
    "        True,\n",
    "    )\n",
    "\n",
    "inputs_dict = {\"data:mission:sizing:fuel\": (150., \"kg\")}\n",
    "\n",
    "output_ref = compute_mtow_ref(inputs_dict)\n",
    "# output_mod = compute_mtow_mod(inputs_dict)"
   ]
  },
  {
   "cell_type": "code",
   "execution_count": null,
   "metadata": {},
   "outputs": [],
   "source": [
    "api_cs25.variable_viewer(AIRCRAFT_REF_FILE)"
   ]
  },
  {
   "cell_type": "code",
   "execution_count": null,
   "metadata": {
    "scrolled": false
   },
   "outputs": [],
   "source": [
    "api_cs25.variable_viewer(AIRCRAFT_MOD_FILE)"
   ]
  },
  {
   "cell_type": "markdown",
   "metadata": {},
   "source": [
    "## 6. Performances Module"
   ]
  },
  {
   "cell_type": "code",
   "execution_count": null,
   "metadata": {},
   "outputs": [],
   "source": [
    "from fastga.models.performances import Sizing\n",
    "\n",
    "compute_sizing_ref = api_cs23.generate_block_analysis(\n",
    "        Sizing(\n",
    "            propulsion_id=\"fastga.wrapper.propulsion.basicIC_engine\",\n",
    "        ),\n",
    "        [],\n",
    "        str(AIRCRAFT_REF_FILE),\n",
    "        True,\n",
    "    )\n",
    "\n",
    "compute_sizing_mod = api_cs23.generate_block_analysis(\n",
    "        Sizing(\n",
    "            propulsion_id=\"fastga.wrapper.propulsion.basicIC_engine\",\n",
    "        ),\n",
    "        [],\n",
    "        str(AIRCRAFT_MOD_FILE),\n",
    "        True,\n",
    "    )\n",
    "\n",
    "output_ref = compute_sizing_ref({})\n",
    "# output_mod = compute_sizing_mod({})\n",
    "\n",
    "# Save Results\n",
    "OUTPUT_REF_FILE = pth.join(OUTPUT_FOLDER_PATH, 'output_ref_perf.xml')\n",
    "OUTPUT_MOD_FILE = pth.join(OUTPUT_FOLDER_PATH, 'output_mod_perf.xml')\n",
    "shutil.copy(AIRCRAFT_REF_FILE, OUTPUT_REF_FILE)\n",
    "shutil.copy(AIRCRAFT_MOD_FILE, OUTPUT_MOD_FILE)"
   ]
  },
  {
   "cell_type": "code",
   "execution_count": null,
   "metadata": {},
   "outputs": [],
   "source": [
    "api_cs25.variable_viewer(AIRCRAFT_REF_FILE)"
   ]
  },
  {
   "cell_type": "code",
   "execution_count": null,
   "metadata": {},
   "outputs": [],
   "source": [
    "api_cs25.variable_viewer(AIRCRAFT_MOD_FILE)"
   ]
  },
  {
   "cell_type": "markdown",
   "metadata": {},
   "source": [
    "## 7. Load Analysis Module"
   ]
  },
  {
   "cell_type": "code",
   "execution_count": null,
   "metadata": {},
   "outputs": [],
   "source": [
    "from fastga.models.aerodynamics.external.openvsp.compute_vn import ComputeVNopenvsp\n",
    "\n",
    "# Declare function on 1st geometry file\n",
    "compute_vn_ref = api_cs23.generate_block_analysis(\n",
    "        ComputeVNopenvsp(\n",
    "            compute_cl_alpha=True,\n",
    "        ),\n",
    "        [],\n",
    "        str(AIRCRAFT_REF_FILE),\n",
    "        True,\n",
    "    )\n",
    "\n",
    "\n",
    "# Declare function on 2nd geometry file\n",
    "compute_vn_mod = api_cs23.generate_block_analysis(\n",
    "        ComputeVNopenvsp(\n",
    "            compute_cl_alpha=True,\n",
    "        ),\n",
    "        [],\n",
    "        str(AIRCRAFT_MOD_FILE),\n",
    "        True,\n",
    "    )\n",
    "\n",
    "# Compute both aircraft designs\n",
    "output_ref = compute_vn_ref({})\n",
    "output_mod = compute_vn_mod({})"
   ]
  },
  {
   "cell_type": "code",
   "execution_count": null,
   "metadata": {},
   "outputs": [],
   "source": [
    "api_cs25.variable_viewer(AIRCRAFT_REF_FILE)"
   ]
  },
  {
   "cell_type": "code",
   "execution_count": null,
   "metadata": {},
   "outputs": [],
   "source": [
    "api_cs25.variable_viewer(AIRCRAFT_MOD_FILE)"
   ]
  },
  {
   "cell_type": "code",
   "execution_count": null,
   "metadata": {
    "scrolled": false
   },
   "outputs": [],
   "source": [
    "from fastga.models.load_analysis import Loads\n",
    "\n",
    "compute_loads_ref = api_cs23.generate_block_analysis(\n",
    "        Loads(\n",
    "            propulsion_id=\"fastga.wrapper.propulsion.basicIC_engine\",\n",
    "        ),\n",
    "        [],\n",
    "        str(AIRCRAFT_REF_FILE),\n",
    "        True,\n",
    "    )\n",
    "\n",
    "compute_loads_mod = api_cs23.generate_block_analysis(\n",
    "        Loads(\n",
    "            propulsion_id=\"fastga.wrapper.propulsion.basicIC_engine\",\n",
    "        ),\n",
    "        [],\n",
    "        str(AIRCRAFT_MOD_FILE),\n",
    "        True,\n",
    "    )\n",
    "\n",
    "output_ref = compute_loads_ref({})\n",
    "output_mod = compute_loads_mod({})"
   ]
  },
  {
   "cell_type": "code",
   "execution_count": null,
   "metadata": {},
   "outputs": [],
   "source": [
    "api_cs25.variable_viewer(AIRCRAFT_REF_FILE)"
   ]
  },
  {
   "cell_type": "code",
   "execution_count": null,
   "metadata": {},
   "outputs": [],
   "source": [
    "api_cs25.variable_viewer(AIRCRAFT_MOD_FILE)"
   ]
  },
  {
   "cell_type": "markdown",
   "metadata": {},
   "source": [
    "## 8. Handling Qualities Module\n",
    "\n",
    "As the main purpose of this notebook is to directly visualize the variations of the plane performance and its handling qualities by modifying the reference architecture, the static margin will be computed without updating the tail areas."
   ]
  },
  {
   "cell_type": "code",
   "execution_count": null,
   "metadata": {},
   "outputs": [],
   "source": [
    "from fastga.models.handling_qualities import ComputeHandlingQualities\n",
    "\n",
    "compute_hq_ref = api_cs23.generate_block_analysis(\n",
    "        ComputeHandlingQualities(\n",
    "            propulsion_id=\"fastga.wrapper.propulsion.basicIC_engine\",\n",
    "        ),\n",
    "        [],\n",
    "        str(AIRCRAFT_REF_FILE),\n",
    "        True,\n",
    "    )\n",
    "\n",
    "compute_hq_mod = api_cs23.generate_block_analysis(\n",
    "        ComputeHandlingQualities(\n",
    "            propulsion_id=\"fastga.wrapper.propulsion.basicIC_engine\",\n",
    "        ),\n",
    "        [],\n",
    "        str(AIRCRAFT_MOD_FILE),\n",
    "        True,\n",
    "    )\n",
    "\n",
    "output_ref = compute_hq_ref({})\n",
    "output_mod = compute_hq_mod({})"
   ]
  },
  {
   "cell_type": "code",
   "execution_count": null,
   "metadata": {},
   "outputs": [],
   "source": [
    "api_cs25.variable_viewer(AIRCRAFT_REF_FILE)"
   ]
  },
  {
   "cell_type": "code",
   "execution_count": null,
   "metadata": {},
   "outputs": [],
   "source": [
    "api_cs25.variable_viewer(AIRCRAFT_MOD_FILE)"
   ]
  },
  {
   "cell_type": "markdown",
   "metadata": {},
   "source": [
    "## Save files for post processing"
   ]
  },
  {
   "cell_type": "code",
   "execution_count": null,
   "metadata": {},
   "outputs": [],
   "source": [
    "OUTPUT_REF_FILE = pth.join(OUTPUT_FOLDER_PATH, 'output_ref.xml')\n",
    "OUTPUT_MOD_FILE = pth.join(OUTPUT_FOLDER_PATH, 'output_mod.xml')\n",
    "shutil.copy(AIRCRAFT_REF_FILE, OUTPUT_REF_FILE)\n",
    "shutil.copy(AIRCRAFT_MOD_FILE, OUTPUT_MOD_FILE)"
   ]
  },
  {
   "cell_type": "code",
   "execution_count": null,
   "metadata": {},
   "outputs": [],
   "source": []
  }
 ],
 "metadata": {
  "kernelspec": {
   "display_name": "Python 3",
   "language": "python",
   "name": "python3"
  },
  "language_info": {
   "codemirror_mode": {
    "name": "ipython",
    "version": 3
   },
   "file_extension": ".py",
   "mimetype": "text/x-python",
   "name": "python",
   "nbconvert_exporter": "python",
   "pygments_lexer": "ipython3",
   "version": "3.8.10"
  }
 },
 "nbformat": 4,
 "nbformat_minor": 4
}
