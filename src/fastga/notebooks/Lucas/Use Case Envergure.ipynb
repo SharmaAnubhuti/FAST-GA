{
 "cells": [
  {
   "cell_type": "markdown",
   "metadata": {},
   "source": [
    "<div class=\"row\">\n",
    "  <div class=\"column\">\n",
    "    <img src=\"./img/logo-onera.png\" width=\"200\">\n",
    "  </div>\n",
    "  <div class=\"column\">\n",
    "    <img src=\"./img/logo-ISAE_SUPAERO.png\" width=\"200\">\n",
    "  </div>\n",
    "</div>"
   ]
  },
  {
   "cell_type": "markdown",
   "metadata": {},
   "source": [
    "# Modification of the span of an aircraft.\n",
    "\n",
    "This notebook is based on the 3rd FAST-OAD-GA tutorial written by Aurélien. It aims to compare a reference architecture represented by the .XML file of an aircraft (Beechcraft 76, Cirrus 22, TBM-900) with a modified configuration. The modified architecture is produced by the FAST-OAD-GA module called modify_config which creates the corresponding .XML file. Then the .xml files of the reference aircraft and of the modified one go through all of the FAST-OAD-GA modules, with the generate_block_analysis function which calls each module. The variable viewer is called for both aircrafts after each module.\n",
    "\n",
    "The only modification implemented for now is the increase of the wing span. The user has to define the multiplier of the span, and can also play on other parameters such as setting the engine position along the span.\n",
    "\n",
    "The fastga code is from the root analysis_mode on GitHub.\n",
    "\n",
    "Like in the tutorials, the structure of the notebook is based on data transfers between the data folder which stocks the .xml of the reference aircraft, and the workdir folder which stocks the .xml files passing through the modules of FAST-OAD-GA. After all the modules have been executed the final .xml files are placed in the output folder.\n",
    "\n",
    "As the TBM-900 turbopropeller is still being modelized in FAST-OAD-GA, the Beechcraft 76 will be used for this analysis. There is no limit in the code for the increase in span, but some modules could have problems running with an extreme value (such as two times the original span)."
   ]
  },
  {
   "cell_type": "markdown",
   "metadata": {},
   "source": [
    "## 1. Initialization of the work environment"
   ]
  },
  {
   "cell_type": "code",
   "execution_count": 1,
   "metadata": {
    "scrolled": false
   },
   "outputs": [
    {
     "name": "stderr",
     "output_type": "stream",
     "text": [
      "Failed to import module fastga.models.weight.cg.unitary_tests.test_cirrus_sr22.py\n",
      "Failed to import module fastga.models.loops.unitary_tests.test_wing_area.py\n",
      "Failed to import module fastga.models.aerodynamics.unitary_tests.test_cirrus_sr22.py\n",
      "Failed to import module fastga.models.propulsion.fuel_propulsion.basicIC_engine.unitary_tests.test_openmdao_engine.py\n",
      "Failed to import module fastga.models.handling_qualities.unitary_tests.test_cirrus_sr22.py\n",
      "Failed to import module fastga.models.performances.unitary_tests.test_cirrus_sr22.py\n",
      "Failed to import module fastga.models.load_analysis.unitary_tests.test_cirrus_sr22.py\n",
      "Failed to import module fastga.models.geometry.unitary_tests.test_cirrus_sr22.py\n",
      "Failed to import module fastga.models.aerodynamics.unitary_tests.test_beechcraft_76.py\n",
      "Failed to import module fastga.models.load_analysis.fuselage.compute_bending_moment_reversed_old.py\n",
      "Failed to import module fastga.models.geometry.unitary_tests.test_beechcraft_76.py\n",
      "Failed to import module fastga.models.performances.unitary_tests.test_beechcraft_76.py\n",
      "Failed to import module fastga.models.handling_qualities.unitary_tests.test_beechcraft_76.py\n",
      "Failed to import module fastga.models.load_analysis.unitary_tests.test_beechcraft_76.py\n",
      "Failed to import module fastga.models.weight.cg.unitary_tests.test_beechcraft_76.py\n",
      "Failed to import module fastga.models.weight.mass_breakdown.unitary_tests.test_beechcraft_76.py\n",
      "Failed to import module fastga.models.weight.mass_breakdown.unitary_tests.test_cirrus_sr22.py\n"
     ]
    },
    {
     "data": {
      "text/html": [
       "<style>.container { width:80% !important; }</style>"
      ],
      "text/plain": [
       "<IPython.core.display.HTML object>"
      ]
     },
     "metadata": {},
     "output_type": "display_data"
    },
    {
     "data": {
      "text/plain": [
       "'C:\\\\Users\\\\Lucas\\\\FAST-OAD-GA\\\\FAST-GA\\\\src\\\\fastga\\\\notebooks\\\\Lucas\\\\workdir\\\\geometry_mod.xml'"
      ]
     },
     "execution_count": 1,
     "metadata": {},
     "output_type": "execute_result"
    }
   ],
   "source": [
    "import os.path as pth\n",
    "import os\n",
    "import openmdao.api as om\n",
    "from fastoad import api as api_cs25\n",
    "from fastga.command import api as api_cs23\n",
    "import logging\n",
    "from fastoad.gui import VariableViewer\n",
    "import shutil\n",
    "\n",
    "# Define relative path.\n",
    "current_path = os.getcwd()\n",
    "DATA_FOLDER_PATH = pth.join(current_path, 'data')\n",
    "WORK_FOLDER_PATH = pth.join(current_path, 'workdir')\n",
    "OUTPUT_FOLDER_PATH = pth.join(current_path, 'output')\n",
    "\n",
    "# Clear work folder.\n",
    "shutil.rmtree(WORK_FOLDER_PATH, ignore_errors=True)\n",
    "os.mkdir(WORK_FOLDER_PATH)\n",
    "\n",
    "# For using more screen width.\n",
    "from IPython.core.display import display, HTML\n",
    "display(HTML(\"<style>.container { width:80% !important; }</style>\"))\n",
    "\n",
    "# Final file names. These .xml files will be overwritten each time they pass through a module.\n",
    "AIRCRAFT_REF_FILE = pth.join(WORK_FOLDER_PATH, 'geometry_reference.xml')\n",
    "AIRCRAFT_MOD_FILE = pth.join(WORK_FOLDER_PATH, 'geometry_mod.xml')\n",
    "\n",
    "# Copy the reference aircraft file in the files of the work folder.\n",
    "shutil.copy(pth.join(DATA_FOLDER_PATH, 'TBM-900.xml'), AIRCRAFT_REF_FILE)\n",
    "shutil.copy(pth.join(DATA_FOLDER_PATH, 'beechcraft_76.xml'), AIRCRAFT_MOD_FILE)"
   ]
  },
  {
   "cell_type": "markdown",
   "metadata": {},
   "source": [
    "## Propeller Computation"
   ]
  },
  {
   "cell_type": "code",
   "execution_count": 2,
   "metadata": {
    "scrolled": false
   },
   "outputs": [
    {
     "name": "stderr",
     "output_type": "stream",
     "text": [
      "Entering propeller computation\n"
     ]
    },
    {
     "name": "stdout",
     "output_type": "stream",
     "text": [
      "2 Explicit Output(s) in 'system.propeller_aero_conditions'\n",
      "\n",
      "varname                               value     \n",
      "------------------------------------  ----------\n",
      "data:aerodynamics:propeller:mach      [0.]      \n",
      "data:aerodynamics:propeller:reynolds  [1000000.]\n",
      "\n",
      "\n",
      "0 Implicit Output(s) in 'system.propeller_aero_conditions'\n",
      "\n",
      "\n"
     ]
    },
    {
     "name": "stderr",
     "output_type": "stream",
     "text": [
      "C:\\Users\\Lucas\\FAST-OAD-GA\\FAST-GA\\src\\fastga\\models\\aerodynamics\\components\\compute_propeller_aero.py:160: RuntimeWarning: divide by zero encountered in true_divide\n",
      "  (v_inf + 60.0 / v_inf) / (omega * 2.0 * math.pi / 60.0 * radius_ratio_vect)\n",
      "C:\\Users\\Lucas\\FAST-OAD-GA\\FAST-GA\\src\\fastga\\models\\aerodynamics\\components\\compute_propeller_aero.py:358: UserWarning: Propeller not working in propulsive mode!\n",
      "  warnings.warn(\"Propeller not working in propulsive mode!\")\n",
      "c:\\users\\lucas\\fast-oad-ga\\venvtest\\lib\\site-packages\\scipy\\optimize\\minpack.py:175: RuntimeWarning: The iteration is not making good progress, as measured by the \n",
      "  improvement from the last five Jacobian evaluations.\n",
      "  warnings.warn(msg, RuntimeWarning)\n",
      "C:\\Users\\Lucas\\FAST-OAD-GA\\FAST-GA\\src\\fastga\\models\\aerodynamics\\components\\compute_propeller_aero.py:346: UserWarning: Propeller element out of calculated polars: contribution canceled!\n",
      "  warnings.warn(\"Propeller element out of calculated polars: contribution canceled!\")\n",
      "C:\\Users\\Lucas\\FAST-OAD-GA\\FAST-GA\\src\\fastga\\models\\aerodynamics\\components\\compute_propeller_aero.py:478: RuntimeWarning: divide by zero encountered in true_divide\n",
      "  (radius_max - radius) / radius * math.sqrt(1 + (omega * radius / (v_inf + v_i)) ** 2.0)\n",
      "Done with propeller computation\n",
      "Variable \"data:propulsion:IC_engine:max_power\" out of bound: value [625600.] W is over upper limit ( 250000 ) in file C:\\Users\\Lucas\\FAST-OAD-GA\\FAST-GA\\src\\fastga\\models\\propulsion\\fuel_propulsion\\basicIC_engine\\openmdao.py\n",
      "Variable \"data:propulsion:IC_engine:max_power\" out of bound: value [625600.] W is over upper limit ( 250000 ) in file C:\\Users\\Lucas\\FAST-OAD-GA\\FAST-GA\\src\\fastga\\models\\propulsion\\fuel_propulsion\\turboprop_simple\\openmdao.py\n"
     ]
    },
    {
     "data": {
      "application/vnd.jupyter.widget-view+json": {
       "model_id": "c3300e120e174fe08fc3da2b5cc821fc",
       "version_major": 2,
       "version_minor": 0
      },
      "text/plain": [
       "VBox(children=(HBox(children=(Button(description='Load', icon='upload', style=ButtonStyle(), tooltip='Load the…"
      ]
     },
     "metadata": {},
     "output_type": "display_data"
    }
   ],
   "source": [
    "from fastga.models.aerodynamics.components.compute_propeller_aero import ComputePropellerPerformance\n",
    "\n",
    "compute_propeller_ref = api_cs23.generate_block_analysis(\n",
    "        ComputePropellerPerformance(),\n",
    "        [],\n",
    "        str(AIRCRAFT_REF_FILE),\n",
    "        True,\n",
    "    )\n",
    "\n",
    "# compute_propeller_mod = api_cs23.generate_block_analysis(\n",
    "#         ComputePropellerPerformance(),\n",
    "#         [],\n",
    "#         str(AIRCRAFT_MOD_FILE),\n",
    "#         True,\n",
    "#     )\n",
    "\n",
    "\n",
    "output_ref = compute_propeller_ref({})\n",
    "# output_mod = compute_propeller_mod({})\n",
    "\n",
    "# Open viewer\n",
    "api_cs25.variable_viewer(AIRCRAFT_REF_FILE)"
   ]
  },
  {
   "cell_type": "markdown",
   "metadata": {},
   "source": [
    "## 2. Definition of the modifications from the reference architecture\n",
    "\n",
    "Describes the different parameters the user has to choose in order to obtain the desired modified configuration. The function generate_block_analysis is then used twice to create the .xml file related to the modified configuration."
   ]
  },
  {
   "cell_type": "code",
   "execution_count": null,
   "metadata": {},
   "outputs": [],
   "source": [
    "# Span modifications\n",
    "span_length_multiplier = 1.1       # value by which the wing span is multiplied. If 1.0, the span doesn't change.\n",
    "fixed_engine_position = True       # boolean stating if the engines stay at the same y-position along the span or if their y-ratio is conserved\n",
    "fuel_added_part = False            # boolean stating if fuel tanks are added in the extended part of the wing. If True, only applies for y_ratio_tank_end =1.0 in the initial .xml file.\n"
   ]
  },
  {
   "cell_type": "code",
   "execution_count": null,
   "metadata": {
    "scrolled": false
   },
   "outputs": [],
   "source": [
    "from fastga.models.modify_config import ComputeConfigMod\n",
    "\n",
    "\n",
    "compute_modify = api_cs23.generate_block_analysis(\n",
    "        ComputeConfigMod(span_mod=[span_length_multiplier, fixed_engine_position, fuel_added_part]),\n",
    "        [],\n",
    "        str(AIRCRAFT_MOD_FILE),\n",
    "        True,\n",
    "    )\n",
    "\n",
    "output_mod = compute_modify({})\n",
    "\n",
    "# Open viewer\n",
    "api_cs25.variable_viewer(AIRCRAFT_MOD_FILE)"
   ]
  },
  {
   "cell_type": "code",
   "execution_count": null,
   "metadata": {
    "scrolled": false
   },
   "outputs": [],
   "source": [
    "from fastga.models.modify_config.update_XML import UpdateXML\n",
    "\n",
    "\n",
    "compute_update = api_cs23.generate_block_analysis(\n",
    "        UpdateXML(span_mod=[span_length_multiplier, fixed_engine_position, fuel_added_part]),\n",
    "        [],\n",
    "        str(AIRCRAFT_MOD_FILE),\n",
    "        True,\n",
    "    )\n",
    "\n",
    "output_mod = compute_update({})\n",
    "\n",
    "# Open viewer\n",
    "api_cs25.variable_viewer(AIRCRAFT_MOD_FILE)"
   ]
  },
  {
   "cell_type": "markdown",
   "metadata": {},
   "source": [
    "## 3. Geometry Module"
   ]
  },
  {
   "cell_type": "code",
   "execution_count": 3,
   "metadata": {
    "scrolled": false
   },
   "outputs": [
    {
     "name": "stderr",
     "output_type": "stream",
     "text": [
      "Variable \"data:propulsion:IC_engine:max_power\" out of bound: value [625600.] W is over upper limit ( 250000 ) in file C:\\Users\\Lucas\\FAST-OAD-GA\\FAST-GA\\src\\fastga\\models\\propulsion\\fuel_propulsion\\basicIC_engine\\openmdao.py\n",
      "Variable \"data:propulsion:IC_engine:max_power\" out of bound: value [625600.] W is over upper limit ( 250000 ) in file C:\\Users\\Lucas\\FAST-OAD-GA\\FAST-GA\\src\\fastga\\models\\propulsion\\fuel_propulsion\\turboprop_simple\\openmdao.py\n"
     ]
    }
   ],
   "source": [
    "from fastga.models.geometry import GeometryFixedTailDistance as Geometry\n",
    "\n",
    "# Declare function\n",
    "compute_geometry_ref = api_cs23.generate_block_analysis(\n",
    "        Geometry(propulsion_id=\"fastga.wrapper.propulsion.basic_turboprop\"),\n",
    "        [],\n",
    "        str(AIRCRAFT_REF_FILE),\n",
    "        True,\n",
    "    )\n",
    "\n",
    "# compute_geometry_mod = api_cs23.generate_block_analysis(\n",
    "#         Geometry(\n",
    "#             propulsion_id=\"fastga.wrapper.propulsion.basicIC_engine\"),\n",
    "#         [],\n",
    "#         str(AIRCRAFT_MOD_FILE),\n",
    "#         True,\n",
    "#     )\n",
    "\n",
    "# Compute geometry\n",
    "output_ref = compute_geometry_ref({})\n",
    "# output_mod = compute_geometry_mod({})"
   ]
  },
  {
   "cell_type": "code",
   "execution_count": null,
   "metadata": {
    "scrolled": false
   },
   "outputs": [],
   "source": [
    "# Open viewer\n",
    "api_cs25.variable_viewer(AIRCRAFT_REF_FILE)"
   ]
  },
  {
   "cell_type": "code",
   "execution_count": null,
   "metadata": {},
   "outputs": [],
   "source": [
    "api_cs25.variable_viewer(AIRCRAFT_MOD_FILE)"
   ]
  },
  {
   "cell_type": "markdown",
   "metadata": {},
   "source": [
    "## 4. Aerodynamics Module \n",
    "\n",
    "We choose to use the software OpenVSP, and we activate the mach interpolation option because it is needed to execute the load analysis module. We also compute the slipstream which allows to get more variables in cruise and to plot the lift coefficient along the span in the post-processing notebook.\n",
    "\n",
    "This module usually represents the longest computational time."
   ]
  },
  {
   "cell_type": "code",
   "execution_count": 4,
   "metadata": {
    "scrolled": false
   },
   "outputs": [
    {
     "name": "stderr",
     "output_type": "stream",
     "text": [
      "C:\\Users\\Lucas\\FAST-OAD-GA\\FAST-GA\\src\\fastga\\models\\aerodynamics\\external\\xfoil\\xfoil_polar.py:421: UserWarning: genfromtxt: Empty input file: \"C:\\Users\\Lucas\\AppData\\Local\\Temp\\x3rlo9xbh\\out\"\n",
      "  result_array = np.genfromtxt(xfoil_result_file_path, skip_header=12, dtype=dtypes)\n",
      "2D CL max not found, less than 40% of angle range computed: using default value 1.9\n",
      "Variable \"data:propulsion:IC_engine:max_power\" out of bound: value [625600.] W is over upper limit ( 250000 ) in file C:\\Users\\Lucas\\FAST-OAD-GA\\FAST-GA\\src\\fastga\\models\\propulsion\\fuel_propulsion\\basicIC_engine\\openmdao.py\n",
      "Variable \"data:propulsion:IC_engine:max_power\" out of bound: value [625600.] W is over upper limit ( 250000 ) in file C:\\Users\\Lucas\\FAST-OAD-GA\\FAST-GA\\src\\fastga\\models\\propulsion\\fuel_propulsion\\turboprop_simple\\openmdao.py\n"
     ]
    }
   ],
   "source": [
    "from fastga.models.aerodynamics.aerodynamics import Aerodynamics\n",
    "\n",
    "# Declare function on reference file\n",
    "compute_aero_ref = api_cs23.generate_block_analysis(\n",
    "        Aerodynamics(\n",
    "            propulsion_id=\"fastga.wrapper.propulsion.basic_turboprop\",\n",
    "            use_openvsp=True,\n",
    "            compute_mach_interpolation=True,\n",
    "            compute_slipstream_cruise=True,\n",
    "#             wing_airfoil_file=\"naca43013_3.af\"\n",
    "        ),\n",
    "        [],\n",
    "        str(AIRCRAFT_REF_FILE),\n",
    "        True,\n",
    "    )\n",
    "\n",
    "\n",
    "# # Declare function on modified file\n",
    "# compute_aero_mod = api_cs23.generate_block_analysis(\n",
    "#         Aerodynamics(\n",
    "#             propulsion_id=\"fastga.wrapper.propulsion.basicIC_engine\",\n",
    "#             use_openvsp=True,\n",
    "#             compute_mach_interpolation=True,\n",
    "#             compute_slipstream_cruise=True,\n",
    "# #             wing_airfoil_file=\"naca43013_3.af\"\n",
    "#         ),\n",
    "#         [],\n",
    "#         str(AIRCRAFT_MOD_FILE),\n",
    "#         True,\n",
    "#     )\n",
    "\n",
    "# Compute both aircraft designs\n",
    "output_ref = compute_aero_ref({})\n",
    "# output_mod = compute_aero_mod({})\n",
    "\n",
    "# # Save Results\n",
    "# OUTPUT_AERO_FILE = pth.join(OUTPUT_FOLDER_PATH, 'output_ref_aero.xml')\n",
    "# OUTPUT_MOD_FILE = pth.join(OUTPUT_FOLDER_PATH, 'output_mod_aero.xml')\n",
    "# shutil.copy(AIRCRAFT_REF_FILE, OUTPUT_AERO_FILE)\n",
    "# shutil.copy(AIRCRAFT_MOD_FILE, OUTPUT_MOD_FILE)"
   ]
  },
  {
   "cell_type": "code",
   "execution_count": null,
   "metadata": {
    "scrolled": false
   },
   "outputs": [],
   "source": [
    "api_cs25.variable_viewer(AIRCRAFT_REF_FILE)"
   ]
  },
  {
   "cell_type": "code",
   "execution_count": null,
   "metadata": {
    "scrolled": false
   },
   "outputs": [],
   "source": [
    "api_cs25.variable_viewer(AIRCRAFT_MOD_FILE)"
   ]
  },
  {
   "cell_type": "markdown",
   "metadata": {},
   "source": [
    "## 5. Weight Module (+ update MTOW)"
   ]
  },
  {
   "cell_type": "code",
   "execution_count": 5,
   "metadata": {
    "scrolled": false
   },
   "outputs": [
    {
     "name": "stderr",
     "output_type": "stream",
     "text": [
      "Variable \"data:propulsion:IC_engine:max_power\" out of bound: value [625600.] W is over upper limit ( 250000 ) in file C:\\Users\\Lucas\\FAST-OAD-GA\\FAST-GA\\src\\fastga\\models\\propulsion\\fuel_propulsion\\basicIC_engine\\openmdao.py\n",
      "Variable \"data:propulsion:IC_engine:max_power\" out of bound: value [625600.] W is over upper limit ( 250000 ) in file C:\\Users\\Lucas\\FAST-OAD-GA\\FAST-GA\\src\\fastga\\models\\propulsion\\fuel_propulsion\\turboprop_simple\\openmdao.py\n"
     ]
    }
   ],
   "source": [
    "from fastga.models.weight import Weight\n",
    "\n",
    "# Declare function on reference file\n",
    "compute_weight_ref = api_cs23.generate_block_analysis(\n",
    "        Weight(\n",
    "            propulsion_id=\"fastga.wrapper.propulsion.basic_turboprop\",\n",
    "        ),\n",
    "        [],\n",
    "        str(AIRCRAFT_REF_FILE),\n",
    "        True,\n",
    "    )\n",
    "\n",
    "\n",
    "# # Declare function on modified file\n",
    "# compute_weight_mod = api_cs23.generate_block_analysis(\n",
    "#         Weight(\n",
    "#             propulsion_id=\"fastga.wrapper.propulsion.basicIC_engine\",\n",
    "#         ),\n",
    "#         [],\n",
    "#         str(AIRCRAFT_MOD_FILE),\n",
    "#         True,\n",
    "#     )\n",
    "\n",
    "output_ref = compute_weight_ref({})\n",
    "# output_mod = compute_weight_mod({})"
   ]
  },
  {
   "cell_type": "code",
   "execution_count": null,
   "metadata": {},
   "outputs": [],
   "source": [
    "api_cs25.variable_viewer(AIRCRAFT_REF_FILE)"
   ]
  },
  {
   "cell_type": "code",
   "execution_count": null,
   "metadata": {},
   "outputs": [],
   "source": [
    "api_cs25.variable_viewer(AIRCRAFT_MOD_FILE)"
   ]
  },
  {
   "cell_type": "code",
   "execution_count": 6,
   "metadata": {},
   "outputs": [
    {
     "name": "stderr",
     "output_type": "stream",
     "text": [
      "Variable \"data:propulsion:IC_engine:max_power\" out of bound: value [625600.] W is over upper limit ( 250000 ) in file C:\\Users\\Lucas\\FAST-OAD-GA\\FAST-GA\\src\\fastga\\models\\propulsion\\fuel_propulsion\\basicIC_engine\\openmdao.py\n",
      "Variable \"data:propulsion:IC_engine:max_power\" out of bound: value [625600.] W is over upper limit ( 250000 ) in file C:\\Users\\Lucas\\FAST-OAD-GA\\FAST-GA\\src\\fastga\\models\\propulsion\\fuel_propulsion\\turboprop_simple\\openmdao.py\n"
     ]
    }
   ],
   "source": [
    "from fastga.models.weight.mass_breakdown.update_mtow import UpdateMTOW\n",
    "\n",
    "var_inputs = [\"data:mission:sizing:fuel\"]\n",
    "\n",
    "compute_mtow_ref = api_cs23.generate_block_analysis(\n",
    "        UpdateMTOW(),\n",
    "        var_inputs,\n",
    "        str(AIRCRAFT_REF_FILE),\n",
    "        True,\n",
    "    )\n",
    "\n",
    "# compute_mtow_mod = api_cs23.generate_block_analysis(\n",
    "#         UpdateMTOW(),\n",
    "#         var_inputs,\n",
    "#         str(AIRCRAFT_MOD_FILE),\n",
    "#         True,\n",
    "#     )\n",
    "\n",
    "inputs_dict = {\"data:mission:sizing:fuel\": (150., \"kg\")}\n",
    "\n",
    "output_ref = compute_mtow_ref(inputs_dict)\n",
    "# output_mod = compute_mtow_mod(inputs_dict)"
   ]
  },
  {
   "cell_type": "code",
   "execution_count": null,
   "metadata": {},
   "outputs": [],
   "source": [
    "api_cs25.variable_viewer(AIRCRAFT_REF_FILE)"
   ]
  },
  {
   "cell_type": "code",
   "execution_count": null,
   "metadata": {
    "scrolled": false
   },
   "outputs": [],
   "source": [
    "api_cs25.variable_viewer(AIRCRAFT_MOD_FILE)"
   ]
  },
  {
   "cell_type": "markdown",
   "metadata": {},
   "source": [
    "## 6. Performances Module"
   ]
  },
  {
   "cell_type": "code",
   "execution_count": 7,
   "metadata": {},
   "outputs": [
    {
     "name": "stderr",
     "output_type": "stream",
     "text": [
      "Variable \"data:propulsion:IC_engine:max_power\" out of bound: value [625600.] W is over upper limit ( 250000 ) in file C:\\Users\\Lucas\\FAST-OAD-GA\\FAST-GA\\src\\fastga\\models\\propulsion\\fuel_propulsion\\basicIC_engine\\openmdao.py\n",
      "Variable \"data:propulsion:IC_engine:max_power\" out of bound: value [625600.] W is over upper limit ( 250000 ) in file C:\\Users\\Lucas\\FAST-OAD-GA\\FAST-GA\\src\\fastga\\models\\propulsion\\fuel_propulsion\\turboprop_simple\\openmdao.py\n"
     ]
    }
   ],
   "source": [
    "from fastga.models.performances import Mission\n",
    "\n",
    "compute_sizing_ref = api_cs23.generate_block_analysis(\n",
    "        Mission(\n",
    "            propulsion_id=\"fastga.wrapper.propulsion.basic_turboprop\",\n",
    "        ),\n",
    "        [],\n",
    "        str(AIRCRAFT_REF_FILE),\n",
    "        True,\n",
    "    )\n",
    "\n",
    "# compute_sizing_mod = api_cs23.generate_block_analysis(\n",
    "#         Mission(\n",
    "#             propulsion_id=\"fastga.wrapper.propulsion.basicIC_engine\",\n",
    "#         ),\n",
    "#         [],\n",
    "#         str(AIRCRAFT_MOD_FILE),\n",
    "#         True,\n",
    "#     )\n",
    "\n",
    "output_ref = compute_sizing_ref({})\n",
    "# output_mod = compute_sizing_mod({})\n",
    "\n",
    "# # Save Results\n",
    "# OUTPUT_REF_FILE = pth.join(OUTPUT_FOLDER_PATH, 'output_ref_perf.xml')\n",
    "# OUTPUT_MOD_FILE = pth.join(OUTPUT_FOLDER_PATH, 'output_mod_perf.xml')\n",
    "# shutil.copy(AIRCRAFT_REF_FILE, OUTPUT_REF_FILE)\n",
    "# shutil.copy(AIRCRAFT_MOD_FILE, OUTPUT_MOD_FILE)"
   ]
  },
  {
   "cell_type": "code",
   "execution_count": null,
   "metadata": {},
   "outputs": [],
   "source": [
    "api_cs25.variable_viewer(AIRCRAFT_REF_FILE)"
   ]
  },
  {
   "cell_type": "code",
   "execution_count": null,
   "metadata": {},
   "outputs": [],
   "source": [
    "api_cs25.variable_viewer(AIRCRAFT_MOD_FILE)"
   ]
  },
  {
   "cell_type": "markdown",
   "metadata": {},
   "source": [
    "## 7. Load Analysis Module"
   ]
  },
  {
   "cell_type": "code",
   "execution_count": 8,
   "metadata": {
    "scrolled": false
   },
   "outputs": [
    {
     "name": "stderr",
     "output_type": "stream",
     "text": [
      "C:\\Users\\Lucas\\FAST-OAD-GA\\FAST-GA\\src\\fastga\\models\\load_analysis\\fuselage\\compute_bending_moment.py:163: VisibleDeprecationWarning: Creating an ndarray from ragged nested sequences (which is a list-or-tuple of lists-or-tuples-or ndarrays with different lengths or shapes) is deprecated. If you meant to do this, you must specify 'dtype=object' when creating the ndarray.\n",
      "  load_case_array = np.array([[n_lift, lift_max_h], [n_emergency_landing, 0]])\n",
      "Variable \"data:propulsion:IC_engine:max_power\" out of bound: value [625600.] W is over upper limit ( 250000 ) in file C:\\Users\\Lucas\\FAST-OAD-GA\\FAST-GA\\src\\fastga\\models\\propulsion\\fuel_propulsion\\basicIC_engine\\openmdao.py\n",
      "Variable \"data:propulsion:IC_engine:max_power\" out of bound: value [625600.] W is over upper limit ( 250000 ) in file C:\\Users\\Lucas\\FAST-OAD-GA\\FAST-GA\\src\\fastga\\models\\propulsion\\fuel_propulsion\\turboprop_simple\\openmdao.py\n"
     ]
    }
   ],
   "source": [
    "from fastga.models.load_analysis.loads import Loads\n",
    "\n",
    "compute_loads_ref = api_cs23.generate_block_analysis(\n",
    "        Loads(\n",
    "            propulsion_id=\"fastga.wrapper.propulsion.basic_turboprop\",\n",
    "        ),\n",
    "        [],\n",
    "        str(AIRCRAFT_REF_FILE),\n",
    "        True,\n",
    "    )\n",
    "\n",
    "# compute_loads_mod = api_cs23.generate_block_analysis(\n",
    "#         Loads(\n",
    "#             propulsion_id=\"fastga.wrapper.propulsion.basicIC_engine\",\n",
    "#         ),\n",
    "#         [],\n",
    "#         str(AIRCRAFT_MOD_FILE),\n",
    "#         True,\n",
    "#     )\n",
    "\n",
    "output_ref = compute_loads_ref({})\n",
    "# output_mod = compute_loads_mod({})"
   ]
  },
  {
   "cell_type": "code",
   "execution_count": null,
   "metadata": {},
   "outputs": [],
   "source": [
    "api_cs25.variable_viewer(AIRCRAFT_REF_FILE)"
   ]
  },
  {
   "cell_type": "code",
   "execution_count": null,
   "metadata": {},
   "outputs": [],
   "source": [
    "api_cs25.variable_viewer(AIRCRAFT_MOD_FILE)"
   ]
  },
  {
   "cell_type": "markdown",
   "metadata": {},
   "source": [
    "## 8. Handling Qualities Module\n",
    "\n",
    "As the main purpose of this notebook is to directly visualize the variations of the plane performance and its handling qualities by modifying the reference architecture, the static margin will be computed without updating the tail areas."
   ]
  },
  {
   "cell_type": "code",
   "execution_count": 9,
   "metadata": {},
   "outputs": [
    {
     "name": "stderr",
     "output_type": "stream",
     "text": [
      "Variable \"data:propulsion:IC_engine:max_power\" out of bound: value [625600.] W is over upper limit ( 250000 ) in file C:\\Users\\Lucas\\FAST-OAD-GA\\FAST-GA\\src\\fastga\\models\\propulsion\\fuel_propulsion\\basicIC_engine\\openmdao.py\n",
      "Variable \"data:propulsion:IC_engine:max_power\" out of bound: value [625600.] W is over upper limit ( 250000 ) in file C:\\Users\\Lucas\\FAST-OAD-GA\\FAST-GA\\src\\fastga\\models\\propulsion\\fuel_propulsion\\turboprop_simple\\openmdao.py\n"
     ]
    }
   ],
   "source": [
    "from fastga.models.handling_qualities.handling_qualities import ComputeHandlingQualities\n",
    "\n",
    "compute_hq_ref = api_cs23.generate_block_analysis(\n",
    "        ComputeHandlingQualities(\n",
    "            propulsion_id=\"fastga.wrapper.propulsion.basic_turboprop\",\n",
    "        ),\n",
    "        [],\n",
    "        str(AIRCRAFT_REF_FILE),\n",
    "        True,\n",
    "    )\n",
    "\n",
    "# compute_hq_mod = api_cs23.generate_block_analysis(\n",
    "#         ComputeHandlingQualities(\n",
    "#             propulsion_id=\"fastga.wrapper.propulsion.basicIC_engine\",\n",
    "#         ),\n",
    "#         [],\n",
    "#         str(AIRCRAFT_MOD_FILE),\n",
    "#         True,\n",
    "#     )\n",
    "\n",
    "output_ref = compute_hq_ref({})\n",
    "# output_mod = compute_hq_mod({})"
   ]
  },
  {
   "cell_type": "code",
   "execution_count": null,
   "metadata": {},
   "outputs": [],
   "source": [
    "api_cs25.variable_viewer(AIRCRAFT_REF_FILE)"
   ]
  },
  {
   "cell_type": "code",
   "execution_count": null,
   "metadata": {},
   "outputs": [],
   "source": [
    "api_cs25.variable_viewer(AIRCRAFT_MOD_FILE)"
   ]
  },
  {
   "cell_type": "markdown",
   "metadata": {},
   "source": [
    "## Save files for post processing"
   ]
  },
  {
   "cell_type": "code",
   "execution_count": null,
   "metadata": {},
   "outputs": [],
   "source": [
    "# Clear output folder.\n",
    "shutil.rmtree(OUTPUT_FOLDER_PATH, ignore_errors=True)\n",
    "os.mkdir(OUTPUT_FOLDER_PATH)\n",
    "\n",
    "OUTPUT_REF_FILE = pth.join(OUTPUT_FOLDER_PATH, 'output_ref.xml')\n",
    "OUTPUT_MOD_FILE = pth.join(OUTPUT_FOLDER_PATH, 'output_mod.xml')\n",
    "shutil.copy(AIRCRAFT_REF_FILE, OUTPUT_REF_FILE)\n",
    "shutil.copy(AIRCRAFT_MOD_FILE, OUTPUT_MOD_FILE)"
   ]
  },
  {
   "cell_type": "code",
   "execution_count": null,
   "metadata": {},
   "outputs": [],
   "source": []
  }
 ],
 "metadata": {
  "kernelspec": {
   "display_name": "Python 3",
   "language": "python",
   "name": "python3"
  },
  "language_info": {
   "codemirror_mode": {
    "name": "ipython",
    "version": 3
   },
   "file_extension": ".py",
   "mimetype": "text/x-python",
   "name": "python",
   "nbconvert_exporter": "python",
   "pygments_lexer": "ipython3",
   "version": "3.9.4"
  }
 },
 "nbformat": 4,
 "nbformat_minor": 4
}
