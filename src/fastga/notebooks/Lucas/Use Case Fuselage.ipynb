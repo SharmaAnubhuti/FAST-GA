{
 "cells": [
  {
   "cell_type": "markdown",
   "metadata": {},
   "source": [
    "<div class=\"row\">\n",
    "  <div class=\"column\">\n",
    "    <img src=\"./img/logo-onera.png\" width=\"200\">\n",
    "  </div>\n",
    "  <div class=\"column\">\n",
    "    <img src=\"./img/logo-ISAE_SUPAERO.png\" width=\"200\">\n",
    "  </div>\n",
    "</div>"
   ]
  },
  {
   "cell_type": "markdown",
   "metadata": {},
   "source": [
    "# Modification of the fuselage length of an aircraft.\n",
    "\n",
    "This notebook is based on the 3rd FAST-OAD-GA tutorial written by Aurélien. It aims to compare a reference architecture represented by the .XML file of an aircraft (Beechcraft 76, Cirrus 22, TBM-900) with a modified configuration. The modified architecture is produced by the FAST-OAD-GA module called modify_config which creates the corresponding .XML file. Then the .xml files of the reference aircraft and of the modified one go through all of the FAST-OAD-GA modules, with the generate_block_analysis function which calls each module. The variable viewer is called for both aircrafts after each module.\n",
    "\n",
    "The modification implemented in this notebook is the increase of the fuselage length in order to add a row of passengers. The user has to define the multiplier of the span, and can also play on other parameters such as setting the engine position along the span.\n",
    "\n",
    "The fastga code is from the root analysis_mode on GitHub.\n",
    "\n",
    "Like in the tutorials, the structure of the notebook is based on data transfers between the data folder which stocks the .xml of the reference aircraft, and the workdir folder which stocks the .xml files passing through the modules of FAST-OAD-GA. After all the modules have been executed the final .xml files are placed in the output folder.\n",
    "\n",
    "As the TBM-900 turbopropeller is still being modelized in FAST-OAD-GA, the Beechcraft 76 will be used for this analysis. There is no limit in the code for the increase in span, but some modules could have problems running with an extreme value (such as two times the original span)."
   ]
  },
  {
   "cell_type": "markdown",
   "metadata": {},
   "source": [
    "## 1. Initialization of the work environment"
   ]
  },
  {
   "cell_type": "markdown",
   "metadata": {},
   "source": [
    "### Choice of the aircraft"
   ]
  },
  {
   "cell_type": "code",
   "execution_count": 6,
   "metadata": {},
   "outputs": [
    {
     "name": "stdout",
     "output_type": "stream",
     "text": [
      "The reference aircraft .xml file is output_mda_beech.xml\n"
     ]
    },
    {
     "data": {
      "application/vnd.jupyter.widget-view+json": {
       "model_id": "c77ee4e53b484b75b11f2583c18b4692",
       "version_major": 2,
       "version_minor": 0
      },
      "text/plain": [
       "Dropdown(description='Reference Aircraft:', layout=Layout(width='30%'), options=(('Beechcraft Duchess 76', 'ou…"
      ]
     },
     "metadata": {},
     "output_type": "display_data"
    },
    {
     "name": "stdout",
     "output_type": "stream",
     "text": [
      "The reference aircraft .xml file is output_mda_cirrus_sr22.xml\n",
      "The reference aircraft .xml file is output_mda_beech.xml\n"
     ]
    }
   ],
   "source": [
    "from ipywidgets import widgets, Layout\n",
    "from fastoad.io import VariableIO\n",
    "from IPython.display import display, clear_output\n",
    "\n",
    "liste = widgets.Dropdown(\n",
    "    options=[('Beechcraft Duchess 76', 'output_mda_beech.xml'), ('Cirrus SR22', 'output_mda_cirrus_sr22.xml'), ('TBM-900', 'output_mda_tbm900.xml')],\n",
    "    value='output_mda_beech.xml',\n",
    "    description='Reference Aircraft:',\n",
    "    style={'description_width': 'initial'},\n",
    "    layout=Layout(width='30%'),\n",
    ")\n",
    "\n",
    "# Initialization of the reference aircraft\n",
    "ref_aircraft = 'output_mda_beech.xml'\n",
    "print('The reference aircraft .xml file is '+ ref_aircraft)\n",
    "\n",
    "def eventhandler(change):\n",
    "    if (change.new):\n",
    "        ref_aircraft = liste.value\n",
    "        print('The reference aircraft .xml file is '+ ref_aircraft)\n",
    "\n",
    "liste.observe(eventhandler, names='value')\n",
    "\n",
    "display(liste)"
   ]
  },
  {
   "cell_type": "markdown",
   "metadata": {},
   "source": [
    "### Choice of the engine model "
   ]
  },
  {
   "cell_type": "code",
   "execution_count": 7,
   "metadata": {},
   "outputs": [
    {
     "name": "stdout",
     "output_type": "stream",
     "text": [
      "The engine model id chosen is fastga.wrapper.propulsion.basicIC_engine\n"
     ]
    },
    {
     "data": {
      "application/vnd.jupyter.widget-view+json": {
       "model_id": "0cd18b0a32684b939dd09cd14a1c24d8",
       "version_major": 2,
       "version_minor": 0
      },
      "text/plain": [
       "Dropdown(description='Propulsion Model:', layout=Layout(width='30%'), options=(('Basic IC Engine', 'fastga.wra…"
      ]
     },
     "metadata": {},
     "output_type": "display_data"
    }
   ],
   "source": [
    "liste = widgets.Dropdown(\n",
    "    options=[('Basic IC Engine', \"fastga.wrapper.propulsion.basicIC_engine\"), ('Basic Turboprop', \"fastga.wrapper.propulsion.basic_turboprop\")],\n",
    "    value=\"fastga.wrapper.propulsion.basicIC_engine\",\n",
    "    description='Propulsion Model:',\n",
    "    style={'description_width': 'initial'},\n",
    "    layout=Layout(width='30%'),\n",
    ")\n",
    "\n",
    "# Initialization of the engine model\n",
    "engine_id = \"fastga.wrapper.propulsion.basicIC_engine\"\n",
    "print('The engine model id chosen is '+ engine_id)\n",
    "\n",
    "def eventhandler(change):\n",
    "    if (change.new):\n",
    "        engine_id = liste.value\n",
    "        print('The engine model id chosen is '+ engine_id)\n",
    "\n",
    "liste.observe(eventhandler, names='value')\n",
    "\n",
    "display(liste)"
   ]
  },
  {
   "cell_type": "markdown",
   "metadata": {},
   "source": [
    "### Preparation of files"
   ]
  },
  {
   "cell_type": "code",
   "execution_count": 11,
   "metadata": {
    "scrolled": false
   },
   "outputs": [
    {
     "data": {
      "text/html": [
       "<style>.container { width:80% !important; }</style>"
      ],
      "text/plain": [
       "<IPython.core.display.HTML object>"
      ]
     },
     "metadata": {},
     "output_type": "display_data"
    }
   ],
   "source": [
    "import os.path as pth\n",
    "import os\n",
    "import openmdao.api as om\n",
    "from fastoad import api as api_cs25\n",
    "from fastga.command import api as api_cs23\n",
    "import logging\n",
    "from fastoad.gui import VariableViewer\n",
    "import shutil\n",
    "\n",
    "# Define relative path.\n",
    "current_path = os.getcwd()\n",
    "DATA_FOLDER_PATH = pth.join(current_path, 'data')\n",
    "WORK_FOLDER_PATH = pth.join(current_path, 'workdir')\n",
    "OUTPUT_FOLDER_PATH = pth.join(current_path, 'output')\n",
    "\n",
    "# Clear work folder.\n",
    "shutil.rmtree(WORK_FOLDER_PATH, ignore_errors=True)\n",
    "os.mkdir(WORK_FOLDER_PATH)\n",
    "\n",
    "# For using more screen width.\n",
    "from IPython.core.display import display, HTML\n",
    "display(HTML(\"<style>.container { width:80% !important; }</style>\"))\n",
    "\n",
    "# Final file names. These .xml files will be overwritten each time they pass through a module.\n",
    "AIRCRAFT_REF_FILE = pth.join(WORK_FOLDER_PATH, 'geometry_reference.xml')\n",
    "AIRCRAFT_MOD_FILE = pth.join(WORK_FOLDER_PATH, 'geometry_mod.xml')\n",
    "\n",
    "# Copy the reference aircraft .xml file.\n",
    "shutil.copy(pth.join(OUTPUT_FOLDER_PATH, ref_aircraft), AIRCRAFT_REF_FILE)\n",
    "shutil.copy(AIRCRAFT_REF_FILE, AIRCRAFT_MOD_FILE)\n",
    "\n",
    "# Definition of the files for the weight MDA.\n",
    "CONFIG_FILE = pth.join(DATA_FOLDER_PATH, 'weight_loop.yml')\n",
    "WORK_CONFIG_FILE = pth.join(WORK_FOLDER_PATH, 'weight_loop.yml')\n",
    "shutil.copy(CONFIG_FILE, WORK_CONFIG_FILE)\n",
    "WEIGHT_LOOP_FILE = pth.join(WORK_FOLDER_PATH, 'problem_inputs_weight_loop.xml')"
   ]
  },
  {
   "cell_type": "markdown",
   "metadata": {},
   "source": [
    "## 2. Definition of the modifications from the reference architecture\n",
    "\n",
    "Describes the different parameters the user has to choose in order to obtain the desired modified configuration. The function generate_block_analysis is then used twice to create the .xml file related to the modified configuration.\n",
    "\n",
    "The same parameters have to be used for the ComputeConfigMod class and for the UpdateXML class."
   ]
  },
  {
   "cell_type": "code",
   "execution_count": 12,
   "metadata": {},
   "outputs": [],
   "source": [
    "# Fuselage modifications\n",
    "added_length = 0    # If 0, the length of a row of seats will be taken\n",
    "added_section_x_ratio_front = 1\n",
    "added_section_x_ratio_rear = 0\n",
    "added_pax = 2     # Integer stating the number of passengers added in the design mission. It will be added to the npax_design of the xml, so take care not to exceed the new npax_max.\n",
    "added_luggage = 10     # float stating the mass of luggage added in the design mission\n",
    "\n",
    "fuselage_mod_parameters = [added_length, added_section_x_ratio_front, added_section_x_ratio_rear, added_pax, added_luggage]"
   ]
  },
  {
   "cell_type": "code",
   "execution_count": 13,
   "metadata": {
    "scrolled": false
   },
   "outputs": [
    {
     "data": {
      "application/vnd.jupyter.widget-view+json": {
       "model_id": "b4a2b07b9f98475ab5b8347380e67914",
       "version_major": 2,
       "version_minor": 0
      },
      "text/plain": [
       "VBox(children=(HBox(children=(Button(description='Load', icon='upload', style=ButtonStyle(), tooltip='Load the…"
      ]
     },
     "metadata": {},
     "output_type": "display_data"
    }
   ],
   "source": [
    "from fastga.models.modify_config import ComputeConfigMod\n",
    "\n",
    "\n",
    "compute_modify = api_cs23.generate_block_analysis(\n",
    "        ComputeConfigMod(fuselage_mod=fuselage_mod_parameters),\n",
    "        [],\n",
    "        str(AIRCRAFT_MOD_FILE),\n",
    "        True,\n",
    "    )\n",
    "\n",
    "output_mod = compute_modify({})\n",
    "\n",
    "# Open viewer\n",
    "api_cs25.variable_viewer(AIRCRAFT_MOD_FILE)"
   ]
  },
  {
   "cell_type": "code",
   "execution_count": null,
   "metadata": {
    "scrolled": false
   },
   "outputs": [],
   "source": [
    "from fastga.models.modify_config.update_XML import UpdateXML\n",
    "\n",
    "\n",
    "compute_update = api_cs23.generate_block_analysis(\n",
    "        UpdateXML(fuselage_mod=fuselage_mod_parameters),\n",
    "        [],\n",
    "        str(AIRCRAFT_MOD_FILE),\n",
    "        True,\n",
    "    )\n",
    "\n",
    "output_mod = compute_update({})\n",
    "\n",
    "# Open viewer\n",
    "api_cs25.variable_viewer(AIRCRAFT_MOD_FILE)"
   ]
  },
  {
   "cell_type": "markdown",
   "metadata": {},
   "source": [
    "## 3. Computation of the FASTGA modules"
   ]
  },
  {
   "cell_type": "code",
   "execution_count": null,
   "metadata": {
    "scrolled": false
   },
   "outputs": [],
   "source": [
    "from fastga.models.geometry import GeometryFixedTailDistance as Geometry\n",
    "from fastga.models.aerodynamics.aerodynamics import Aerodynamics\n",
    "from fastga.models.weight.weight import Weight\n",
    "from fastga.models.weight.mass_breakdown.update_mtow import UpdateMTOW\n",
    "from fastga.models.performances.mission import Mission\n",
    "from fastga.models.load_analysis.loads import Loads\n",
    "from fastga.models.handling_qualities.handling_qualities import ComputeHandlingQualities\n",
    "from fastga.models.aerodynamics.external.openvsp.compute_vn import ComputeVNopenvsp\n",
    "\n",
    "\n",
    "# GEOMETRY\n",
    "compute_geometry_mod = api_cs23.generate_block_analysis(\n",
    "        Geometry(propulsion_id=engine_id),\n",
    "        [],\n",
    "        str(AIRCRAFT_MOD_FILE),\n",
    "        True,\n",
    "    )\n",
    "output_mod = compute_geometry_mod({})\n",
    "\n",
    "# AERODYNAMICS\n",
    "compute_aero_mod = api_cs23.generate_block_analysis(\n",
    "        Aerodynamics(\n",
    "            propulsion_id=engine_id,\n",
    "            use_openvsp=True,\n",
    "            compute_mach_interpolation=True,\n",
    "            compute_slipstream_cruise=True,\n",
    "#             wing_airfoil_file=\"naca43013_3.af\"\n",
    "        ),\n",
    "        [],\n",
    "        str(AIRCRAFT_MOD_FILE),\n",
    "        True,\n",
    "    )\n",
    "output_mod = compute_aero_mod({})\n",
    "\n",
    "# WEIGHT / MTOW / PERFORMANCES loop\n",
    "\n",
    "shutil.copy(AIRCRAFT_MOD_FILE, WEIGHT_LOOP_FILE)\n",
    "\n",
    "eval_problem = api_cs25.evaluate_problem(WORK_CONFIG_FILE, overwrite=True)\n",
    "\n",
    "OUTPUT_FILE = pth.join(WORK_FOLDER_PATH,'problem_outputs_weight_loop.xml')\n",
    "shutil.copy(OUTPUT_FILE, AIRCRAFT_MOD_FILE)\n",
    "\n",
    "# LOAD ANALYSIS\n",
    "compute_loads_mod = api_cs23.generate_block_analysis(\n",
    "        Loads(\n",
    "            propulsion_id=engine_id,\n",
    "        ),\n",
    "        [],\n",
    "        str(AIRCRAFT_MOD_FILE),\n",
    "        True,\n",
    "    )\n",
    "output_mod = compute_loads_mod({})\n",
    "\n",
    "# HANDLING QUALITIES\n",
    "compute_hq_mod = api_cs23.generate_block_analysis(\n",
    "        ComputeHandlingQualities(\n",
    "            propulsion_id=engine_id,\n",
    "        ),\n",
    "        [],\n",
    "        str(AIRCRAFT_MOD_FILE),\n",
    "        True,\n",
    "    )\n",
    "output_mod = compute_hq_mod({})\n",
    "\n",
    "# VN\n",
    "compute_vn = api_cs23.generate_block_analysis(\n",
    "        ComputeVNopenvsp(),\n",
    "        [],\n",
    "        str(AIRCRAFT_MOD_FILE),\n",
    "        True,\n",
    "    )\n",
    "output = compute_vn({})"
   ]
  },
  {
   "cell_type": "code",
   "execution_count": null,
   "metadata": {},
   "outputs": [],
   "source": [
    "from fastga.utils.postprocessing.analysis_and_plots import aircraft_geometry_plot\n",
    "\n",
    "fig = aircraft_geometry_plot(AIRCRAFT_REF_FILE, name='reference aircraft', plot_nacelle = False)\n",
    "fig = aircraft_geometry_plot(AIRCRAFT_MOD_FILE, name='modified aircraft', fig=fig, plot_nacelle = False)\n",
    "fig.show()"
   ]
  },
  {
   "cell_type": "markdown",
   "metadata": {},
   "source": [
    "## Save files for post processing"
   ]
  },
  {
   "cell_type": "code",
   "execution_count": null,
   "metadata": {},
   "outputs": [],
   "source": [
    "OUTPUT_REF_FILE = pth.join(OUTPUT_FOLDER_PATH, 'output_ref_fuselage_be76.xml')\n",
    "OUTPUT_MOD_FILE = pth.join(OUTPUT_FOLDER_PATH, 'output_mod_fuselage_be76.xml')\n",
    "shutil.copy(AIRCRAFT_REF_FILE, OUTPUT_REF_FILE)\n",
    "shutil.copy(AIRCRAFT_MOD_FILE, OUTPUT_MOD_FILE)"
   ]
  },
  {
   "cell_type": "code",
   "execution_count": null,
   "metadata": {},
   "outputs": [],
   "source": []
  }
 ],
 "metadata": {
  "kernelspec": {
   "display_name": "Python 3",
   "language": "python",
   "name": "python3"
  },
  "language_info": {
   "codemirror_mode": {
    "name": "ipython",
    "version": 3
   },
   "file_extension": ".py",
   "mimetype": "text/x-python",
   "name": "python",
   "nbconvert_exporter": "python",
   "pygments_lexer": "ipython3",
   "version": "3.9.4"
  }
 },
 "nbformat": 4,
 "nbformat_minor": 4
}
