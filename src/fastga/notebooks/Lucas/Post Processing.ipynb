{
 "cells": [
  {
   "cell_type": "markdown",
   "metadata": {},
   "source": [
    "<div class=\"row\">\n",
    "  <div class=\"column\">\n",
    "    <img src=\"./img/logo-onera.png\" width=\"200\">\n",
    "  </div>\n",
    "  <div class=\"column\">\n",
    "    <img src=\"./img/logo-ISAE_SUPAERO.png\" width=\"200\">\n",
    "  </div>\n",
    "</div>"
   ]
  },
  {
   "cell_type": "markdown",
   "metadata": {},
   "source": [
    "# Post Processing\n",
    "\n",
    "This notebook gathers all the diagrams that can be used to compare the modified architecture with respect to the reference one.\n",
    "\n",
    "To work effectively it requires the .xml files of the 2 configurations after the execution of all the FASTGA modules. They should be in the output folder.\n",
    "\n",
    "List of the diagrams :\n",
    "- Top View of the Aircraft Geometry\n",
    "- Distribution of the Lift Coefficient along the Wing\n",
    "- Course of the barycenter with static margins\n",
    "- Mass Breakdown (Sun or Bars)\n",
    "- Forces Distribution on the Wing\n",
    "- Shear Forces on the Wing\n",
    "- Root Bending Moments on the Wing\n",
    "- Evolution Diagram (Maneuver + Gust)\n",
    "- Payload Range\n",
    "- Drag Breakdown\n",
    "- Aircraft Polar (non equilibrated or equilibrated, in cruise and in low speed conditions)\n",
    "\n",
    "\n",
    "In order to be representative of the aircraft it is better to use the payload range diagram on the output file of the MDA.\n"
   ]
  },
  {
   "cell_type": "code",
   "execution_count": 1,
   "metadata": {
    "scrolled": false
   },
   "outputs": [
    {
     "name": "stderr",
     "output_type": "stream",
     "text": [
      "Failed to import module fastga.models.load_analysis.fuselage.compute_bending_moment_reversed_old.py\n",
      "Failed to import module fastga.models.handling_qualities.unitary_tests.test_cirrus_sr22.py\n",
      "Failed to import module fastga.models.loops.unitary_tests.test_wing_area.py\n",
      "Failed to import module fastga.models.geometry.unitary_tests.test_beechcraft_76.py\n",
      "Failed to import module fastga.models.performances.unitary_tests.test_cirrus_sr22.py\n",
      "Failed to import module fastga.models.weight.mass_breakdown.unitary_tests.test_cirrus_sr22.py\n",
      "Failed to import module fastga.models.load_analysis.unitary_tests.test_beechcraft_76.py\n",
      "Failed to import module fastga.models.handling_qualities.unitary_tests.test_beechcraft_76.py\n",
      "Failed to import module fastga.models.weight.cg.unitary_tests.test_cirrus_sr22.py\n",
      "Failed to import module fastga.models.load_analysis.unitary_tests.test_cirrus_sr22.py\n",
      "Failed to import module fastga.models.weight.cg.unitary_tests.test_beechcraft_76.py\n",
      "Failed to import module fastga.models.geometry.unitary_tests.test_cirrus_sr22.py\n",
      "Failed to import module fastga.models.aerodynamics.unitary_tests.test_beechcraft_76.py\n",
      "Failed to import module fastga.models.weight.mass_breakdown.unitary_tests.test_beechcraft_76.py\n",
      "Failed to import module fastga.models.aerodynamics.unitary_tests.test_cirrus_sr22.py\n",
      "Failed to import module fastga.models.propulsion.fuel_propulsion.basicIC_engine.unitary_tests.test_openmdao_engine.py\n",
      "Failed to import module fastga.models.performances.unitary_tests.test_beechcraft_76.py\n"
     ]
    },
    {
     "data": {
      "text/html": [
       "<style>.container { width:80% !important; }</style>"
      ],
      "text/plain": [
       "<IPython.core.display.HTML object>"
      ]
     },
     "metadata": {},
     "output_type": "display_data"
    }
   ],
   "source": [
    "import os.path as pth\n",
    "import os\n",
    "import openmdao.api as om\n",
    "from fastoad import api as api_cs25\n",
    "from fastga.command import api as api_cs23\n",
    "import logging\n",
    "from fastoad.gui import VariableViewer\n",
    "import shutil\n",
    "\n",
    "# Define relative path\n",
    "current_path = os.getcwd()\n",
    "OUTPUT_FOLDER_PATH = pth.join(current_path, 'output')\n",
    "\n",
    "OUTPUT_REF_FILE = pth.join(OUTPUT_FOLDER_PATH, 'output_ref.xml')\n",
    "OUTPUT_MOD_FILE = pth.join(OUTPUT_FOLDER_PATH, 'output_mod.xml')\n",
    "OUTPUT_MDA_FILE = pth.join(OUTPUT_FOLDER_PATH, 'problem_outputs_mda_tbm.xml')\n",
    "\n",
    "# For using all screen width\n",
    "from IPython.core.display import display, HTML\n",
    "display(HTML(\"<style>.container { width:80% !important; }</style>\"))"
   ]
  },
  {
   "cell_type": "code",
   "execution_count": null,
   "metadata": {},
   "outputs": [],
   "source": [
    "api_cs25.variable_viewer(OUTPUT_REF_FILE)"
   ]
  },
  {
   "cell_type": "code",
   "execution_count": null,
   "metadata": {
    "scrolled": false
   },
   "outputs": [],
   "source": [
    "api_cs25.variable_viewer(OUTPUT_MOD_FILE)"
   ]
  },
  {
   "cell_type": "code",
   "execution_count": null,
   "metadata": {},
   "outputs": [],
   "source": [
    "api_cs25.variable_viewer(OUTPUT_MDA_FILE)"
   ]
  },
  {
   "cell_type": "markdown",
   "metadata": {},
   "source": [
    "## Top View of the Aircraft Geometry"
   ]
  },
  {
   "cell_type": "code",
   "execution_count": null,
   "metadata": {},
   "outputs": [],
   "source": [
    "from fastga.utils.postprocessing.analysis_and_plots import aircraft_geometry_plot\n",
    "\n",
    "fig = aircraft_geometry_plot(OUTPUT_MDA_FILE, name='reference aircraft', plot_nacelle = False)\n",
    "# fig = aircraft_geometry_plot(OUTPUT_MOD_FILE, name='modified aircraft', fig=fig, plot_nacelle = False)\n",
    "fig.show()"
   ]
  },
  {
   "cell_type": "markdown",
   "metadata": {},
   "source": [
    "## Lift coefficient distribution along the wing\n",
    "\n",
    "prop_on = True : takes in account the influence of the propeller on the airflow.\n",
    "\n",
    "prop_on = False : does not take in account the influence of the propeller on the airflow.\n",
    "\n",
    "For aircrafts with engines mounted under the wing we can clearly see the impact of the propeller.\n",
    "\n",
    "Note that if the function CL_wing_diagram is called after the execution of the weight module and before the performances module, the span will be defined in ft in the .xml files and the last point of the plot will be wrong."
   ]
  },
  {
   "cell_type": "code",
   "execution_count": null,
   "metadata": {},
   "outputs": [],
   "source": [
    "from fastga.utils.postprocessing.analysis_and_plots import cl_wing_diagram\n",
    "\n",
    "\n",
    "prop_on=True\n",
    "\n",
    "[fig, fig1] = cl_wing_diagram(OUTPUT_REF_FILE, OUTPUT_MOD_FILE, prop_on, name_ref='reference aircraft', name_mod='modified aircraft')\n",
    "fig.show()\n",
    "fig1.show()"
   ]
  },
  {
   "cell_type": "markdown",
   "metadata": {},
   "source": [
    "## Course of the barycenter\n",
    "\n",
    "\"empty CG\" refers to the aircraft barycenter without payload and without fuel.\n",
    "\n",
    "If the function CG_lateral_diagram is called after the execution of the weight module and before the performances module, the landing gear height will be defined in ft in the .xml files and the position of the CGs will be wrong."
   ]
  },
  {
   "cell_type": "code",
   "execution_count": null,
   "metadata": {
    "scrolled": false
   },
   "outputs": [],
   "source": [
    "from fastga.utils.postprocessing.analysis_and_plots import cg_lateral_diagram\n",
    "\n",
    "\n",
    "fig = cg_lateral_diagram(OUTPUT_REF_FILE,name='reference aircraft', color=\"MediumPurple\")\n",
    "fig = cg_lateral_diagram(OUTPUT_MOD_FILE,name='modified aircraft', fig=fig, color=\"LightSalmon\")\n",
    "fig.show()"
   ]
  },
  {
   "cell_type": "markdown",
   "metadata": {},
   "source": [
    "## Mass breakdown"
   ]
  },
  {
   "cell_type": "code",
   "execution_count": null,
   "metadata": {},
   "outputs": [],
   "source": [
    "from fastga.utils.postprocessing.analysis_and_plots import mass_breakdown_bar_plot\n",
    "\n",
    "fig = mass_breakdown_bar_plot(OUTPUT_MDA_FILE, name='reference aircraft')\n",
    "# fig = mass_breakdown_bar_plot(OUTPUT_MOD_FILE, name='modified aircraft', fig=fig)\n",
    "fig.show()\n"
   ]
  },
  {
   "cell_type": "code",
   "execution_count": null,
   "metadata": {
    "scrolled": false
   },
   "outputs": [],
   "source": [
    "from fastga.utils.postprocessing.analysis_and_plots import mass_breakdown_sun_plot\n",
    "\n",
    "fig = mass_breakdown_sun_plot(OUTPUT_MDA_FILE)\n",
    "# fig = mass_breakdown_sun_plot(OUTPUT_MOD_FILE, name='modified aircraft', fig=fig)\n",
    "fig.show()\n"
   ]
  },
  {
   "cell_type": "markdown",
   "metadata": {},
   "source": [
    "## Wing Load Analysis"
   ]
  },
  {
   "cell_type": "code",
   "execution_count": null,
   "metadata": {},
   "outputs": [],
   "source": [
    "from fastga.utils.postprocessing.load_analysis.analysis_and_plots_la import force_repartition_diagram\n",
    "\n",
    "fig = force_repartition_diagram(OUTPUT_REF_FILE, name='reference aircraft')\n",
    "fig.show()"
   ]
  },
  {
   "cell_type": "code",
   "execution_count": null,
   "metadata": {},
   "outputs": [],
   "source": [
    "from fastga.utils.postprocessing.load_analysis.analysis_and_plots_la import force_repartition_diagram\n",
    "\n",
    "fig = force_repartition_diagram(OUTPUT_MOD_FILE, name='modified aircraft')\n",
    "fig.show()"
   ]
  },
  {
   "cell_type": "code",
   "execution_count": null,
   "metadata": {},
   "outputs": [],
   "source": [
    "from fastga.utils.postprocessing.load_analysis.analysis_and_plots_la import shear_diagram\n",
    "\n",
    "fig2 = shear_diagram(OUTPUT_REF_FILE, name='reference aircraft')\n",
    "fig2.show()"
   ]
  },
  {
   "cell_type": "code",
   "execution_count": null,
   "metadata": {},
   "outputs": [],
   "source": [
    "from fastga.utils.postprocessing.load_analysis.analysis_and_plots_la import shear_diagram\n",
    "\n",
    "fig2 = shear_diagram(OUTPUT_MOD_FILE, name='modified aircraft')\n",
    "fig2.show()"
   ]
  },
  {
   "cell_type": "code",
   "execution_count": null,
   "metadata": {},
   "outputs": [],
   "source": [
    "from fastga.utils.postprocessing.load_analysis.analysis_and_plots_la import rbm_diagram\n",
    "\n",
    "fig3 = rbm_diagram(OUTPUT_REF_FILE, name='reference aircraft')\n",
    "fig3.show()"
   ]
  },
  {
   "cell_type": "code",
   "execution_count": null,
   "metadata": {},
   "outputs": [],
   "source": [
    "from fastga.utils.postprocessing.load_analysis.analysis_and_plots_la import rbm_diagram\n",
    "\n",
    "fig3 = rbm_diagram(OUTPUT_MOD_FILE, name='modified aircraft')\n",
    "fig3.show()"
   ]
  },
  {
   "cell_type": "markdown",
   "metadata": {},
   "source": [
    "## Fuselage Load Analysis"
   ]
  },
  {
   "cell_type": "code",
   "execution_count": null,
   "metadata": {},
   "outputs": [],
   "source": [
    "from fastga.utils.postprocessing.load_analysis.analysis_and_plots_la import fuselage_bending_diagram\n",
    "\n",
    "fig = fuselage_bending_diagram(OUTPUT_REF_FILE, name='reference aircraft')\n",
    "fig = fuselage_bending_diagram(OUTPUT_MOD_FILE, name='modified aircraft', fig=fig)\n",
    "fig.show()"
   ]
  },
  {
   "cell_type": "markdown",
   "metadata": {},
   "source": [
    "## Evolution Diagram"
   ]
  },
  {
   "cell_type": "code",
   "execution_count": null,
   "metadata": {},
   "outputs": [],
   "source": [
    "from fastga.utils.postprocessing.analysis_and_plots import evolution_diagram\n",
    "\n",
    "\n",
    "fig = evolution_diagram(OUTPUT_REF_FILE,name='reference aircraft')\n",
    "fig = evolution_diagram(OUTPUT_MOD_FILE,name='modified aircraft',fig=fig)\n",
    "fig.show()"
   ]
  },
  {
   "cell_type": "markdown",
   "metadata": {},
   "source": [
    "## Payload Range Diagram"
   ]
  },
  {
   "cell_type": "code",
   "execution_count": null,
   "metadata": {
    "scrolled": false
   },
   "outputs": [],
   "source": [
    "from fastga.models.performances.payload_range import ComputePayloadRange\n",
    "\n",
    "\n",
    "compute_payload_range = api_cs23.generate_block_analysis(\n",
    "        ComputePayloadRange(\n",
    "            propulsion_id=\"fastga.wrapper.propulsion.basic_turboprop\",\n",
    "        ),\n",
    "        [],\n",
    "        OUTPUT_MDA_FILE,\n",
    "        True,\n",
    ")\n",
    "\n",
    "output = compute_payload_range({})"
   ]
  },
  {
   "cell_type": "code",
   "execution_count": null,
   "metadata": {
    "scrolled": false
   },
   "outputs": [],
   "source": [
    "from fastga.utils.postprocessing.analysis_and_plots import payload_range\n",
    "\n",
    "fig = payload_range(OUTPUT_MDA_FILE, name='reference aircraft')\n",
    "# fig = payload_range(OUTPUT_MOD_FILE, name='modified aircraft', fig=fig)\n",
    "fig.show()"
   ]
  },
  {
   "cell_type": "markdown",
   "metadata": {},
   "source": [
    "## Drag breakdown Diagram"
   ]
  },
  {
   "cell_type": "code",
   "execution_count": null,
   "metadata": {
    "scrolled": false
   },
   "outputs": [],
   "source": [
    "from fastga.utils.postprocessing.analysis_and_plots import drag_breakdown_diagram\n",
    "\n",
    "fig = drag_breakdown_diagram(OUTPUT_MDA_FILE)\n",
    "fig.show()"
   ]
  },
  {
   "cell_type": "markdown",
   "metadata": {},
   "source": [
    "## Non Equilibrated Polar"
   ]
  },
  {
   "cell_type": "code",
   "execution_count": 6,
   "metadata": {},
   "outputs": [
    {
     "data": {
      "application/vnd.plotly.v1+json": {
       "config": {
        "plotlyServerURL": "https://plot.ly"
       },
       "data": [
        {
         "mode": "lines+markers+text",
         "name": "reference aircraft",
         "text": [
          "",
          "",
          "",
          "",
          "",
          "",
          "",
          "max L/D = <br>15.946",
          "",
          "",
          "",
          "",
          "",
          "",
          "",
          ""
         ],
         "textposition": "top left",
         "type": "scatter",
         "uid": "f0b85b94-7eaf-4e35-862b-40ca793bc2ba",
         "x": [
          0.020938403285844478,
          0.022161675248355783,
          0.024008645681904958,
          0.02647931458649201,
          0.029573681962116932,
          0.033291747808779734,
          0.0376335121264804,
          0.04259897491521894,
          0.048188136174995365,
          0.05440099590580966,
          0.061237554107661823,
          0.06869781078055184,
          0.07678176592447974,
          0.08548941953944555,
          0.09482077162544919,
          0.10477582218249071
         ],
         "xaxis": "x",
         "y": [
          0.1173125297450127,
          0.19759102540750037,
          0.277869521069988,
          0.3581480167324757,
          0.4384265123949634,
          0.518705008057451,
          0.5989835037199387,
          0.6792619993824264,
          0.759540495044914,
          0.8398189907074017,
          0.9200974863698894,
          1.000375982032377,
          1.0806544776948646,
          1.1609329733573523,
          1.24121146901984,
          1.3214899646823275
         ],
         "yaxis": "y"
        },
        {
         "line": {
          "dash": "dot",
          "width": 2
         },
         "mode": "lines",
         "showlegend": false,
         "type": "scatter",
         "uid": "6325e34c-274e-4c6c-9e70-0e9361ff1bce",
         "x": [
          0.020938403285844478,
          0.022161675248355783,
          0.024008645681904958,
          0.02647931458649201,
          0.029573681962116932,
          0.033291747808779734,
          0.0376335121264804,
          0.04259897491521894,
          0.048188136174995365,
          0.05440099590580966,
          0.061237554107661823,
          0.06869781078055184,
          0.07678176592447974,
          0.08548941953944555,
          0.09482077162544919,
          0.10477582218249071
         ],
         "xaxis": "x",
         "y": [
          0.333873331649985,
          0.35337901601674754,
          0.3828298850104197,
          0.42222593863100166,
          0.4715671768784932,
          0.5308535997528946,
          0.6000852072542057,
          0.6792619993824264,
          0.768383976137557,
          0.8674511375195972,
          0.9764634835285473,
          1.0954210141644067,
          1.2243237294271758,
          1.3631716293168554,
          1.511964713833444,
          1.6707029829769422
         ],
         "yaxis": "y"
        },
        {
         "mode": "lines+markers+text",
         "name": "reference aircraft",
         "text": [
          "",
          "",
          "",
          "",
          "",
          "",
          "",
          "",
          "",
          "max L/D = <br>12.572",
          "",
          "",
          "",
          "",
          "",
          ""
         ],
         "textposition": "top left",
         "type": "scatter",
         "uid": "840c31e1-ff23-4d07-b5d7-afe0eead2550",
         "x": [
          0.033331142663859156,
          0.034506943864839656,
          0.03628323465469505,
          0.03866001503342535,
          0.04163728500103056,
          0.04521504455751066,
          0.04939329370286566,
          0.05417203243709557,
          0.059551260760200384,
          0.06553097867218009,
          0.0721111861730347,
          0.0792918832627642,
          0.08707306994136862,
          0.09545474620884796,
          0.1044369120652022,
          0.11401956751043131
         ],
         "xaxis": "x2",
         "y": [
          0.11486684816112828,
          0.1936468626892278,
          0.2724268772173273,
          0.35120689174542674,
          0.4299869062735263,
          0.5087669208016258,
          0.5875469353297252,
          0.6663269498578247,
          0.7451069643859243,
          0.8238869789140237,
          0.9026669934421232,
          0.9814470079702227,
          1.0602270224983221,
          1.1390070370264218,
          1.2177870515545213,
          1.2965670660826207
         ],
         "yaxis": "y2"
        },
        {
         "line": {
          "dash": "dot",
          "width": 2
         },
         "mode": "lines",
         "showlegend": false,
         "type": "scatter",
         "uid": "6238a723-18d9-40fc-99f3-d6c197a9b111",
         "x": [
          0.033331142663859156,
          0.034506943864839656,
          0.03628323465469505,
          0.03866001503342535,
          0.04163728500103056,
          0.04521504455751066,
          0.04939329370286566,
          0.05417203243709557,
          0.059551260760200384,
          0.06553097867218009,
          0.0721111861730347,
          0.0792918832627642,
          0.08707306994136862,
          0.09545474620884796,
          0.1044369120652022,
          0.11401956751043131
         ],
         "xaxis": "x2",
         "y": [
          0.41905515512676633,
          0.43383789328981714,
          0.4561702753506401,
          0.4860523013092353,
          0.5234839711656029,
          0.5684652849197425,
          0.6209962425716544,
          0.6810768441213386,
          0.7487070895687951,
          0.8238869789140237,
          0.9066165121570245,
          0.9968956892977976,
          1.094724510336343,
          1.2001029752726606,
          1.3130310841067507,
          1.4335088368386129
         ],
         "yaxis": "y2"
        },
        {
         "mode": "lines+markers+text",
         "name": "modified aircraft",
         "text": [
          "",
          "",
          "",
          "",
          "",
          "",
          "",
          "max L/D = <br>17.223",
          "",
          "",
          "",
          "",
          "",
          "",
          "",
          ""
         ],
         "textposition": "top left",
         "type": "scatter",
         "uid": "844a1e7f-719e-4daa-abf8-393007121b36",
         "x": [
          0.01976543149856139,
          0.020933022652465882,
          0.022698361575176077,
          0.02506144826669197,
          0.02802228272701357,
          0.03158086495614087,
          0.03573719495407387,
          0.04049127272081257,
          0.045843098256356976,
          0.05179267156070708,
          0.05833999263386288,
          0.06548506147582439,
          0.07322787808659159,
          0.08156844246616451,
          0.09050675461454312,
          0.1000428145317274
         ],
         "xaxis": "x",
         "y": [
          0.11989592888258223,
          0.20239402866084982,
          0.28489212843911743,
          0.367390228217385,
          0.4498883279956526,
          0.5323864277739202,
          0.6148845275521878,
          0.6973826273304554,
          0.779880727108723,
          0.8623788268869906,
          0.9448769266652581,
          1.0273750264435257,
          1.1098731262217933,
          1.192371226000061,
          1.2748693257783286,
          1.357367425556596
         ],
         "yaxis": "y"
        },
        {
         "line": {
          "dash": "dot",
          "width": 2
         },
         "mode": "lines",
         "showlegend": false,
         "type": "scatter",
         "uid": "286f158b-c989-4eae-8c86-f4efc3c2c63a",
         "x": [
          0.01976543149856139,
          0.020933022652465882,
          0.022698361575176077,
          0.02506144826669197,
          0.02802228272701357,
          0.03158086495614087,
          0.03573719495407387,
          0.04049127272081257,
          0.045843098256356976,
          0.05179267156070708,
          0.05833999263386288,
          0.06548506147582439,
          0.07322787808659159,
          0.08156844246616451,
          0.09050675461454312,
          0.1000428145317274
         ],
         "xaxis": "x",
         "y": [
          0.3404207282845385,
          0.360530192172523,
          0.3909346871000326,
          0.43163421306706706,
          0.48262877007362665,
          0.5439183581197112,
          0.6155029772053208,
          0.6973826273304554,
          0.7895573084951151,
          0.8920270206992997,
          1.004791763943009,
          1.1278515382262437,
          1.2612063435490033,
          1.4048561799112882,
          1.5588010473130978,
          1.723040945754432
         ],
         "yaxis": "y"
        },
        {
         "mode": "lines+markers+text",
         "name": "modified aircraft",
         "text": [
          "",
          "",
          "",
          "",
          "",
          "",
          "",
          "",
          "",
          "max L/D = <br>13.665",
          "",
          "",
          "",
          "",
          "",
          ""
         ],
         "textposition": "top left",
         "type": "scatter",
         "uid": "a146b36c-1127-4d76-bf6f-adea01e29864",
         "x": [
          0.031086063749222053,
          0.03220734346210022,
          0.033903450361647096,
          0.036174384447862674,
          0.039020145720746954,
          0.04244073418029995,
          0.04643614982652164,
          0.05100639265941205,
          0.056151462678971156,
          0.061871359885198964,
          0.06816608427809548,
          0.07503563585766071,
          0.08248001462389465,
          0.0904992205767973,
          0.09909325371636865,
          0.10826211404260866
         ],
         "xaxis": "x2",
         "y": [
          0.11736051681243066,
          0.19826321105090328,
          0.2791659052893759,
          0.3600685995278485,
          0.4409712937663211,
          0.5218739880047938,
          0.6027766822432663,
          0.683679376481739,
          0.7645820707202116,
          0.8454847649586842,
          0.9263874591971568,
          1.0072901534356296,
          1.088192847674102,
          1.1690955419125748,
          1.2499982361510475,
          1.3309009303895198
         ],
         "yaxis": "y2"
        },
        {
         "line": {
          "dash": "dot",
          "width": 2
         },
         "mode": "lines",
         "showlegend": false,
         "type": "scatter",
         "uid": "71fff3b9-07ae-4cc2-bda9-398c0158238d",
         "x": [
          0.031086063749222053,
          0.03220734346210022,
          0.033903450361647096,
          0.036174384447862674,
          0.039020145720746954,
          0.04244073418029995,
          0.04643614982652164,
          0.05100639265941205,
          0.056151462678971156,
          0.061871359885198964,
          0.06816608427809548,
          0.07503563585766071,
          0.08248001462389465,
          0.0904992205767973,
          0.09909325371636865,
          0.10826211404260866
         ],
         "xaxis": "x2",
         "y": [
          0.4247974079003413,
          0.44011992410581635,
          0.46329757117820997,
          0.49433034911752205,
          0.5332182579237527,
          0.579961297596902,
          0.6345594681369696,
          0.6970127695439561,
          0.7673212018178609,
          0.8454847649586842,
          0.9315034589664261,
          1.0253772838410866,
          1.1271062395826659,
          1.2366903261911635,
          1.35412954366658,
          1.479423892008914
         ],
         "yaxis": "y2"
        }
       ],
       "layout": {
        "annotations": [
         {
          "font": {
           "size": 16
          },
          "showarrow": false,
          "text": "Cruise",
          "x": 0.225,
          "xanchor": "center",
          "xref": "paper",
          "y": 1,
          "yanchor": "bottom",
          "yref": "paper"
         },
         {
          "font": {
           "size": 16
          },
          "showarrow": false,
          "text": "Low Speed",
          "x": 0.775,
          "xanchor": "center",
          "xref": "paper",
          "y": 1,
          "yanchor": "bottom",
          "yref": "paper"
         }
        ],
        "legend": {
         "x": 0.99,
         "xanchor": "right",
         "y": 0.99,
         "yanchor": "top"
        },
        "template": {
         "data": {
          "bar": [
           {
            "error_x": {
             "color": "#2a3f5f"
            },
            "error_y": {
             "color": "#2a3f5f"
            },
            "marker": {
             "line": {
              "color": "#E5ECF6",
              "width": 0.5
             }
            },
            "type": "bar"
           }
          ],
          "barpolar": [
           {
            "marker": {
             "line": {
              "color": "#E5ECF6",
              "width": 0.5
             }
            },
            "type": "barpolar"
           }
          ],
          "carpet": [
           {
            "aaxis": {
             "endlinecolor": "#2a3f5f",
             "gridcolor": "white",
             "linecolor": "white",
             "minorgridcolor": "white",
             "startlinecolor": "#2a3f5f"
            },
            "baxis": {
             "endlinecolor": "#2a3f5f",
             "gridcolor": "white",
             "linecolor": "white",
             "minorgridcolor": "white",
             "startlinecolor": "#2a3f5f"
            },
            "type": "carpet"
           }
          ],
          "choropleth": [
           {
            "colorbar": {
             "outlinewidth": 0,
             "ticks": ""
            },
            "type": "choropleth"
           }
          ],
          "contour": [
           {
            "colorbar": {
             "outlinewidth": 0,
             "ticks": ""
            },
            "colorscale": [
             [
              0,
              "#0d0887"
             ],
             [
              0.1111111111111111,
              "#46039f"
             ],
             [
              0.2222222222222222,
              "#7201a8"
             ],
             [
              0.3333333333333333,
              "#9c179e"
             ],
             [
              0.4444444444444444,
              "#bd3786"
             ],
             [
              0.5555555555555556,
              "#d8576b"
             ],
             [
              0.6666666666666666,
              "#ed7953"
             ],
             [
              0.7777777777777778,
              "#fb9f3a"
             ],
             [
              0.8888888888888888,
              "#fdca26"
             ],
             [
              1,
              "#f0f921"
             ]
            ],
            "type": "contour"
           }
          ],
          "contourcarpet": [
           {
            "colorbar": {
             "outlinewidth": 0,
             "ticks": ""
            },
            "type": "contourcarpet"
           }
          ],
          "heatmap": [
           {
            "colorbar": {
             "outlinewidth": 0,
             "ticks": ""
            },
            "colorscale": [
             [
              0,
              "#0d0887"
             ],
             [
              0.1111111111111111,
              "#46039f"
             ],
             [
              0.2222222222222222,
              "#7201a8"
             ],
             [
              0.3333333333333333,
              "#9c179e"
             ],
             [
              0.4444444444444444,
              "#bd3786"
             ],
             [
              0.5555555555555556,
              "#d8576b"
             ],
             [
              0.6666666666666666,
              "#ed7953"
             ],
             [
              0.7777777777777778,
              "#fb9f3a"
             ],
             [
              0.8888888888888888,
              "#fdca26"
             ],
             [
              1,
              "#f0f921"
             ]
            ],
            "type": "heatmap"
           }
          ],
          "heatmapgl": [
           {
            "colorbar": {
             "outlinewidth": 0,
             "ticks": ""
            },
            "colorscale": [
             [
              0,
              "#0d0887"
             ],
             [
              0.1111111111111111,
              "#46039f"
             ],
             [
              0.2222222222222222,
              "#7201a8"
             ],
             [
              0.3333333333333333,
              "#9c179e"
             ],
             [
              0.4444444444444444,
              "#bd3786"
             ],
             [
              0.5555555555555556,
              "#d8576b"
             ],
             [
              0.6666666666666666,
              "#ed7953"
             ],
             [
              0.7777777777777778,
              "#fb9f3a"
             ],
             [
              0.8888888888888888,
              "#fdca26"
             ],
             [
              1,
              "#f0f921"
             ]
            ],
            "type": "heatmapgl"
           }
          ],
          "histogram": [
           {
            "marker": {
             "colorbar": {
              "outlinewidth": 0,
              "ticks": ""
             }
            },
            "type": "histogram"
           }
          ],
          "histogram2d": [
           {
            "colorbar": {
             "outlinewidth": 0,
             "ticks": ""
            },
            "colorscale": [
             [
              0,
              "#0d0887"
             ],
             [
              0.1111111111111111,
              "#46039f"
             ],
             [
              0.2222222222222222,
              "#7201a8"
             ],
             [
              0.3333333333333333,
              "#9c179e"
             ],
             [
              0.4444444444444444,
              "#bd3786"
             ],
             [
              0.5555555555555556,
              "#d8576b"
             ],
             [
              0.6666666666666666,
              "#ed7953"
             ],
             [
              0.7777777777777778,
              "#fb9f3a"
             ],
             [
              0.8888888888888888,
              "#fdca26"
             ],
             [
              1,
              "#f0f921"
             ]
            ],
            "type": "histogram2d"
           }
          ],
          "histogram2dcontour": [
           {
            "colorbar": {
             "outlinewidth": 0,
             "ticks": ""
            },
            "colorscale": [
             [
              0,
              "#0d0887"
             ],
             [
              0.1111111111111111,
              "#46039f"
             ],
             [
              0.2222222222222222,
              "#7201a8"
             ],
             [
              0.3333333333333333,
              "#9c179e"
             ],
             [
              0.4444444444444444,
              "#bd3786"
             ],
             [
              0.5555555555555556,
              "#d8576b"
             ],
             [
              0.6666666666666666,
              "#ed7953"
             ],
             [
              0.7777777777777778,
              "#fb9f3a"
             ],
             [
              0.8888888888888888,
              "#fdca26"
             ],
             [
              1,
              "#f0f921"
             ]
            ],
            "type": "histogram2dcontour"
           }
          ],
          "mesh3d": [
           {
            "colorbar": {
             "outlinewidth": 0,
             "ticks": ""
            },
            "type": "mesh3d"
           }
          ],
          "parcoords": [
           {
            "line": {
             "colorbar": {
              "outlinewidth": 0,
              "ticks": ""
             }
            },
            "type": "parcoords"
           }
          ],
          "pie": [
           {
            "automargin": true,
            "type": "pie"
           }
          ],
          "scatter": [
           {
            "marker": {
             "colorbar": {
              "outlinewidth": 0,
              "ticks": ""
             }
            },
            "type": "scatter"
           }
          ],
          "scatter3d": [
           {
            "line": {
             "colorbar": {
              "outlinewidth": 0,
              "ticks": ""
             }
            },
            "marker": {
             "colorbar": {
              "outlinewidth": 0,
              "ticks": ""
             }
            },
            "type": "scatter3d"
           }
          ],
          "scattercarpet": [
           {
            "marker": {
             "colorbar": {
              "outlinewidth": 0,
              "ticks": ""
             }
            },
            "type": "scattercarpet"
           }
          ],
          "scattergeo": [
           {
            "marker": {
             "colorbar": {
              "outlinewidth": 0,
              "ticks": ""
             }
            },
            "type": "scattergeo"
           }
          ],
          "scattergl": [
           {
            "marker": {
             "colorbar": {
              "outlinewidth": 0,
              "ticks": ""
             }
            },
            "type": "scattergl"
           }
          ],
          "scattermapbox": [
           {
            "marker": {
             "colorbar": {
              "outlinewidth": 0,
              "ticks": ""
             }
            },
            "type": "scattermapbox"
           }
          ],
          "scatterpolar": [
           {
            "marker": {
             "colorbar": {
              "outlinewidth": 0,
              "ticks": ""
             }
            },
            "type": "scatterpolar"
           }
          ],
          "scatterpolargl": [
           {
            "marker": {
             "colorbar": {
              "outlinewidth": 0,
              "ticks": ""
             }
            },
            "type": "scatterpolargl"
           }
          ],
          "scatterternary": [
           {
            "marker": {
             "colorbar": {
              "outlinewidth": 0,
              "ticks": ""
             }
            },
            "type": "scatterternary"
           }
          ],
          "surface": [
           {
            "colorbar": {
             "outlinewidth": 0,
             "ticks": ""
            },
            "colorscale": [
             [
              0,
              "#0d0887"
             ],
             [
              0.1111111111111111,
              "#46039f"
             ],
             [
              0.2222222222222222,
              "#7201a8"
             ],
             [
              0.3333333333333333,
              "#9c179e"
             ],
             [
              0.4444444444444444,
              "#bd3786"
             ],
             [
              0.5555555555555556,
              "#d8576b"
             ],
             [
              0.6666666666666666,
              "#ed7953"
             ],
             [
              0.7777777777777778,
              "#fb9f3a"
             ],
             [
              0.8888888888888888,
              "#fdca26"
             ],
             [
              1,
              "#f0f921"
             ]
            ],
            "type": "surface"
           }
          ],
          "table": [
           {
            "cells": {
             "fill": {
              "color": "#EBF0F8"
             },
             "line": {
              "color": "white"
             }
            },
            "header": {
             "fill": {
              "color": "#C8D4E3"
             },
             "line": {
              "color": "white"
             }
            },
            "type": "table"
           }
          ]
         },
         "layout": {
          "annotationdefaults": {
           "arrowcolor": "#2a3f5f",
           "arrowhead": 0,
           "arrowwidth": 1
          },
          "autotypenumbers": "strict",
          "coloraxis": {
           "colorbar": {
            "outlinewidth": 0,
            "ticks": ""
           }
          },
          "colorscale": {
           "diverging": [
            [
             0,
             "#8e0152"
            ],
            [
             0.1,
             "#c51b7d"
            ],
            [
             0.2,
             "#de77ae"
            ],
            [
             0.3,
             "#f1b6da"
            ],
            [
             0.4,
             "#fde0ef"
            ],
            [
             0.5,
             "#f7f7f7"
            ],
            [
             0.6,
             "#e6f5d0"
            ],
            [
             0.7,
             "#b8e186"
            ],
            [
             0.8,
             "#7fbc41"
            ],
            [
             0.9,
             "#4d9221"
            ],
            [
             1,
             "#276419"
            ]
           ],
           "sequential": [
            [
             0,
             "#0d0887"
            ],
            [
             0.1111111111111111,
             "#46039f"
            ],
            [
             0.2222222222222222,
             "#7201a8"
            ],
            [
             0.3333333333333333,
             "#9c179e"
            ],
            [
             0.4444444444444444,
             "#bd3786"
            ],
            [
             0.5555555555555556,
             "#d8576b"
            ],
            [
             0.6666666666666666,
             "#ed7953"
            ],
            [
             0.7777777777777778,
             "#fb9f3a"
            ],
            [
             0.8888888888888888,
             "#fdca26"
            ],
            [
             1,
             "#f0f921"
            ]
           ],
           "sequentialminus": [
            [
             0,
             "#0d0887"
            ],
            [
             0.1111111111111111,
             "#46039f"
            ],
            [
             0.2222222222222222,
             "#7201a8"
            ],
            [
             0.3333333333333333,
             "#9c179e"
            ],
            [
             0.4444444444444444,
             "#bd3786"
            ],
            [
             0.5555555555555556,
             "#d8576b"
            ],
            [
             0.6666666666666666,
             "#ed7953"
            ],
            [
             0.7777777777777778,
             "#fb9f3a"
            ],
            [
             0.8888888888888888,
             "#fdca26"
            ],
            [
             1,
             "#f0f921"
            ]
           ]
          },
          "colorway": [
           "#636efa",
           "#EF553B",
           "#00cc96",
           "#ab63fa",
           "#FFA15A",
           "#19d3f3",
           "#FF6692",
           "#B6E880",
           "#FF97FF",
           "#FECB52"
          ],
          "font": {
           "color": "#2a3f5f"
          },
          "geo": {
           "bgcolor": "white",
           "lakecolor": "white",
           "landcolor": "#E5ECF6",
           "showlakes": true,
           "showland": true,
           "subunitcolor": "white"
          },
          "hoverlabel": {
           "align": "left"
          },
          "hovermode": "closest",
          "mapbox": {
           "style": "light"
          },
          "paper_bgcolor": "white",
          "plot_bgcolor": "#E5ECF6",
          "polar": {
           "angularaxis": {
            "gridcolor": "white",
            "linecolor": "white",
            "ticks": ""
           },
           "bgcolor": "#E5ECF6",
           "radialaxis": {
            "gridcolor": "white",
            "linecolor": "white",
            "ticks": ""
           }
          },
          "scene": {
           "xaxis": {
            "backgroundcolor": "#E5ECF6",
            "gridcolor": "white",
            "gridwidth": 2,
            "linecolor": "white",
            "showbackground": true,
            "ticks": "",
            "zerolinecolor": "white"
           },
           "yaxis": {
            "backgroundcolor": "#E5ECF6",
            "gridcolor": "white",
            "gridwidth": 2,
            "linecolor": "white",
            "showbackground": true,
            "ticks": "",
            "zerolinecolor": "white"
           },
           "zaxis": {
            "backgroundcolor": "#E5ECF6",
            "gridcolor": "white",
            "gridwidth": 2,
            "linecolor": "white",
            "showbackground": true,
            "ticks": "",
            "zerolinecolor": "white"
           }
          },
          "shapedefaults": {
           "line": {
            "color": "#2a3f5f"
           }
          },
          "ternary": {
           "aaxis": {
            "gridcolor": "white",
            "linecolor": "white",
            "ticks": ""
           },
           "baxis": {
            "gridcolor": "white",
            "linecolor": "white",
            "ticks": ""
           },
           "bgcolor": "#E5ECF6",
           "caxis": {
            "gridcolor": "white",
            "linecolor": "white",
            "ticks": ""
           }
          },
          "title": {
           "x": 0.05
          },
          "xaxis": {
           "automargin": true,
           "gridcolor": "white",
           "linecolor": "white",
           "ticks": "",
           "title": {
            "standoff": 15
           },
           "zerolinecolor": "white",
           "zerolinewidth": 2
          },
          "yaxis": {
           "automargin": true,
           "gridcolor": "white",
           "linecolor": "white",
           "ticks": "",
           "title": {
            "standoff": 15
           },
           "zerolinecolor": "white",
           "zerolinewidth": 2
          }
         }
        },
        "title": {
         "text": "Non Equilibrated Aircraft Polar",
         "x": 0.5
        },
        "xaxis": {
         "anchor": "y",
         "domain": [
          0,
          0.45
         ],
         "title": {
          "text": "CD"
         }
        },
        "xaxis2": {
         "anchor": "y2",
         "domain": [
          0.55,
          1
         ],
         "title": {
          "text": "CD"
         }
        },
        "yaxis": {
         "anchor": "x",
         "domain": [
          0,
          1
         ],
         "title": {
          "text": "CL"
         }
        },
        "yaxis2": {
         "anchor": "x2",
         "domain": [
          0,
          1
         ],
         "title": {
          "text": "CL"
         }
        }
       }
      },
      "text/html": [
       "<div>                            <div id=\"3d695624-94e1-4294-9a7e-87f62c071795\" class=\"plotly-graph-div\" style=\"height:525px; width:100%;\"></div>            <script type=\"text/javascript\">                require([\"plotly\"], function(Plotly) {                    window.PLOTLYENV=window.PLOTLYENV || {};                                    if (document.getElementById(\"3d695624-94e1-4294-9a7e-87f62c071795\")) {                    Plotly.newPlot(                        \"3d695624-94e1-4294-9a7e-87f62c071795\",                        [{\"mode\": \"lines+markers+text\", \"name\": \"reference aircraft\", \"text\": [\"\", \"\", \"\", \"\", \"\", \"\", \"\", \"max L/D = <br>15.946\", \"\", \"\", \"\", \"\", \"\", \"\", \"\", \"\"], \"textposition\": \"top left\", \"type\": \"scatter\", \"uid\": \"f0b85b94-7eaf-4e35-862b-40ca793bc2ba\", \"x\": [0.020938403285844478, 0.022161675248355783, 0.024008645681904958, 0.02647931458649201, 0.029573681962116932, 0.033291747808779734, 0.0376335121264804, 0.04259897491521894, 0.048188136174995365, 0.05440099590580966, 0.061237554107661823, 0.06869781078055184, 0.07678176592447974, 0.08548941953944555, 0.09482077162544919, 0.10477582218249071], \"xaxis\": \"x\", \"y\": [0.1173125297450127, 0.19759102540750037, 0.277869521069988, 0.3581480167324757, 0.4384265123949634, 0.518705008057451, 0.5989835037199387, 0.6792619993824264, 0.759540495044914, 0.8398189907074017, 0.9200974863698894, 1.000375982032377, 1.0806544776948646, 1.1609329733573523, 1.24121146901984, 1.3214899646823275], \"yaxis\": \"y\"}, {\"line\": {\"dash\": \"dot\", \"width\": 2}, \"mode\": \"lines\", \"showlegend\": false, \"type\": \"scatter\", \"uid\": \"6325e34c-274e-4c6c-9e70-0e9361ff1bce\", \"x\": [0.020938403285844478, 0.022161675248355783, 0.024008645681904958, 0.02647931458649201, 0.029573681962116932, 0.033291747808779734, 0.0376335121264804, 0.04259897491521894, 0.048188136174995365, 0.05440099590580966, 0.061237554107661823, 0.06869781078055184, 0.07678176592447974, 0.08548941953944555, 0.09482077162544919, 0.10477582218249071], \"xaxis\": \"x\", \"y\": [0.333873331649985, 0.35337901601674754, 0.3828298850104197, 0.42222593863100166, 0.4715671768784932, 0.5308535997528946, 0.6000852072542057, 0.6792619993824264, 0.768383976137557, 0.8674511375195972, 0.9764634835285473, 1.0954210141644067, 1.2243237294271758, 1.3631716293168554, 1.511964713833444, 1.6707029829769422], \"yaxis\": \"y\"}, {\"mode\": \"lines+markers+text\", \"name\": \"reference aircraft\", \"text\": [\"\", \"\", \"\", \"\", \"\", \"\", \"\", \"\", \"\", \"max L/D = <br>12.572\", \"\", \"\", \"\", \"\", \"\", \"\"], \"textposition\": \"top left\", \"type\": \"scatter\", \"uid\": \"840c31e1-ff23-4d07-b5d7-afe0eead2550\", \"x\": [0.033331142663859156, 0.034506943864839656, 0.03628323465469505, 0.03866001503342535, 0.04163728500103056, 0.04521504455751066, 0.04939329370286566, 0.05417203243709557, 0.059551260760200384, 0.06553097867218009, 0.0721111861730347, 0.0792918832627642, 0.08707306994136862, 0.09545474620884796, 0.1044369120652022, 0.11401956751043131], \"xaxis\": \"x2\", \"y\": [0.11486684816112828, 0.1936468626892278, 0.2724268772173273, 0.35120689174542674, 0.4299869062735263, 0.5087669208016258, 0.5875469353297252, 0.6663269498578247, 0.7451069643859243, 0.8238869789140237, 0.9026669934421232, 0.9814470079702227, 1.0602270224983221, 1.1390070370264218, 1.2177870515545213, 1.2965670660826207], \"yaxis\": \"y2\"}, {\"line\": {\"dash\": \"dot\", \"width\": 2}, \"mode\": \"lines\", \"showlegend\": false, \"type\": \"scatter\", \"uid\": \"6238a723-18d9-40fc-99f3-d6c197a9b111\", \"x\": [0.033331142663859156, 0.034506943864839656, 0.03628323465469505, 0.03866001503342535, 0.04163728500103056, 0.04521504455751066, 0.04939329370286566, 0.05417203243709557, 0.059551260760200384, 0.06553097867218009, 0.0721111861730347, 0.0792918832627642, 0.08707306994136862, 0.09545474620884796, 0.1044369120652022, 0.11401956751043131], \"xaxis\": \"x2\", \"y\": [0.41905515512676633, 0.43383789328981714, 0.4561702753506401, 0.4860523013092353, 0.5234839711656029, 0.5684652849197425, 0.6209962425716544, 0.6810768441213386, 0.7487070895687951, 0.8238869789140237, 0.9066165121570245, 0.9968956892977976, 1.094724510336343, 1.2001029752726606, 1.3130310841067507, 1.4335088368386129], \"yaxis\": \"y2\"}, {\"mode\": \"lines+markers+text\", \"name\": \"modified aircraft\", \"text\": [\"\", \"\", \"\", \"\", \"\", \"\", \"\", \"max L/D = <br>17.223\", \"\", \"\", \"\", \"\", \"\", \"\", \"\", \"\"], \"textposition\": \"top left\", \"type\": \"scatter\", \"uid\": \"844a1e7f-719e-4daa-abf8-393007121b36\", \"x\": [0.01976543149856139, 0.020933022652465882, 0.022698361575176077, 0.02506144826669197, 0.02802228272701357, 0.03158086495614087, 0.03573719495407387, 0.04049127272081257, 0.045843098256356976, 0.05179267156070708, 0.05833999263386288, 0.06548506147582439, 0.07322787808659159, 0.08156844246616451, 0.09050675461454312, 0.1000428145317274], \"xaxis\": \"x\", \"y\": [0.11989592888258223, 0.20239402866084982, 0.28489212843911743, 0.367390228217385, 0.4498883279956526, 0.5323864277739202, 0.6148845275521878, 0.6973826273304554, 0.779880727108723, 0.8623788268869906, 0.9448769266652581, 1.0273750264435257, 1.1098731262217933, 1.192371226000061, 1.2748693257783286, 1.357367425556596], \"yaxis\": \"y\"}, {\"line\": {\"dash\": \"dot\", \"width\": 2}, \"mode\": \"lines\", \"showlegend\": false, \"type\": \"scatter\", \"uid\": \"286f158b-c989-4eae-8c86-f4efc3c2c63a\", \"x\": [0.01976543149856139, 0.020933022652465882, 0.022698361575176077, 0.02506144826669197, 0.02802228272701357, 0.03158086495614087, 0.03573719495407387, 0.04049127272081257, 0.045843098256356976, 0.05179267156070708, 0.05833999263386288, 0.06548506147582439, 0.07322787808659159, 0.08156844246616451, 0.09050675461454312, 0.1000428145317274], \"xaxis\": \"x\", \"y\": [0.3404207282845385, 0.360530192172523, 0.3909346871000326, 0.43163421306706706, 0.48262877007362665, 0.5439183581197112, 0.6155029772053208, 0.6973826273304554, 0.7895573084951151, 0.8920270206992997, 1.004791763943009, 1.1278515382262437, 1.2612063435490033, 1.4048561799112882, 1.5588010473130978, 1.723040945754432], \"yaxis\": \"y\"}, {\"mode\": \"lines+markers+text\", \"name\": \"modified aircraft\", \"text\": [\"\", \"\", \"\", \"\", \"\", \"\", \"\", \"\", \"\", \"max L/D = <br>13.665\", \"\", \"\", \"\", \"\", \"\", \"\"], \"textposition\": \"top left\", \"type\": \"scatter\", \"uid\": \"a146b36c-1127-4d76-bf6f-adea01e29864\", \"x\": [0.031086063749222053, 0.03220734346210022, 0.033903450361647096, 0.036174384447862674, 0.039020145720746954, 0.04244073418029995, 0.04643614982652164, 0.05100639265941205, 0.056151462678971156, 0.061871359885198964, 0.06816608427809548, 0.07503563585766071, 0.08248001462389465, 0.0904992205767973, 0.09909325371636865, 0.10826211404260866], \"xaxis\": \"x2\", \"y\": [0.11736051681243066, 0.19826321105090328, 0.2791659052893759, 0.3600685995278485, 0.4409712937663211, 0.5218739880047938, 0.6027766822432663, 0.683679376481739, 0.7645820707202116, 0.8454847649586842, 0.9263874591971568, 1.0072901534356296, 1.088192847674102, 1.1690955419125748, 1.2499982361510475, 1.3309009303895198], \"yaxis\": \"y2\"}, {\"line\": {\"dash\": \"dot\", \"width\": 2}, \"mode\": \"lines\", \"showlegend\": false, \"type\": \"scatter\", \"uid\": \"71fff3b9-07ae-4cc2-bda9-398c0158238d\", \"x\": [0.031086063749222053, 0.03220734346210022, 0.033903450361647096, 0.036174384447862674, 0.039020145720746954, 0.04244073418029995, 0.04643614982652164, 0.05100639265941205, 0.056151462678971156, 0.061871359885198964, 0.06816608427809548, 0.07503563585766071, 0.08248001462389465, 0.0904992205767973, 0.09909325371636865, 0.10826211404260866], \"xaxis\": \"x2\", \"y\": [0.4247974079003413, 0.44011992410581635, 0.46329757117820997, 0.49433034911752205, 0.5332182579237527, 0.579961297596902, 0.6345594681369696, 0.6970127695439561, 0.7673212018178609, 0.8454847649586842, 0.9315034589664261, 1.0253772838410866, 1.1271062395826659, 1.2366903261911635, 1.35412954366658, 1.479423892008914], \"yaxis\": \"y2\"}],                        {\"annotations\": [{\"font\": {\"size\": 16}, \"showarrow\": false, \"text\": \"Cruise\", \"x\": 0.225, \"xanchor\": \"center\", \"xref\": \"paper\", \"y\": 1.0, \"yanchor\": \"bottom\", \"yref\": \"paper\"}, {\"font\": {\"size\": 16}, \"showarrow\": false, \"text\": \"Low Speed\", \"x\": 0.775, \"xanchor\": \"center\", \"xref\": \"paper\", \"y\": 1.0, \"yanchor\": \"bottom\", \"yref\": \"paper\"}], \"legend\": {\"x\": 0.99, \"xanchor\": \"right\", \"y\": 0.99, \"yanchor\": \"top\"}, \"template\": {\"data\": {\"bar\": [{\"error_x\": {\"color\": \"#2a3f5f\"}, \"error_y\": {\"color\": \"#2a3f5f\"}, \"marker\": {\"line\": {\"color\": \"#E5ECF6\", \"width\": 0.5}}, \"type\": \"bar\"}], \"barpolar\": [{\"marker\": {\"line\": {\"color\": \"#E5ECF6\", \"width\": 0.5}}, \"type\": \"barpolar\"}], \"carpet\": [{\"aaxis\": {\"endlinecolor\": \"#2a3f5f\", \"gridcolor\": \"white\", \"linecolor\": \"white\", \"minorgridcolor\": \"white\", \"startlinecolor\": \"#2a3f5f\"}, \"baxis\": {\"endlinecolor\": \"#2a3f5f\", \"gridcolor\": \"white\", \"linecolor\": \"white\", \"minorgridcolor\": \"white\", \"startlinecolor\": \"#2a3f5f\"}, \"type\": \"carpet\"}], \"choropleth\": [{\"colorbar\": {\"outlinewidth\": 0, \"ticks\": \"\"}, \"type\": \"choropleth\"}], \"contour\": [{\"colorbar\": {\"outlinewidth\": 0, \"ticks\": \"\"}, \"colorscale\": [[0.0, \"#0d0887\"], [0.1111111111111111, \"#46039f\"], [0.2222222222222222, \"#7201a8\"], [0.3333333333333333, \"#9c179e\"], [0.4444444444444444, \"#bd3786\"], [0.5555555555555556, \"#d8576b\"], [0.6666666666666666, \"#ed7953\"], [0.7777777777777778, \"#fb9f3a\"], [0.8888888888888888, \"#fdca26\"], [1.0, \"#f0f921\"]], \"type\": \"contour\"}], \"contourcarpet\": [{\"colorbar\": {\"outlinewidth\": 0, \"ticks\": \"\"}, \"type\": \"contourcarpet\"}], \"heatmap\": [{\"colorbar\": {\"outlinewidth\": 0, \"ticks\": \"\"}, \"colorscale\": [[0.0, \"#0d0887\"], [0.1111111111111111, \"#46039f\"], [0.2222222222222222, \"#7201a8\"], [0.3333333333333333, \"#9c179e\"], [0.4444444444444444, \"#bd3786\"], [0.5555555555555556, \"#d8576b\"], [0.6666666666666666, \"#ed7953\"], [0.7777777777777778, \"#fb9f3a\"], [0.8888888888888888, \"#fdca26\"], [1.0, \"#f0f921\"]], \"type\": \"heatmap\"}], \"heatmapgl\": [{\"colorbar\": {\"outlinewidth\": 0, \"ticks\": \"\"}, \"colorscale\": [[0.0, \"#0d0887\"], [0.1111111111111111, \"#46039f\"], [0.2222222222222222, \"#7201a8\"], [0.3333333333333333, \"#9c179e\"], [0.4444444444444444, \"#bd3786\"], [0.5555555555555556, \"#d8576b\"], [0.6666666666666666, \"#ed7953\"], [0.7777777777777778, \"#fb9f3a\"], [0.8888888888888888, \"#fdca26\"], [1.0, \"#f0f921\"]], \"type\": \"heatmapgl\"}], \"histogram\": [{\"marker\": {\"colorbar\": {\"outlinewidth\": 0, \"ticks\": \"\"}}, \"type\": \"histogram\"}], \"histogram2d\": [{\"colorbar\": {\"outlinewidth\": 0, \"ticks\": \"\"}, \"colorscale\": [[0.0, \"#0d0887\"], [0.1111111111111111, \"#46039f\"], [0.2222222222222222, \"#7201a8\"], [0.3333333333333333, \"#9c179e\"], [0.4444444444444444, \"#bd3786\"], [0.5555555555555556, \"#d8576b\"], [0.6666666666666666, \"#ed7953\"], [0.7777777777777778, \"#fb9f3a\"], [0.8888888888888888, \"#fdca26\"], [1.0, \"#f0f921\"]], \"type\": \"histogram2d\"}], \"histogram2dcontour\": [{\"colorbar\": {\"outlinewidth\": 0, \"ticks\": \"\"}, \"colorscale\": [[0.0, \"#0d0887\"], [0.1111111111111111, \"#46039f\"], [0.2222222222222222, \"#7201a8\"], [0.3333333333333333, \"#9c179e\"], [0.4444444444444444, \"#bd3786\"], [0.5555555555555556, \"#d8576b\"], [0.6666666666666666, \"#ed7953\"], [0.7777777777777778, \"#fb9f3a\"], [0.8888888888888888, \"#fdca26\"], [1.0, \"#f0f921\"]], \"type\": \"histogram2dcontour\"}], \"mesh3d\": [{\"colorbar\": {\"outlinewidth\": 0, \"ticks\": \"\"}, \"type\": \"mesh3d\"}], \"parcoords\": [{\"line\": {\"colorbar\": {\"outlinewidth\": 0, \"ticks\": \"\"}}, \"type\": \"parcoords\"}], \"pie\": [{\"automargin\": true, \"type\": \"pie\"}], \"scatter\": [{\"marker\": {\"colorbar\": {\"outlinewidth\": 0, \"ticks\": \"\"}}, \"type\": \"scatter\"}], \"scatter3d\": [{\"line\": {\"colorbar\": {\"outlinewidth\": 0, \"ticks\": \"\"}}, \"marker\": {\"colorbar\": {\"outlinewidth\": 0, \"ticks\": \"\"}}, \"type\": \"scatter3d\"}], \"scattercarpet\": [{\"marker\": {\"colorbar\": {\"outlinewidth\": 0, \"ticks\": \"\"}}, \"type\": \"scattercarpet\"}], \"scattergeo\": [{\"marker\": {\"colorbar\": {\"outlinewidth\": 0, \"ticks\": \"\"}}, \"type\": \"scattergeo\"}], \"scattergl\": [{\"marker\": {\"colorbar\": {\"outlinewidth\": 0, \"ticks\": \"\"}}, \"type\": \"scattergl\"}], \"scattermapbox\": [{\"marker\": {\"colorbar\": {\"outlinewidth\": 0, \"ticks\": \"\"}}, \"type\": \"scattermapbox\"}], \"scatterpolar\": [{\"marker\": {\"colorbar\": {\"outlinewidth\": 0, \"ticks\": \"\"}}, \"type\": \"scatterpolar\"}], \"scatterpolargl\": [{\"marker\": {\"colorbar\": {\"outlinewidth\": 0, \"ticks\": \"\"}}, \"type\": \"scatterpolargl\"}], \"scatterternary\": [{\"marker\": {\"colorbar\": {\"outlinewidth\": 0, \"ticks\": \"\"}}, \"type\": \"scatterternary\"}], \"surface\": [{\"colorbar\": {\"outlinewidth\": 0, \"ticks\": \"\"}, \"colorscale\": [[0.0, \"#0d0887\"], [0.1111111111111111, \"#46039f\"], [0.2222222222222222, \"#7201a8\"], [0.3333333333333333, \"#9c179e\"], [0.4444444444444444, \"#bd3786\"], [0.5555555555555556, \"#d8576b\"], [0.6666666666666666, \"#ed7953\"], [0.7777777777777778, \"#fb9f3a\"], [0.8888888888888888, \"#fdca26\"], [1.0, \"#f0f921\"]], \"type\": \"surface\"}], \"table\": [{\"cells\": {\"fill\": {\"color\": \"#EBF0F8\"}, \"line\": {\"color\": \"white\"}}, \"header\": {\"fill\": {\"color\": \"#C8D4E3\"}, \"line\": {\"color\": \"white\"}}, \"type\": \"table\"}]}, \"layout\": {\"annotationdefaults\": {\"arrowcolor\": \"#2a3f5f\", \"arrowhead\": 0, \"arrowwidth\": 1}, \"autotypenumbers\": \"strict\", \"coloraxis\": {\"colorbar\": {\"outlinewidth\": 0, \"ticks\": \"\"}}, \"colorscale\": {\"diverging\": [[0, \"#8e0152\"], [0.1, \"#c51b7d\"], [0.2, \"#de77ae\"], [0.3, \"#f1b6da\"], [0.4, \"#fde0ef\"], [0.5, \"#f7f7f7\"], [0.6, \"#e6f5d0\"], [0.7, \"#b8e186\"], [0.8, \"#7fbc41\"], [0.9, \"#4d9221\"], [1, \"#276419\"]], \"sequential\": [[0.0, \"#0d0887\"], [0.1111111111111111, \"#46039f\"], [0.2222222222222222, \"#7201a8\"], [0.3333333333333333, \"#9c179e\"], [0.4444444444444444, \"#bd3786\"], [0.5555555555555556, \"#d8576b\"], [0.6666666666666666, \"#ed7953\"], [0.7777777777777778, \"#fb9f3a\"], [0.8888888888888888, \"#fdca26\"], [1.0, \"#f0f921\"]], \"sequentialminus\": [[0.0, \"#0d0887\"], [0.1111111111111111, \"#46039f\"], [0.2222222222222222, \"#7201a8\"], [0.3333333333333333, \"#9c179e\"], [0.4444444444444444, \"#bd3786\"], [0.5555555555555556, \"#d8576b\"], [0.6666666666666666, \"#ed7953\"], [0.7777777777777778, \"#fb9f3a\"], [0.8888888888888888, \"#fdca26\"], [1.0, \"#f0f921\"]]}, \"colorway\": [\"#636efa\", \"#EF553B\", \"#00cc96\", \"#ab63fa\", \"#FFA15A\", \"#19d3f3\", \"#FF6692\", \"#B6E880\", \"#FF97FF\", \"#FECB52\"], \"font\": {\"color\": \"#2a3f5f\"}, \"geo\": {\"bgcolor\": \"white\", \"lakecolor\": \"white\", \"landcolor\": \"#E5ECF6\", \"showlakes\": true, \"showland\": true, \"subunitcolor\": \"white\"}, \"hoverlabel\": {\"align\": \"left\"}, \"hovermode\": \"closest\", \"mapbox\": {\"style\": \"light\"}, \"paper_bgcolor\": \"white\", \"plot_bgcolor\": \"#E5ECF6\", \"polar\": {\"angularaxis\": {\"gridcolor\": \"white\", \"linecolor\": \"white\", \"ticks\": \"\"}, \"bgcolor\": \"#E5ECF6\", \"radialaxis\": {\"gridcolor\": \"white\", \"linecolor\": \"white\", \"ticks\": \"\"}}, \"scene\": {\"xaxis\": {\"backgroundcolor\": \"#E5ECF6\", \"gridcolor\": \"white\", \"gridwidth\": 2, \"linecolor\": \"white\", \"showbackground\": true, \"ticks\": \"\", \"zerolinecolor\": \"white\"}, \"yaxis\": {\"backgroundcolor\": \"#E5ECF6\", \"gridcolor\": \"white\", \"gridwidth\": 2, \"linecolor\": \"white\", \"showbackground\": true, \"ticks\": \"\", \"zerolinecolor\": \"white\"}, \"zaxis\": {\"backgroundcolor\": \"#E5ECF6\", \"gridcolor\": \"white\", \"gridwidth\": 2, \"linecolor\": \"white\", \"showbackground\": true, \"ticks\": \"\", \"zerolinecolor\": \"white\"}}, \"shapedefaults\": {\"line\": {\"color\": \"#2a3f5f\"}}, \"ternary\": {\"aaxis\": {\"gridcolor\": \"white\", \"linecolor\": \"white\", \"ticks\": \"\"}, \"baxis\": {\"gridcolor\": \"white\", \"linecolor\": \"white\", \"ticks\": \"\"}, \"bgcolor\": \"#E5ECF6\", \"caxis\": {\"gridcolor\": \"white\", \"linecolor\": \"white\", \"ticks\": \"\"}}, \"title\": {\"x\": 0.05}, \"xaxis\": {\"automargin\": true, \"gridcolor\": \"white\", \"linecolor\": \"white\", \"ticks\": \"\", \"title\": {\"standoff\": 15}, \"zerolinecolor\": \"white\", \"zerolinewidth\": 2}, \"yaxis\": {\"automargin\": true, \"gridcolor\": \"white\", \"linecolor\": \"white\", \"ticks\": \"\", \"title\": {\"standoff\": 15}, \"zerolinecolor\": \"white\", \"zerolinewidth\": 2}}}, \"title\": {\"text\": \"Non Equilibrated Aircraft Polar\", \"x\": 0.5}, \"xaxis\": {\"anchor\": \"y\", \"domain\": [0.0, 0.45], \"title\": {\"text\": \"CD\"}}, \"xaxis2\": {\"anchor\": \"y2\", \"domain\": [0.55, 1.0], \"title\": {\"text\": \"CD\"}}, \"yaxis\": {\"anchor\": \"x\", \"domain\": [0.0, 1.0], \"title\": {\"text\": \"CL\"}}, \"yaxis2\": {\"anchor\": \"x2\", \"domain\": [0.0, 1.0], \"title\": {\"text\": \"CL\"}}},                        {\"responsive\": true}                    ).then(function(){\n",
       "                            \n",
       "var gd = document.getElementById('3d695624-94e1-4294-9a7e-87f62c071795');\n",
       "var x = new MutationObserver(function (mutations, observer) {{\n",
       "        var display = window.getComputedStyle(gd).display;\n",
       "        if (!display || display === 'none') {{\n",
       "            console.log([gd, 'removed!']);\n",
       "            Plotly.purge(gd);\n",
       "            observer.disconnect();\n",
       "        }}\n",
       "}});\n",
       "\n",
       "// Listen for the removal of the full notebook cells\n",
       "var notebookContainer = gd.closest('#notebook-container');\n",
       "if (notebookContainer) {{\n",
       "    x.observe(notebookContainer, {childList: true});\n",
       "}}\n",
       "\n",
       "// Listen for the clearing of the current output cell\n",
       "var outputEl = gd.closest('.output');\n",
       "if (outputEl) {{\n",
       "    x.observe(outputEl, {childList: true});\n",
       "}}\n",
       "\n",
       "                        })                };                });            </script>        </div>"
      ]
     },
     "metadata": {},
     "output_type": "display_data"
    }
   ],
   "source": [
    "from fastga.utils.postprocessing.analysis_and_plots import aircraft_polar\n",
    "\n",
    "fig = aircraft_polar(OUTPUT_REF_FILE, name='reference aircraft', equilibrated=False)\n",
    "fig = aircraft_polar(OUTPUT_MOD_FILE, name='modified aircraft', equilibrated=False, fig=fig)\n",
    "fig.show()"
   ]
  },
  {
   "cell_type": "markdown",
   "metadata": {},
   "source": [
    "## Equilibrated Aircraft Polar"
   ]
  },
  {
   "cell_type": "code",
   "execution_count": null,
   "metadata": {},
   "outputs": [],
   "source": [
    "from fastga.models.aerodynamics.components.compute_polar import _compute_equilibrated_polar\n",
    "from fastga.utils.postprocessing.analysis_and_plots import aircraft_polar\n",
    "\n",
    "def polar_variation(cg_ratio):\n",
    "    compute_polar_cruise = api_cs23.generate_block_analysis(\n",
    "        _compute_equilibrated_polar(low_speed_aero=False, x_cg_ratio=cg_ratio),\n",
    "        [],\n",
    "        str(OUTPUT_REF_FILE),\n",
    "        True,\n",
    "    )\n",
    "    \n",
    "    output = compute_polar_cruise({})\n",
    "    \n",
    "    compute_polar_low_speed = api_cs23.generate_block_analysis(\n",
    "        _compute_equilibrated_polar(low_speed_aero=True, x_cg_ratio=cg_ratio),\n",
    "        [],\n",
    "        str(OUTPUT_REF_FILE),\n",
    "        True,\n",
    "    )\n",
    "\n",
    "    output = compute_polar_low_speed({})\n",
    "    \n",
    "    fig = aircraft_polar(OUTPUT_REF_FILE, name='TBM output', equilibrated=True)\n",
    "    fig.show()"
   ]
  },
  {
   "cell_type": "code",
   "execution_count": null,
   "metadata": {},
   "outputs": [],
   "source": [
    "from ipywidgets import widgets, Layout\n",
    "from fastoad.io import VariableIO\n",
    "from IPython.display import display, clear_output\n",
    "\n",
    "variables = VariableIO(OUTPUT_REF_FILE).read()\n",
    "cg_aft = round(variables[\"data:weight:aircraft:CG:aft:MAC_position\"].value[0],2)\n",
    "cg_fwd = round(variables[\"data:weight:aircraft:CG:fwd:MAC_position\"].value[0],2)\n",
    "\n",
    "cg_choice = widgets.FloatSlider(\n",
    "    value=cg_fwd,\n",
    "    min=cg_fwd,\n",
    "    max=cg_aft,\n",
    "    step=0.01,\n",
    "    description='CG position (ratio of MAC):',\n",
    "    style={'description_width': 'initial'},\n",
    "    layout=Layout(width='30%'),\n",
    "    disabled=False,\n",
    "    continuous_update=False,\n",
    "    orientation='horizontal',\n",
    "    readout=True,\n",
    "    readout_format='.2f',\n",
    ")\n",
    "\n",
    "def eventhandler(change):\n",
    "    if (change.new):\n",
    "        clear_output()\n",
    "        display(cg_choice)\n",
    "        polar_variation(cg_choice.value)\n",
    "        \n",
    "cg_choice.observe(eventhandler, names='value')\n",
    "display(cg_choice)"
   ]
  },
  {
   "cell_type": "code",
   "execution_count": null,
   "metadata": {},
   "outputs": [],
   "source": []
  }
 ],
 "metadata": {
  "kernelspec": {
   "display_name": "Python 3",
   "language": "python",
   "name": "python3"
  },
  "language_info": {
   "codemirror_mode": {
    "name": "ipython",
    "version": 3
   },
   "file_extension": ".py",
   "mimetype": "text/x-python",
   "name": "python",
   "nbconvert_exporter": "python",
   "pygments_lexer": "ipython3",
   "version": "3.9.4"
  }
 },
 "nbformat": 4,
 "nbformat_minor": 4
}
