{
 "cells": [
  {
   "cell_type": "markdown",
   "metadata": {},
   "source": [
    "<div class=\"row\">\n",
    "  <div class=\"column\">\n",
    "    <img src=\"./img/logo-onera.png\" width=\"200\">\n",
    "  </div>\n",
    "  <div class=\"column\">\n",
    "    <img src=\"./img/logo-ISAE_SUPAERO.png\" width=\"200\">\n",
    "  </div>\n",
    "</div>"
   ]
  },
  {
   "cell_type": "markdown",
   "metadata": {},
   "source": [
    "# FAST-OAD-GA Pre-generating Xfoil results\n",
    "\n",
    "It has been observed that Xfoil would sometimes fail to converge for Reynolds number while it converge for slightly higher/lower Reynolds number. To counter this problem, it was decided to generate the results and do some post-processing to ensure the results are plausible. \n",
    "\n",
    "It is worth noting that it is not mandatory to run this notebook before launching FAST-OAD-GA but this would help filter out physically irrelevant results."
   ]
  },
  {
   "cell_type": "code",
   "execution_count": 1,
   "metadata": {
    "scrolled": true
   },
   "outputs": [
    {
     "name": "stdout",
     "output_type": "stream",
     "text": [
      "Unable to import mpi4py. Parallel processing unavailable.\n",
      "Unable to import petsc4py. Parallel processing unavailable.\n",
      "Unable to import petsc4py. Parallel processing unavailable.\n"
     ]
    }
   ],
   "source": [
    "import os.path as pth\n",
    "import openmdao.api as om\n",
    "\n",
    "import logging\n",
    "import os\n",
    "import shutil\n",
    "import time\n",
    "\n",
    "from fastoad import api as api_cs25\n",
    "from fastga import api as api_cs23\n",
    "\n",
    "from fastoad.utils.postprocessing import VariableViewer\n",
    "\n",
    "import pandas as pd\n",
    "import numpy as np\n",
    "import matplotlib.pyplot as plt\n",
    "\n",
    "# Define relative path\n",
    "DATA_FOLDER_PATH = 'data'\n",
    "WORK_FOLDER_PATH = 'workdir'\n",
    "RESULT_FOLDER_PATH = 'results'\n",
    "\n",
    "# Final file names, name doesn't matter as the only used variables are the Reynolds and approach speed \n",
    "# defined as input variable later in the code\n",
    "AIRCRAFT1_FILE = pth.join(WORK_FOLDER_PATH, 'blank.xml')"
   ]
  },
  {
   "cell_type": "markdown",
   "metadata": {},
   "source": [
    "Clearing and preparing the work folder by importing the blank .xml file"
   ]
  },
  {
   "cell_type": "code",
   "execution_count": 2,
   "metadata": {},
   "outputs": [
    {
     "data": {
      "text/plain": [
       "'workdir\\\\blank.xml'"
      ]
     },
     "execution_count": 2,
     "metadata": {},
     "output_type": "execute_result"
    }
   ],
   "source": [
    "# Clear work folder\n",
    "shutil.rmtree(WORK_FOLDER_PATH, ignore_errors=True)\n",
    "os.mkdir(WORK_FOLDER_PATH)\n",
    "shutil.copy(pth.join(DATA_FOLDER_PATH, 'blank.xml'), pth.join(WORK_FOLDER_PATH, 'blank.xml'))"
   ]
  },
  {
   "cell_type": "markdown",
   "metadata": {},
   "source": [
    "Here we define a few functions that will be used later for the post treatment of the data we will get. The first one allow to delete zeros that may be present in the alpha array while the second one allows to sort a list while keeping the matching data on a second list"
   ]
  },
  {
   "cell_type": "code",
   "execution_count": 3,
   "metadata": {},
   "outputs": [],
   "source": [
    "def delete_additional_zeros(array_alpha, array_cl):\n",
    "    \"\"\"\n",
    "    Function that delete the additional zeros we had to add to fit the format imposed by OpenMDAO in both the alpha\n",
    "    and CL array simultaneously\n",
    "\n",
    "    @param array_alpha: an array with the alpha values and the additional zeros we want to delete\n",
    "    @param array_cl: the corresponding Cl array\n",
    "    @return: final_array_alpha an array containing the same alphas of the initial array but with the additional\n",
    "    zeros deleted\n",
    "    @return: final_array_CL an array containing the corresponding CL\n",
    "    \"\"\"\n",
    "\n",
    "    non_zero_array = np.where(array_alpha != 0)\n",
    "    if array_alpha[0] == 0.0:\n",
    "        valid_data_index = np.insert(non_zero_array, 0, 0)\n",
    "    else:\n",
    "        valid_data_index = non_zero_array\n",
    "\n",
    "    final_array_alpha = array_alpha[valid_data_index]\n",
    "    final_array_cl = array_cl[valid_data_index]\n",
    "\n",
    "    return final_array_alpha, final_array_cl\n",
    "\n",
    "def rearrange_data(array_alpha, array_cl):\n",
    "    \"\"\"\n",
    "    Function that rearrange the data so that the alpha array is sorted and the cl array is rearranged accordingly\n",
    "\n",
    "    @param array_alpha: an array with the alpha values in potentially the wrong order\n",
    "    @param array_cl: the corresponding Cl array\n",
    "    @return: final_array_alpha an array containing the same alphas of the initial array but sorted\n",
    "    @return: final_array_CL an array containing the corresponding CL in the corresponding position\n",
    "    \"\"\"\n",
    "\n",
    "    sorter = np.zeros((len(array_alpha), 2))\n",
    "    sorter[:, 0] = array_alpha\n",
    "    sorter[:, 1] = array_cl\n",
    "    sorted_alpha = np.sort(sorter, axis=0)\n",
    "    for alpha in sorted_alpha[:, 0]:\n",
    "        index_alpha_new = np.where(sorted_alpha[:, 0] == alpha)\n",
    "        index_alpha_orig = np.where(array_alpha == alpha)\n",
    "        sorted_alpha[index_alpha_new, 1] = array_cl[index_alpha_orig]\n",
    "\n",
    "    return sorted_alpha[:, 0], sorted_alpha[:, 1]"
   ]
  },
  {
   "cell_type": "markdown",
   "metadata": {},
   "source": [
    "We prepare the block analysis that will allows us to run xfoil multiple time at different Reynolds number"
   ]
  },
  {
   "cell_type": "code",
   "execution_count": 4,
   "metadata": {},
   "outputs": [
    {
     "name": "stderr",
     "output_type": "stream",
     "text": [
      "Cannot register factory 'test.wrapper.aerodynamics.beechcraft.dummy_engine' of bundle 77 (models.aerodynamics.tests.test_slipstream_x57): 'test.wrapper.aerodynamics.beechcraft.dummy_engine' factory already exist\n",
      "class: <class 'models.aerodynamics.tests.test_slipstream_x57.DummyEngineWrapper'> -- module: models.aerodynamics.tests.test_slipstream_x57\n",
      "Error visiting models.geometry.tests.test_beechcraft_76: Error installing bundle models.geometry.tests.test_beechcraft_76: cannot import name 'ComputeMFW' from 'models.geometry.geom_components.wing.components' (c:\\users\\lucas\\anaconda3\\lib\\site-packages\\fastga\\models\\geometry\\geom_components\\wing\\components\\__init__.py)\n",
      "Error visiting models.geometry.tests.test_cirrus_sr22: Error installing bundle models.geometry.tests.test_cirrus_sr22: cannot import name 'ComputeMFW' from 'models.geometry.geom_components.wing.components' (c:\\users\\lucas\\anaconda3\\lib\\site-packages\\fastga\\models\\geometry\\geom_components\\wing\\components\\__init__.py)\n",
      "Cannot register factory 'test.wrapper.performances.cirrus.dummy_engine' of bundle 160 (models.load_analysis.tests.test_maxwell_x57): 'test.wrapper.performances.cirrus.dummy_engine' factory already exist\n",
      "class: <class 'models.load_analysis.tests.test_maxwell_x57.DummyEngineWrapper'> -- module: models.load_analysis.tests.test_maxwell_x57\n",
      "Cannot register factory 'test.wrapper.performances.beechcraft.dummy_engine' of bundle 179 (models.performances.tests.test_beechcraft_76): 'test.wrapper.performances.beechcraft.dummy_engine' factory already exist\n",
      "class: <class 'models.performances.tests.test_beechcraft_76.DummyEngineWrapper'> -- module: models.performances.tests.test_beechcraft_76\n",
      "Cannot register factory 'test.wrapper.performances.cirrus.dummy_engine' of bundle 181 (models.performances.tests.test_cirrus_sr22): 'test.wrapper.performances.cirrus.dummy_engine' factory already exist\n",
      "class: <class 'models.performances.tests.test_cirrus_sr22.DummyEngineWrapper'> -- module: models.performances.tests.test_cirrus_sr22\n",
      "Error visiting models.propulsion.fuel_propulsion.basicIC_engine.basicIC_engineOM: Error installing bundle models.propulsion.fuel_propulsion.basicIC_engine.basicIC_engineOM: No module named 'pyfmi'\n",
      "Cannot register factory 'test.wrapper.cg.beechcraft.dummy_engine' of bundle 228 (models.weight.cg.tests.test_cirrus_sr22): 'test.wrapper.cg.beechcraft.dummy_engine' factory already exist\n",
      "class: <class 'models.weight.cg.tests.test_cirrus_sr22.DummyEngineWrapper'> -- module: models.weight.cg.tests.test_cirrus_sr22\n",
      "Cannot register factory 'test.wrapper.performances.cirrus.dummy_engine' of bundle 159 (models.load_analysis.tests.test_cirrus_sr22): 'test.wrapper.performances.cirrus.dummy_engine' factory already exist\n",
      "class: <class 'models.load_analysis.tests.test_cirrus_sr22.DummyEngineWrapper'> -- module: models.load_analysis.tests.test_cirrus_sr22\n",
      "Cannot register factory 'test.wrapper.performances.beechcraft.dummy_engine' of bundle 180 (models.performances.tests.test_beechcraft_76): 'test.wrapper.performances.beechcraft.dummy_engine' factory already exist\n",
      "class: <class 'models.performances.tests.test_beechcraft_76.DummyEngineWrapper'> -- module: models.performances.tests.test_beechcraft_76\n",
      "Cannot register factory 'test.wrapper.aerodynamics.beechcraft.dummy_engine' of bundle 74 (models.aerodynamics.tests.test_beechcraft_76): 'test.wrapper.aerodynamics.beechcraft.dummy_engine' factory already exist\n",
      "class: <class 'models.aerodynamics.tests.test_beechcraft_76.DummyEngineWrapper'> -- module: models.aerodynamics.tests.test_beechcraft_76\n",
      "Cannot register factory 'test.wrapper.aerodynamics.cirrus.dummy_engine' of bundle 76 (models.aerodynamics.tests.test_cirrus_sr22): 'test.wrapper.aerodynamics.cirrus.dummy_engine' factory already exist\n",
      "class: <class 'models.aerodynamics.tests.test_cirrus_sr22.DummyEngineWrapper'> -- module: models.aerodynamics.tests.test_cirrus_sr22\n",
      "Cannot register factory 'test.wrapper.performances.cirrus.dummy_engine' of bundle 182 (models.performances.tests.test_cirrus_sr22): 'test.wrapper.performances.cirrus.dummy_engine' factory already exist\n",
      "class: <class 'models.performances.tests.test_cirrus_sr22.DummyEngineWrapper'> -- module: models.performances.tests.test_cirrus_sr22\n",
      "Cannot register factory 'test.wrapper.performances.cirrus.dummy_engine' of bundle 161 (models.load_analysis.tests.test_maxwell_x57): 'test.wrapper.performances.cirrus.dummy_engine' factory already exist\n",
      "class: <class 'models.load_analysis.tests.test_maxwell_x57.DummyEngineWrapper'> -- module: models.load_analysis.tests.test_maxwell_x57\n",
      "Cannot register factory 'test.wrapper.cg.beechcraft.dummy_engine' of bundle 229 (models.weight.cg.tests.test_cirrus_sr22): 'test.wrapper.cg.beechcraft.dummy_engine' factory already exist\n",
      "class: <class 'models.weight.cg.tests.test_cirrus_sr22.DummyEngineWrapper'> -- module: models.weight.cg.tests.test_cirrus_sr22\n",
      "Cannot register factory 'test.wrapper.performances.beechcraft.dummy_engine' of bundle 157 (models.load_analysis.tests.test_beechcraft_76): 'test.wrapper.performances.beechcraft.dummy_engine' factory already exist\n",
      "class: <class 'models.load_analysis.tests.test_beechcraft_76.DummyEngineWrapper'> -- module: models.load_analysis.tests.test_beechcraft_76\n",
      "Cannot register factory 'test.wrapper.aerodynamics.beechcraft.dummy_engine' of bundle 78 (models.aerodynamics.tests.test_slipstream_x57): 'test.wrapper.aerodynamics.beechcraft.dummy_engine' factory already exist\n",
      "class: <class 'models.aerodynamics.tests.test_slipstream_x57.DummyEngineWrapper'> -- module: models.aerodynamics.tests.test_slipstream_x57\n",
      "Cannot register factory 'test.wrapper.mass_breakdown.cirrus.dummy_engine' of bundle 254 (models.weight.mass_breakdown.tests.test_cirrus_sr22): 'test.wrapper.mass_breakdown.cirrus.dummy_engine' factory already exist\n",
      "class: <class 'models.weight.mass_breakdown.tests.test_cirrus_sr22.DummyEngineWrapper'> -- module: models.weight.mass_breakdown.tests.test_cirrus_sr22\n",
      "Cannot register factory 'test.wrapper.handling_qualities.beechcraft.dummy_engine' of bundle 135 (models.handling_qualities.tests.test_beechcraft_76): 'test.wrapper.handling_qualities.beechcraft.dummy_engine' factory already exist\n",
      "class: <class 'models.handling_qualities.tests.test_beechcraft_76.DummyEngineWrapper'> -- module: models.handling_qualities.tests.test_beechcraft_76\n",
      "Cannot register factory 'test.wrapper.cg.beechcraft.dummy_engine' of bundle 227 (models.weight.cg.tests.test_beechcraft_76): 'test.wrapper.cg.beechcraft.dummy_engine' factory already exist\n",
      "class: <class 'models.weight.cg.tests.test_beechcraft_76.DummyEngineWrapper'> -- module: models.weight.cg.tests.test_beechcraft_76\n",
      "Cannot register factory 'test.wrapper.handling_qualities.cirrus.dummy_engine' of bundle 137 (models.handling_qualities.tests.test_cirrus_sr22): 'test.wrapper.handling_qualities.cirrus.dummy_engine' factory already exist\n",
      "class: <class 'models.handling_qualities.tests.test_cirrus_sr22.DummyEngineWrapper'> -- module: models.handling_qualities.tests.test_cirrus_sr22\n",
      "Cannot register factory 'test.wrapper.mass_breakdown.beechcraft.dummy_engine' of bundle 252 (models.weight.mass_breakdown.tests.test_beechcraft_76): 'test.wrapper.mass_breakdown.beechcraft.dummy_engine' factory already exist\n",
      "class: <class 'models.weight.mass_breakdown.tests.test_beechcraft_76.DummyEngineWrapper'> -- module: models.weight.mass_breakdown.tests.test_beechcraft_76\n",
      "Failed to import module models.propulsion.fuel_propulsion.basicIC_engine.basicIC_engineOM\n",
      "Failed to import module models.geometry.tests.test_beechcraft_76\n",
      "Failed to import module models.geometry.tests.test_cirrus_sr22\n"
     ]
    }
   ],
   "source": [
    "from fastga.models.aerodynamics.external.xfoil import XfoilGroup as Xfoil\n",
    "from fastga.models.aerodynamics.external.xfoil import resources\n",
    "\n",
    "var_inputs = [\"data:TLAR:v_approach\", \"data:Xfoil_pre_processing:reynolds\"]\n",
    "\n",
    "airfoil_file_name = \"naca43013_3.af\"\n",
    "symmetrical_tag = True   \n",
    "\n",
    "# Declare function\n",
    "compute_xfoil = api_cs23.generate_block_analysis(\n",
    "    Xfoil(\n",
    "        airfoil_file=airfoil_file_name,\n",
    "        symmetrical=symmetrical_tag,\n",
    "    ),\n",
    "    var_inputs,\n",
    "    AIRCRAFT1_FILE,\n",
    "    True,\n",
    ")\n",
    "\n",
    "if not symmetrical_tag:\n",
    "    file_path = pth.join(resources.__path__[0], airfoil_file_name.replace('af', 'csv'))\n",
    "else:\n",
    "    file_path = pth.join(resources.__path__[0], airfoil_file_name.replace('.af', '_sym.csv'))"
   ]
  },
  {
   "cell_type": "markdown",
   "metadata": {},
   "source": [
    "This is where we define the values of the Reynolds number and approach velocity that are required to run the Xfoil group"
   ]
  },
  {
   "cell_type": "code",
   "execution_count": 5,
   "metadata": {},
   "outputs": [
    {
     "name": "stdout",
     "output_type": "stream",
     "text": [
      "[ 500000.          770833.33333333 1041666.66666667 1312500.\n",
      " 1583333.33333333 1854166.66666667 2125000.         2395833.33333333\n",
      " 2666666.66666667 2937500.         3208333.33333333 3479166.66666667\n",
      " 3750000.         4020833.33333333 4291666.66666667 4562500.\n",
      " 4833333.33333333 5104166.66666667 5375000.         5645833.33333333\n",
      " 5916666.66666667 6187500.         6458333.33333333 6729166.66666667\n",
      " 7000000.        ]\n"
     ]
    }
   ],
   "source": [
    "# reynolds_array_orig = np.linspace(500000, 7000000, num = 35)\n",
    "reynolds_array_orig = np.linspace(500000, 7000000, num = 25)\n",
    "print(reynolds_array_orig)\n",
    "\n",
    "# v_approach = 79.0\n",
    "v_approach = 128.0     # velocity for TBM-900"
   ]
  },
  {
   "cell_type": "markdown",
   "metadata": {},
   "source": [
    "Here we launch the multiples simulations based on the Reynolds number we define in the section above"
   ]
  },
  {
   "cell_type": "code",
   "execution_count": 6,
   "metadata": {
    "scrolled": false
   },
   "outputs": [
    {
     "name": "stderr",
     "output_type": "stream",
     "text": [
      "2D CL min not found, les than 50% of angle range computed: using default value -1.7\n",
      "alpha array sent as function parameter [-0.  -0.5 -1.  -1.5 -2.  -2.5 -3.  -3.5 -4.  -4.5 -5.  -5.5 -6.  -6.5\n",
      " -7. ]\n",
      "2D CL min not found, les than 50% of angle range computed: using default value -1.7\n",
      "alpha array sent as function parameter [-0.  -0.5 -1.  -1.5 -2.  -3.  -3.5 -4.  -4.5 -5.  -5.5 -6.  -6.5 -7.\n",
      " -7.5 -8. ]\n",
      "2D CL min not found, les than 50% of angle range computed: using default value -1.7\n",
      "alpha array sent as function parameter [-0.  -0.5 -1.  -1.5 -2.  -2.5 -3.  -3.5 -4.  -4.5 -5.  -5.5 -6.  -6.5\n",
      " -7.  -7.5 -8.  -8.5 -9. ]\n",
      "2D CL min not found, les than 50% of angle range computed: using default value -1.7\n",
      "alpha array sent as function parameter [-0.  -0.5 -1.  -1.5 -2.  -2.5 -3.  -3.5 -4.  -4.5 -5.  -5.5 -6.  -6.5\n",
      " -7.  -7.5 -8.  -8.5 -9.  -9.5]\n"
     ]
    },
    {
     "ename": "KeyboardInterrupt",
     "evalue": "",
     "output_type": "error",
     "traceback": [
      "\u001b[1;31m---------------------------------------------------------------------------\u001b[0m",
      "\u001b[1;31mKeyboardInterrupt\u001b[0m                         Traceback (most recent call last)",
      "\u001b[1;32m<ipython-input-6-c95ed04f4b12>\u001b[0m in \u001b[0;36m<module>\u001b[1;34m\u001b[0m\n\u001b[0;32m      3\u001b[0m                    \"data:Xfoil_pre_processing:reynolds\": (reynolds, None)}\n\u001b[0;32m      4\u001b[0m \u001b[1;33m\u001b[0m\u001b[0m\n\u001b[1;32m----> 5\u001b[1;33m     \u001b[0moutputs_dict\u001b[0m \u001b[1;33m=\u001b[0m \u001b[0mcompute_xfoil\u001b[0m\u001b[1;33m(\u001b[0m\u001b[0minputs_dict\u001b[0m\u001b[1;33m)\u001b[0m\u001b[1;33m\u001b[0m\u001b[1;33m\u001b[0m\u001b[0m\n\u001b[0m\u001b[0;32m      6\u001b[0m \u001b[1;33m\u001b[0m\u001b[0m\n\u001b[0;32m      7\u001b[0m \u001b[0mmach_run\u001b[0m \u001b[1;33m=\u001b[0m \u001b[0mfloat\u001b[0m\u001b[1;33m(\u001b[0m\u001b[0mnp\u001b[0m\u001b[1;33m.\u001b[0m\u001b[0mround\u001b[0m\u001b[1;33m(\u001b[0m\u001b[0moutputs_dict\u001b[0m\u001b[1;33m[\u001b[0m\u001b[1;34m\"pre_xfoil_polar.xfoil:mach\"\u001b[0m\u001b[1;33m]\u001b[0m\u001b[1;33m[\u001b[0m\u001b[1;36m0\u001b[0m\u001b[1;33m]\u001b[0m\u001b[1;33m,\u001b[0m \u001b[1;36m4\u001b[0m\u001b[1;33m)\u001b[0m\u001b[1;33m)\u001b[0m\u001b[1;33m\u001b[0m\u001b[1;33m\u001b[0m\u001b[0m\n",
      "\u001b[1;32mc:\\users\\lucas\\anaconda3\\lib\\site-packages\\fastga\\command\\api.py\u001b[0m in \u001b[0;36mpatched_function\u001b[1;34m(inputs_dict)\u001b[0m\n\u001b[0;32m    187\u001b[0m                 \u001b[0mproblem_local\u001b[0m \u001b[1;33m=\u001b[0m \u001b[0mFASTOADProblem\u001b[0m\u001b[1;33m(\u001b[0m\u001b[0mgroup_local\u001b[0m\u001b[1;33m)\u001b[0m\u001b[1;33m\u001b[0m\u001b[1;33m\u001b[0m\u001b[0m\n\u001b[0;32m    188\u001b[0m                 \u001b[0mproblem_local\u001b[0m\u001b[1;33m.\u001b[0m\u001b[0msetup\u001b[0m\u001b[1;33m(\u001b[0m\u001b[1;33m)\u001b[0m\u001b[1;33m\u001b[0m\u001b[1;33m\u001b[0m\u001b[0m\n\u001b[1;32m--> 189\u001b[1;33m                 \u001b[0mproblem_local\u001b[0m\u001b[1;33m.\u001b[0m\u001b[0mrun_model\u001b[0m\u001b[1;33m(\u001b[0m\u001b[1;33m)\u001b[0m\u001b[1;33m\u001b[0m\u001b[1;33m\u001b[0m\u001b[0m\n\u001b[0m\u001b[0;32m    190\u001b[0m                 \u001b[1;32mif\u001b[0m \u001b[0moverwrite\u001b[0m\u001b[1;33m:\u001b[0m\u001b[1;33m\u001b[0m\u001b[1;33m\u001b[0m\u001b[0m\n\u001b[0;32m    191\u001b[0m                     \u001b[0mproblem_local\u001b[0m\u001b[1;33m.\u001b[0m\u001b[0moutput_file_path\u001b[0m \u001b[1;33m=\u001b[0m \u001b[0mxml_file_path\u001b[0m\u001b[1;33m\u001b[0m\u001b[1;33m\u001b[0m\u001b[0m\n",
      "\u001b[1;32mc:\\users\\lucas\\anaconda3\\lib\\site-packages\\fastoad\\openmdao\\problem.py\u001b[0m in \u001b[0;36mrun_model\u001b[1;34m(self, case_prefix, reset_iter_counts)\u001b[0m\n\u001b[0;32m     54\u001b[0m \u001b[1;33m\u001b[0m\u001b[0m\n\u001b[0;32m     55\u001b[0m     \u001b[1;32mdef\u001b[0m \u001b[0mrun_model\u001b[0m\u001b[1;33m(\u001b[0m\u001b[0mself\u001b[0m\u001b[1;33m,\u001b[0m \u001b[0mcase_prefix\u001b[0m\u001b[1;33m=\u001b[0m\u001b[1;32mNone\u001b[0m\u001b[1;33m,\u001b[0m \u001b[0mreset_iter_counts\u001b[0m\u001b[1;33m=\u001b[0m\u001b[1;32mTrue\u001b[0m\u001b[1;33m)\u001b[0m\u001b[1;33m:\u001b[0m\u001b[1;33m\u001b[0m\u001b[1;33m\u001b[0m\u001b[0m\n\u001b[1;32m---> 56\u001b[1;33m         \u001b[0mstatus\u001b[0m \u001b[1;33m=\u001b[0m \u001b[0msuper\u001b[0m\u001b[1;33m(\u001b[0m\u001b[1;33m)\u001b[0m\u001b[1;33m.\u001b[0m\u001b[0mrun_model\u001b[0m\u001b[1;33m(\u001b[0m\u001b[0mcase_prefix\u001b[0m\u001b[1;33m,\u001b[0m \u001b[0mreset_iter_counts\u001b[0m\u001b[1;33m)\u001b[0m\u001b[1;33m\u001b[0m\u001b[1;33m\u001b[0m\u001b[0m\n\u001b[0m\u001b[0;32m     57\u001b[0m         \u001b[0mValidityDomainChecker\u001b[0m\u001b[1;33m.\u001b[0m\u001b[0mcheck_problem_variables\u001b[0m\u001b[1;33m(\u001b[0m\u001b[0mself\u001b[0m\u001b[1;33m)\u001b[0m\u001b[1;33m\u001b[0m\u001b[1;33m\u001b[0m\u001b[0m\n\u001b[0;32m     58\u001b[0m         \u001b[1;32mreturn\u001b[0m \u001b[0mstatus\u001b[0m\u001b[1;33m\u001b[0m\u001b[1;33m\u001b[0m\u001b[0m\n",
      "\u001b[1;32m~\\AppData\\Roaming\\Python\\Python38\\site-packages\\openmdao\\core\\problem.py\u001b[0m in \u001b[0;36mrun_model\u001b[1;34m(self, case_prefix, reset_iter_counts)\u001b[0m\n\u001b[0;32m    623\u001b[0m \u001b[1;33m\u001b[0m\u001b[0m\n\u001b[0;32m    624\u001b[0m         \u001b[0mself\u001b[0m\u001b[1;33m.\u001b[0m\u001b[0mmodel\u001b[0m\u001b[1;33m.\u001b[0m\u001b[0m_clear_iprint\u001b[0m\u001b[1;33m(\u001b[0m\u001b[1;33m)\u001b[0m\u001b[1;33m\u001b[0m\u001b[1;33m\u001b[0m\u001b[0m\n\u001b[1;32m--> 625\u001b[1;33m         \u001b[0mself\u001b[0m\u001b[1;33m.\u001b[0m\u001b[0mmodel\u001b[0m\u001b[1;33m.\u001b[0m\u001b[0mrun_solve_nonlinear\u001b[0m\u001b[1;33m(\u001b[0m\u001b[1;33m)\u001b[0m\u001b[1;33m\u001b[0m\u001b[1;33m\u001b[0m\u001b[0m\n\u001b[0m\u001b[0;32m    626\u001b[0m \u001b[1;33m\u001b[0m\u001b[0m\n\u001b[0;32m    627\u001b[0m     \u001b[1;32mdef\u001b[0m \u001b[0mrun_driver\u001b[0m\u001b[1;33m(\u001b[0m\u001b[0mself\u001b[0m\u001b[1;33m,\u001b[0m \u001b[0mcase_prefix\u001b[0m\u001b[1;33m=\u001b[0m\u001b[1;32mNone\u001b[0m\u001b[1;33m,\u001b[0m \u001b[0mreset_iter_counts\u001b[0m\u001b[1;33m=\u001b[0m\u001b[1;32mTrue\u001b[0m\u001b[1;33m)\u001b[0m\u001b[1;33m:\u001b[0m\u001b[1;33m\u001b[0m\u001b[1;33m\u001b[0m\u001b[0m\n",
      "\u001b[1;32m~\\AppData\\Roaming\\Python\\Python38\\site-packages\\openmdao\\core\\system.py\u001b[0m in \u001b[0;36mrun_solve_nonlinear\u001b[1;34m(self)\u001b[0m\n\u001b[0;32m   3770\u001b[0m         \"\"\"\n\u001b[0;32m   3771\u001b[0m         \u001b[1;32mwith\u001b[0m \u001b[0mself\u001b[0m\u001b[1;33m.\u001b[0m\u001b[0m_scaled_context_all\u001b[0m\u001b[1;33m(\u001b[0m\u001b[1;33m)\u001b[0m\u001b[1;33m:\u001b[0m\u001b[1;33m\u001b[0m\u001b[1;33m\u001b[0m\u001b[0m\n\u001b[1;32m-> 3772\u001b[1;33m             \u001b[0mself\u001b[0m\u001b[1;33m.\u001b[0m\u001b[0m_solve_nonlinear\u001b[0m\u001b[1;33m(\u001b[0m\u001b[1;33m)\u001b[0m\u001b[1;33m\u001b[0m\u001b[1;33m\u001b[0m\u001b[0m\n\u001b[0m\u001b[0;32m   3773\u001b[0m \u001b[1;33m\u001b[0m\u001b[0m\n\u001b[0;32m   3774\u001b[0m     \u001b[1;32mdef\u001b[0m \u001b[0mrun_apply_linear\u001b[0m\u001b[1;33m(\u001b[0m\u001b[0mself\u001b[0m\u001b[1;33m,\u001b[0m \u001b[0mvec_names\u001b[0m\u001b[1;33m,\u001b[0m \u001b[0mmode\u001b[0m\u001b[1;33m,\u001b[0m \u001b[0mscope_out\u001b[0m\u001b[1;33m=\u001b[0m\u001b[1;32mNone\u001b[0m\u001b[1;33m,\u001b[0m \u001b[0mscope_in\u001b[0m\u001b[1;33m=\u001b[0m\u001b[1;32mNone\u001b[0m\u001b[1;33m)\u001b[0m\u001b[1;33m:\u001b[0m\u001b[1;33m\u001b[0m\u001b[1;33m\u001b[0m\u001b[0m\n",
      "\u001b[1;32m~\\AppData\\Roaming\\Python\\Python38\\site-packages\\openmdao\\core\\group.py\u001b[0m in \u001b[0;36m_solve_nonlinear\u001b[1;34m(self)\u001b[0m\n\u001b[0;32m   2634\u001b[0m \u001b[1;33m\u001b[0m\u001b[0m\n\u001b[0;32m   2635\u001b[0m         \u001b[1;32mwith\u001b[0m \u001b[0mRecording\u001b[0m\u001b[1;33m(\u001b[0m\u001b[0mname\u001b[0m \u001b[1;33m+\u001b[0m \u001b[1;34m'._solve_nonlinear'\u001b[0m\u001b[1;33m,\u001b[0m \u001b[0mself\u001b[0m\u001b[1;33m.\u001b[0m\u001b[0miter_count\u001b[0m\u001b[1;33m,\u001b[0m \u001b[0mself\u001b[0m\u001b[1;33m)\u001b[0m\u001b[1;33m:\u001b[0m\u001b[1;33m\u001b[0m\u001b[1;33m\u001b[0m\u001b[0m\n\u001b[1;32m-> 2636\u001b[1;33m             \u001b[0mself\u001b[0m\u001b[1;33m.\u001b[0m\u001b[0m_nonlinear_solver\u001b[0m\u001b[1;33m.\u001b[0m\u001b[0msolve\u001b[0m\u001b[1;33m(\u001b[0m\u001b[1;33m)\u001b[0m\u001b[1;33m\u001b[0m\u001b[1;33m\u001b[0m\u001b[0m\n\u001b[0m\u001b[0;32m   2637\u001b[0m \u001b[1;33m\u001b[0m\u001b[0m\n\u001b[0;32m   2638\u001b[0m         \u001b[1;31m# Iteration counter is incremented in the Recording context manager at exit.\u001b[0m\u001b[1;33m\u001b[0m\u001b[1;33m\u001b[0m\u001b[1;33m\u001b[0m\u001b[0m\n",
      "\u001b[1;32m~\\AppData\\Roaming\\Python\\Python38\\site-packages\\openmdao\\solvers\\nonlinear\\nonlinear_runonce.py\u001b[0m in \u001b[0;36msolve\u001b[1;34m(self)\u001b[0m\n\u001b[0;32m     35\u001b[0m             \u001b[1;31m# If this is not a parallel group, transfer for each subsystem just prior to running it.\u001b[0m\u001b[1;33m\u001b[0m\u001b[1;33m\u001b[0m\u001b[1;33m\u001b[0m\u001b[0m\n\u001b[0;32m     36\u001b[0m             \u001b[1;32melse\u001b[0m\u001b[1;33m:\u001b[0m\u001b[1;33m\u001b[0m\u001b[1;33m\u001b[0m\u001b[0m\n\u001b[1;32m---> 37\u001b[1;33m                 \u001b[0mself\u001b[0m\u001b[1;33m.\u001b[0m\u001b[0m_gs_iter\u001b[0m\u001b[1;33m(\u001b[0m\u001b[1;33m)\u001b[0m\u001b[1;33m\u001b[0m\u001b[1;33m\u001b[0m\u001b[0m\n\u001b[0m\u001b[0;32m     38\u001b[0m \u001b[1;33m\u001b[0m\u001b[0m\n\u001b[0;32m     39\u001b[0m             \u001b[0mrec\u001b[0m\u001b[1;33m.\u001b[0m\u001b[0mabs\u001b[0m \u001b[1;33m=\u001b[0m \u001b[1;36m0.0\u001b[0m\u001b[1;33m\u001b[0m\u001b[1;33m\u001b[0m\u001b[0m\n",
      "\u001b[1;32m~\\AppData\\Roaming\\Python\\Python38\\site-packages\\openmdao\\solvers\\solver.py\u001b[0m in \u001b[0;36m_gs_iter\u001b[1;34m(self)\u001b[0m\n\u001b[0;32m    762\u001b[0m             \u001b[1;32mif\u001b[0m \u001b[0msubsys\u001b[0m\u001b[1;33m.\u001b[0m\u001b[0m_is_local\u001b[0m\u001b[1;33m:\u001b[0m\u001b[1;33m\u001b[0m\u001b[1;33m\u001b[0m\u001b[0m\n\u001b[0;32m    763\u001b[0m                 \u001b[1;32mtry\u001b[0m\u001b[1;33m:\u001b[0m\u001b[1;33m\u001b[0m\u001b[1;33m\u001b[0m\u001b[0m\n\u001b[1;32m--> 764\u001b[1;33m                     \u001b[0msubsys\u001b[0m\u001b[1;33m.\u001b[0m\u001b[0m_solve_nonlinear\u001b[0m\u001b[1;33m(\u001b[0m\u001b[1;33m)\u001b[0m\u001b[1;33m\u001b[0m\u001b[1;33m\u001b[0m\u001b[0m\n\u001b[0m\u001b[0;32m    765\u001b[0m                 \u001b[1;32mexcept\u001b[0m \u001b[0mAnalysisError\u001b[0m \u001b[1;32mas\u001b[0m \u001b[0merr\u001b[0m\u001b[1;33m:\u001b[0m\u001b[1;33m\u001b[0m\u001b[1;33m\u001b[0m\u001b[0m\n\u001b[0;32m    766\u001b[0m                     \u001b[1;32mif\u001b[0m \u001b[1;34m'reraise_child_analysiserror'\u001b[0m \u001b[1;32mnot\u001b[0m \u001b[1;32min\u001b[0m \u001b[0mself\u001b[0m\u001b[1;33m.\u001b[0m\u001b[0moptions\u001b[0m \u001b[1;32mor\u001b[0m\u001b[0;31m \u001b[0m\u001b[0;31m\\\u001b[0m\u001b[1;33m\u001b[0m\u001b[1;33m\u001b[0m\u001b[0m\n",
      "\u001b[1;32m~\\AppData\\Roaming\\Python\\Python38\\site-packages\\openmdao\\core\\group.py\u001b[0m in \u001b[0;36m_solve_nonlinear\u001b[1;34m(self)\u001b[0m\n\u001b[0;32m   2634\u001b[0m \u001b[1;33m\u001b[0m\u001b[0m\n\u001b[0;32m   2635\u001b[0m         \u001b[1;32mwith\u001b[0m \u001b[0mRecording\u001b[0m\u001b[1;33m(\u001b[0m\u001b[0mname\u001b[0m \u001b[1;33m+\u001b[0m \u001b[1;34m'._solve_nonlinear'\u001b[0m\u001b[1;33m,\u001b[0m \u001b[0mself\u001b[0m\u001b[1;33m.\u001b[0m\u001b[0miter_count\u001b[0m\u001b[1;33m,\u001b[0m \u001b[0mself\u001b[0m\u001b[1;33m)\u001b[0m\u001b[1;33m:\u001b[0m\u001b[1;33m\u001b[0m\u001b[1;33m\u001b[0m\u001b[0m\n\u001b[1;32m-> 2636\u001b[1;33m             \u001b[0mself\u001b[0m\u001b[1;33m.\u001b[0m\u001b[0m_nonlinear_solver\u001b[0m\u001b[1;33m.\u001b[0m\u001b[0msolve\u001b[0m\u001b[1;33m(\u001b[0m\u001b[1;33m)\u001b[0m\u001b[1;33m\u001b[0m\u001b[1;33m\u001b[0m\u001b[0m\n\u001b[0m\u001b[0;32m   2637\u001b[0m \u001b[1;33m\u001b[0m\u001b[0m\n\u001b[0;32m   2638\u001b[0m         \u001b[1;31m# Iteration counter is incremented in the Recording context manager at exit.\u001b[0m\u001b[1;33m\u001b[0m\u001b[1;33m\u001b[0m\u001b[1;33m\u001b[0m\u001b[0m\n",
      "\u001b[1;32m~\\AppData\\Roaming\\Python\\Python38\\site-packages\\openmdao\\solvers\\nonlinear\\nonlinear_runonce.py\u001b[0m in \u001b[0;36msolve\u001b[1;34m(self)\u001b[0m\n\u001b[0;32m     35\u001b[0m             \u001b[1;31m# If this is not a parallel group, transfer for each subsystem just prior to running it.\u001b[0m\u001b[1;33m\u001b[0m\u001b[1;33m\u001b[0m\u001b[1;33m\u001b[0m\u001b[0m\n\u001b[0;32m     36\u001b[0m             \u001b[1;32melse\u001b[0m\u001b[1;33m:\u001b[0m\u001b[1;33m\u001b[0m\u001b[1;33m\u001b[0m\u001b[0m\n\u001b[1;32m---> 37\u001b[1;33m                 \u001b[0mself\u001b[0m\u001b[1;33m.\u001b[0m\u001b[0m_gs_iter\u001b[0m\u001b[1;33m(\u001b[0m\u001b[1;33m)\u001b[0m\u001b[1;33m\u001b[0m\u001b[1;33m\u001b[0m\u001b[0m\n\u001b[0m\u001b[0;32m     38\u001b[0m \u001b[1;33m\u001b[0m\u001b[0m\n\u001b[0;32m     39\u001b[0m             \u001b[0mrec\u001b[0m\u001b[1;33m.\u001b[0m\u001b[0mabs\u001b[0m \u001b[1;33m=\u001b[0m \u001b[1;36m0.0\u001b[0m\u001b[1;33m\u001b[0m\u001b[1;33m\u001b[0m\u001b[0m\n",
      "\u001b[1;32m~\\AppData\\Roaming\\Python\\Python38\\site-packages\\openmdao\\solvers\\solver.py\u001b[0m in \u001b[0;36m_gs_iter\u001b[1;34m(self)\u001b[0m\n\u001b[0;32m    762\u001b[0m             \u001b[1;32mif\u001b[0m \u001b[0msubsys\u001b[0m\u001b[1;33m.\u001b[0m\u001b[0m_is_local\u001b[0m\u001b[1;33m:\u001b[0m\u001b[1;33m\u001b[0m\u001b[1;33m\u001b[0m\u001b[0m\n\u001b[0;32m    763\u001b[0m                 \u001b[1;32mtry\u001b[0m\u001b[1;33m:\u001b[0m\u001b[1;33m\u001b[0m\u001b[1;33m\u001b[0m\u001b[0m\n\u001b[1;32m--> 764\u001b[1;33m                     \u001b[0msubsys\u001b[0m\u001b[1;33m.\u001b[0m\u001b[0m_solve_nonlinear\u001b[0m\u001b[1;33m(\u001b[0m\u001b[1;33m)\u001b[0m\u001b[1;33m\u001b[0m\u001b[1;33m\u001b[0m\u001b[0m\n\u001b[0m\u001b[0;32m    765\u001b[0m                 \u001b[1;32mexcept\u001b[0m \u001b[0mAnalysisError\u001b[0m \u001b[1;32mas\u001b[0m \u001b[0merr\u001b[0m\u001b[1;33m:\u001b[0m\u001b[1;33m\u001b[0m\u001b[1;33m\u001b[0m\u001b[0m\n\u001b[0;32m    766\u001b[0m                     \u001b[1;32mif\u001b[0m \u001b[1;34m'reraise_child_analysiserror'\u001b[0m \u001b[1;32mnot\u001b[0m \u001b[1;32min\u001b[0m \u001b[0mself\u001b[0m\u001b[1;33m.\u001b[0m\u001b[0moptions\u001b[0m \u001b[1;32mor\u001b[0m\u001b[0;31m \u001b[0m\u001b[0;31m\\\u001b[0m\u001b[1;33m\u001b[0m\u001b[1;33m\u001b[0m\u001b[0m\n",
      "\u001b[1;32m~\\AppData\\Roaming\\Python\\Python38\\site-packages\\openmdao\\core\\explicitcomponent.py\u001b[0m in \u001b[0;36m_solve_nonlinear\u001b[1;34m(self)\u001b[0m\n\u001b[0;32m    271\u001b[0m                                      self._discrete_outputs)\n\u001b[0;32m    272\u001b[0m                     \u001b[1;32melse\u001b[0m\u001b[1;33m:\u001b[0m\u001b[1;33m\u001b[0m\u001b[1;33m\u001b[0m\u001b[0m\n\u001b[1;32m--> 273\u001b[1;33m                         \u001b[0mself\u001b[0m\u001b[1;33m.\u001b[0m\u001b[0mcompute\u001b[0m\u001b[1;33m(\u001b[0m\u001b[0mself\u001b[0m\u001b[1;33m.\u001b[0m\u001b[0m_inputs\u001b[0m\u001b[1;33m,\u001b[0m \u001b[0mself\u001b[0m\u001b[1;33m.\u001b[0m\u001b[0m_outputs\u001b[0m\u001b[1;33m)\u001b[0m\u001b[1;33m\u001b[0m\u001b[1;33m\u001b[0m\u001b[0m\n\u001b[0m\u001b[0;32m    274\u001b[0m \u001b[1;33m\u001b[0m\u001b[0m\n\u001b[0;32m    275\u001b[0m             \u001b[1;31m# Iteration counter is incremented in the Recording context manager at exit.\u001b[0m\u001b[1;33m\u001b[0m\u001b[1;33m\u001b[0m\u001b[1;33m\u001b[0m\u001b[0m\n",
      "\u001b[1;32mc:\\users\\lucas\\anaconda3\\lib\\site-packages\\fastga\\models\\aerodynamics\\external\\xfoil\\xfoil_polar.py\u001b[0m in \u001b[0;36mcompute\u001b[1;34m(self, inputs, outputs)\u001b[0m\n\u001b[0;32m    215\u001b[0m                                                                                  \u001b[1;33m-\u001b[0m\u001b[1;36m1\u001b[0m \u001b[1;33m*\u001b[0m \u001b[0mself\u001b[0m\u001b[1;33m.\u001b[0m\u001b[0moptions\u001b[0m\u001b[1;33m[\u001b[0m\u001b[0mOPTION_ALPHA_END\u001b[0m\u001b[1;33m]\u001b[0m\u001b[1;33m,\u001b[0m\u001b[1;33m\u001b[0m\u001b[1;33m\u001b[0m\u001b[0m\n\u001b[0;32m    216\u001b[0m                     -ALPHA_STEP)\n\u001b[1;32m--> 217\u001b[1;33m                 \u001b[0msuper\u001b[0m\u001b[1;33m(\u001b[0m\u001b[1;33m)\u001b[0m\u001b[1;33m.\u001b[0m\u001b[0mcompute\u001b[0m\u001b[1;33m(\u001b[0m\u001b[0minputs\u001b[0m\u001b[1;33m,\u001b[0m \u001b[0moutputs\u001b[0m\u001b[1;33m)\u001b[0m\u001b[1;33m\u001b[0m\u001b[1;33m\u001b[0m\u001b[0m\n\u001b[0m\u001b[0;32m    218\u001b[0m                 \u001b[0mresult_array_n\u001b[0m \u001b[1;33m=\u001b[0m \u001b[0mself\u001b[0m\u001b[1;33m.\u001b[0m\u001b[0m_read_polar\u001b[0m\u001b[1;33m(\u001b[0m\u001b[0mtmp_result_file_path\u001b[0m\u001b[1;33m)\u001b[0m\u001b[1;33m\u001b[0m\u001b[1;33m\u001b[0m\u001b[0m\n\u001b[0;32m    219\u001b[0m             \u001b[1;32melse\u001b[0m\u001b[1;33m:\u001b[0m\u001b[1;33m\u001b[0m\u001b[1;33m\u001b[0m\u001b[0m\n",
      "\u001b[1;32m~\\AppData\\Roaming\\Python\\Python38\\site-packages\\openmdao\\components\\external_code_comp.py\u001b[0m in \u001b[0;36mcompute\u001b[1;34m(self, inputs, outputs)\u001b[0m\n\u001b[0;32m    307\u001b[0m             \u001b[0mUnscaled\u001b[0m\u001b[1;33m,\u001b[0m \u001b[0mdimensional\u001b[0m \u001b[0moutput\u001b[0m \u001b[0mvariables\u001b[0m \u001b[0mread\u001b[0m \u001b[0mvia\u001b[0m \u001b[0moutputs\u001b[0m\u001b[1;33m[\u001b[0m\u001b[0mkey\u001b[0m\u001b[1;33m]\u001b[0m\u001b[1;33m.\u001b[0m\u001b[1;33m\u001b[0m\u001b[1;33m\u001b[0m\u001b[0m\n\u001b[0;32m    308\u001b[0m         \"\"\"\n\u001b[1;32m--> 309\u001b[1;33m         \u001b[0mself\u001b[0m\u001b[1;33m.\u001b[0m\u001b[0m_external_code_runner\u001b[0m\u001b[1;33m.\u001b[0m\u001b[0mrun_component\u001b[0m\u001b[1;33m(\u001b[0m\u001b[1;33m)\u001b[0m\u001b[1;33m\u001b[0m\u001b[1;33m\u001b[0m\u001b[0m\n\u001b[0m\u001b[0;32m    310\u001b[0m \u001b[1;33m\u001b[0m\u001b[0m\n\u001b[0;32m    311\u001b[0m \u001b[1;33m\u001b[0m\u001b[0m\n",
      "\u001b[1;32m~\\AppData\\Roaming\\Python\\Python38\\site-packages\\openmdao\\components\\external_code_comp.py\u001b[0m in \u001b[0;36mrun_component\u001b[1;34m(self, command)\u001b[0m\n\u001b[0;32m    147\u001b[0m                 raise err_class(\"The following input files are missing: %s\"\n\u001b[0;32m    148\u001b[0m                                 % sorted(missing))\n\u001b[1;32m--> 149\u001b[1;33m             \u001b[0mreturn_code\u001b[0m\u001b[1;33m,\u001b[0m \u001b[0merror_msg\u001b[0m \u001b[1;33m=\u001b[0m \u001b[0mself\u001b[0m\u001b[1;33m.\u001b[0m\u001b[0m_execute_local\u001b[0m\u001b[1;33m(\u001b[0m\u001b[0mcommand\u001b[0m\u001b[1;33m)\u001b[0m\u001b[1;33m\u001b[0m\u001b[1;33m\u001b[0m\u001b[0m\n\u001b[0m\u001b[0;32m    150\u001b[0m \u001b[1;33m\u001b[0m\u001b[0m\n\u001b[0;32m    151\u001b[0m             \u001b[1;32mif\u001b[0m \u001b[0mreturn_code\u001b[0m \u001b[1;32mis\u001b[0m \u001b[1;32mNone\u001b[0m\u001b[1;33m:\u001b[0m\u001b[1;33m\u001b[0m\u001b[1;33m\u001b[0m\u001b[0m\n",
      "\u001b[1;32m~\\AppData\\Roaming\\Python\\Python38\\site-packages\\openmdao\\components\\external_code_comp.py\u001b[0m in \u001b[0;36m_execute_local\u001b[1;34m(self, command)\u001b[0m\n\u001b[0;32m    225\u001b[0m         \u001b[1;32mtry\u001b[0m\u001b[1;33m:\u001b[0m\u001b[1;33m\u001b[0m\u001b[1;33m\u001b[0m\u001b[0m\n\u001b[0;32m    226\u001b[0m             \u001b[0mreturn_code\u001b[0m\u001b[1;33m,\u001b[0m \u001b[0merror_msg\u001b[0m \u001b[1;33m=\u001b[0m\u001b[0;31m \u001b[0m\u001b[0;31m\\\u001b[0m\u001b[1;33m\u001b[0m\u001b[1;33m\u001b[0m\u001b[0m\n\u001b[1;32m--> 227\u001b[1;33m                 \u001b[0mcomp\u001b[0m\u001b[1;33m.\u001b[0m\u001b[0m_process\u001b[0m\u001b[1;33m.\u001b[0m\u001b[0mwait\u001b[0m\u001b[1;33m(\u001b[0m\u001b[0mcomp\u001b[0m\u001b[1;33m.\u001b[0m\u001b[0moptions\u001b[0m\u001b[1;33m[\u001b[0m\u001b[1;34m'poll_delay'\u001b[0m\u001b[1;33m]\u001b[0m\u001b[1;33m,\u001b[0m \u001b[0mcomp\u001b[0m\u001b[1;33m.\u001b[0m\u001b[0moptions\u001b[0m\u001b[1;33m[\u001b[0m\u001b[1;34m'timeout'\u001b[0m\u001b[1;33m]\u001b[0m\u001b[1;33m)\u001b[0m\u001b[1;33m\u001b[0m\u001b[1;33m\u001b[0m\u001b[0m\n\u001b[0m\u001b[0;32m    228\u001b[0m         \u001b[1;32mfinally\u001b[0m\u001b[1;33m:\u001b[0m\u001b[1;33m\u001b[0m\u001b[1;33m\u001b[0m\u001b[0m\n\u001b[0;32m    229\u001b[0m             \u001b[0mcomp\u001b[0m\u001b[1;33m.\u001b[0m\u001b[0m_process\u001b[0m\u001b[1;33m.\u001b[0m\u001b[0mclose_files\u001b[0m\u001b[1;33m(\u001b[0m\u001b[1;33m)\u001b[0m\u001b[1;33m\u001b[0m\u001b[1;33m\u001b[0m\u001b[0m\n",
      "\u001b[1;32m~\\AppData\\Roaming\\Python\\Python38\\site-packages\\openmdao\\utils\\shell_proc.py\u001b[0m in \u001b[0;36mwait\u001b[1;34m(self, poll_delay, timeout)\u001b[0m\n\u001b[0;32m    226\u001b[0m                     \u001b[0mself\u001b[0m\u001b[1;33m.\u001b[0m\u001b[0mterminate\u001b[0m\u001b[1;33m(\u001b[0m\u001b[1;33m)\u001b[0m\u001b[1;33m\u001b[0m\u001b[1;33m\u001b[0m\u001b[0m\n\u001b[0;32m    227\u001b[0m                     \u001b[1;32mbreak\u001b[0m\u001b[1;33m\u001b[0m\u001b[1;33m\u001b[0m\u001b[0m\n\u001b[1;32m--> 228\u001b[1;33m                 \u001b[0mtime\u001b[0m\u001b[1;33m.\u001b[0m\u001b[0msleep\u001b[0m\u001b[1;33m(\u001b[0m\u001b[0mpoll_delay\u001b[0m\u001b[1;33m)\u001b[0m\u001b[1;33m\u001b[0m\u001b[1;33m\u001b[0m\u001b[0m\n\u001b[0m\u001b[0;32m    229\u001b[0m                 \u001b[0mreturn_code\u001b[0m \u001b[1;33m=\u001b[0m \u001b[0mself\u001b[0m\u001b[1;33m.\u001b[0m\u001b[0mpoll\u001b[0m\u001b[1;33m(\u001b[0m\u001b[1;33m)\u001b[0m\u001b[1;33m\u001b[0m\u001b[1;33m\u001b[0m\u001b[0m\n\u001b[0;32m    230\u001b[0m         \u001b[1;32mfinally\u001b[0m\u001b[1;33m:\u001b[0m\u001b[1;33m\u001b[0m\u001b[1;33m\u001b[0m\u001b[0m\n",
      "\u001b[1;31mKeyboardInterrupt\u001b[0m: "
     ]
    }
   ],
   "source": [
    "for reynolds in reynolds_array_orig:\n",
    "    inputs_dict = {\"data:TLAR:v_approach\": (v_approach, \"kn\"),\n",
    "                   \"data:Xfoil_pre_processing:reynolds\": (reynolds, None)}\n",
    "    \n",
    "    outputs_dict = compute_xfoil(inputs_dict)\n",
    "    \n",
    "mach_run = float(np.round(outputs_dict[\"pre_xfoil_polar.xfoil:mach\"][0], 4))"
   ]
  },
  {
   "cell_type": "markdown",
   "metadata": {},
   "source": [
    "A first preliminary check would be to see the results of the last run, which is what is done below"
   ]
  },
  {
   "cell_type": "code",
   "execution_count": null,
   "metadata": {},
   "outputs": [],
   "source": [
    "alpha_vector = outputs_dict[\"pre_xfoil_polar.xfoil:alpha\"][0]\n",
    "cl_vector = outputs_dict[\"pre_xfoil_polar.xfoil:CL\"][0]\n",
    "reynolds = inputs_dict[\"data:Xfoil_pre_processing:reynolds\"][0]\n",
    "\n",
    "alpha, cl = delete_additional_zeros(np.array(alpha_vector), np.array(cl_vector))\n",
    "\n",
    "plt.figure(1, figsize=(9,6), dpi= 100)\n",
    "plt.plot(alpha, cl, label=\"Re =\" + str(reynolds))\n",
    "plt.xlabel(\"Angle of Attack [°]\")\n",
    "plt.ylabel(\"Lift coefficient [-]\")\n",
    "plt.title(\"Results of the last simulation of the run\")\n",
    "plt.legend()\n",
    "plt.show()"
   ]
  },
  {
   "cell_type": "markdown",
   "metadata": {},
   "source": [
    "Here starts the post treatment of the values we obtained. Since we want to able able to simply add new values for different mach number, we must first find where are the results of this run so we can leave the rest untouched since it was already treated. We also can't simply treat the output of the block analysis since, pending an unconverged run on the negative AoA, the results won't be written in the csv and so errors can occur."
   ]
  },
  {
   "cell_type": "code",
   "execution_count": null,
   "metadata": {},
   "outputs": [],
   "source": [
    "# First, we open the .csv file containing the results of all the run\n",
    "data_saved = pd.read_csv(file_path)\n",
    "values = data_saved.to_numpy()[:, 1:len(data_saved.to_numpy()[0])]\n",
    "\n",
    "# We then identifies to which index correspond to the current run, this is done by searching the appropriate \n",
    "# Mach number\n",
    "mach_array = values[0].astype(np.float)\n",
    "index_run_orig = np.where(mach_array == mach_run)[0]\n",
    "# print(index_run_orig)\n",
    "\n",
    "# Since we have the index corresponding to the current run, we can extract the results and prepare them for \n",
    "# post-treatment.\n",
    "reynolds_array_orig = values[1].astype(np.float)[index_run_orig]\n",
    "cl_max_array_orig = values[2].astype(np.float)[index_run_orig]\n",
    "# print(reynolds_array_orig)\n",
    "# print(cl_max_array_orig)\n",
    "# plt.plot(reynolds_array_orig, cl_max_array_orig)\n",
    "\n",
    "# At this point we have all the results of the current run, but nothing assures us that they are in the \n",
    "# right order for us to check the valdity of the results.\n",
    "reynolds_array, cl_max_array = rearrange_data(reynolds_array_orig, cl_max_array_orig)\n",
    "_, index_run = rearrange_data(reynolds_array_orig, index_run_orig)\n",
    "index_run = index_run.astype(np.int)\n",
    "plt.figure(2, figsize=(9,6), dpi= 100)\n",
    "plt.plot(reynolds_array, cl_max_array)\n",
    "plt.xlabel(\"Reynolds number [-]\")\n",
    "plt.ylabel(\"Maximum lift coefficient [-]\")\n",
    "plt.title(\"Raw results of the run\")\n",
    "plt.show()\n",
    "# print(reynolds_array)\n",
    "# print(cl_max_array)\n",
    "# print(index_run)\n",
    "\n",
    "# With this we are assured that the reynolds number are sorted so we can check the validity of the results \n",
    "# and we also kept track of which reynolds corresponds to which index in the original values array so we can \n",
    "# drop them later"
   ]
  },
  {
   "cell_type": "markdown",
   "metadata": {},
   "source": [
    "Now comes the treatment of the data,, we are going to make the assumption that the maximum lift coefficient grows with the Reynolds number. Based on this we need to check that for every Reynolds, the maximum lift coefficient is greater than for **all** the previous Reynolds number"
   ]
  },
  {
   "cell_type": "code",
   "execution_count": null,
   "metadata": {},
   "outputs": [],
   "source": [
    "bad_cl_list = []\n",
    "bad_cl_reynolds_list = []\n",
    "not_viable_list = []\n",
    "\n",
    "viable_cl_list = []\n",
    "viable_cl_reynolds_list = []\n",
    "viable_list = []\n",
    "\n",
    "for reynolds in reynolds_array:\n",
    "    # Since the Reynolds number are sorted we can simply do the following to indetify the \"bad\" results.\n",
    "    # We miust recall however that this index doesn't correspond to the index in the full file hence the \n",
    "    # the list that stocks the bad index\n",
    "    i = int(np.where(reynolds_array == reynolds)[0])\n",
    "    not_viable = np.any(cl_max_array[i]<=cl_max_array[:i])\n",
    "    if not_viable:\n",
    "        bad_cl_list.append(cl_max_array[i])\n",
    "        bad_cl_reynolds_list.append(reynolds_array[i])\n",
    "        not_viable_list.append(index_run[i])\n",
    "    else:\n",
    "        viable_cl_list.append(cl_max_array[i])\n",
    "        viable_cl_reynolds_list.append(reynolds_array[i])\n",
    "        viable_list.append(index_run[i])\n",
    "\n",
    "# We can now plot the Reynolds number that we will delete from the list ...\n",
    "plt.figure(2, figsize=(9,6), dpi= 100)\n",
    "plt.plot(reynolds_array, cl_max_array, label=\"Raw results\")\n",
    "plt.plot(bad_cl_reynolds_list, bad_cl_list, marker='o',color='r',linestyle='', label=\"Not viable results\")\n",
    "\n",
    "bad_cl_array = np.array(bad_cl_list)\n",
    "bad_cl_reynolds_array = np.array(bad_cl_reynolds_list)\n",
    "\n",
    "# print(viable_list)\n",
    "# print(not_viable_list)\n",
    "# print('\\n Bad Reynolds')\n",
    "# print(bad_cl_reynolds_array)\n",
    "\n",
    "# And what will remain in the final file\n",
    "viable_reynolds_array = np.array(viable_cl_reynolds_list)\n",
    "viable_cl_max_array = np.array(viable_cl_list)\n",
    "\n",
    "plt.plot(viable_reynolds_array, viable_cl_max_array, label=\"Results to save\")\n",
    "plt.xlabel(\"Reynolds number [-]\")\n",
    "plt.ylabel(\"Maximum lift coefficient [-]\")\n",
    "plt.title(\"Identification of the bad simulation\")\n",
    "plt.legend()\n",
    "plt.show()"
   ]
  },
  {
   "cell_type": "markdown",
   "metadata": {},
   "source": [
    "In this next part of the code, we will delete the bad Reynolds number starting by the highest one. This is done so that we don't have to modify the index that were used to spot bad simulations. Indeed if we started from the lowest reynolds, we would have had to reduce those index by one each time we deleted a colum"
   ]
  },
  {
   "cell_type": "code",
   "execution_count": null,
   "metadata": {},
   "outputs": [],
   "source": [
    "not_viable_list.reverse()\n",
    "print(not_viable_list)\n",
    "for i in not_viable_list:\n",
    "    values = np.delete(values, i, axis=1)"
   ]
  },
  {
   "cell_type": "markdown",
   "metadata": {},
   "source": [
    "We do a final check of the data we are going to save before writing it in the result file"
   ]
  },
  {
   "cell_type": "code",
   "execution_count": null,
   "metadata": {},
   "outputs": [],
   "source": [
    "# Final check, we plot the processed data and the raw data to ensure that we did not delete \n",
    "# any point we didn't want to delete\n",
    "plt.figure(3, figsize=(9,6), dpi= 100)\n",
    "plt.plot(viable_cl_reynolds_list, viable_cl_list, label=\"Saved points\")\n",
    "\n",
    "data_saved = pd.read_csv(file_path)\n",
    "values_untouched = data_saved.to_numpy()[:, 1:len(data_saved.to_numpy()[0])]\n",
    "\n",
    "reynolds_array_untouched = np.array(values_untouched[1]).astype(np.float)[index_run_orig]\n",
    "cl_max_array_untouched = np.array(values_untouched[2]).astype(np.float)[index_run_orig]\n",
    "plt.plot(reynolds_array_untouched, cl_max_array_untouched, marker='o',color='r',linestyle='', label=\"Untouched data from the result file\")\n",
    "plt.xlabel(\"Reynolds number [-]\")\n",
    "plt.ylabel(\"Maximum lift coefficient [-]\")\n",
    "plt.title(\"Final check\")\n",
    "plt.legend()\n",
    "plt.show()"
   ]
  },
  {
   "cell_type": "markdown",
   "metadata": {},
   "source": [
    "Here we save the final results in the resources files of the fastga library in site-package and we also put a copy of it in the results folder that we created earlier so that it can easily be found to be copied anywhere we might need it."
   ]
  },
  {
   "cell_type": "code",
   "execution_count": null,
   "metadata": {},
   "outputs": [],
   "source": [
    "labels = [\"mach\", \"reynolds\", \"cl_max_2d\", \"cl_min_2d\", \"alpha\", \"cl\", \"cd\", \"cdp\", \"cm\"]\n",
    "cleansed_pd = pd.DataFrame(data=values, index=labels)\n",
    "\n",
    "if not symmetrical_tag:\n",
    "    result_file_path = pth.join(RESULT_FOLDER_PATH, airfoil_file_name.replace('.af', '_cleansed.csv'))\n",
    "else:\n",
    "    result_file_path = pth.join(RESULT_FOLDER_PATH, airfoil_file_name.replace('.af', '_sym_cleansed.csv'))\n",
    "\n",
    "if os.path.exists(file_path):\n",
    "    os.remove(file_path)\n",
    "    \n",
    "cleansed_pd.to_csv(file_path)\n",
    "if os.path.exists(result_file_path):\n",
    "    os.remove(result_file_path)\n",
    "    \n",
    "shutil.copy(file_path, result_file_path)"
   ]
  },
  {
   "cell_type": "code",
   "execution_count": null,
   "metadata": {},
   "outputs": [],
   "source": []
  }
 ],
 "metadata": {
  "kernelspec": {
   "display_name": "Python 3",
   "language": "python",
   "name": "python3"
  },
  "language_info": {
   "codemirror_mode": {
    "name": "ipython",
    "version": 3
   },
   "file_extension": ".py",
   "mimetype": "text/x-python",
   "name": "python",
   "nbconvert_exporter": "python",
   "pygments_lexer": "ipython3",
   "version": "3.8.5"
  }
 },
 "nbformat": 4,
 "nbformat_minor": 4
}
