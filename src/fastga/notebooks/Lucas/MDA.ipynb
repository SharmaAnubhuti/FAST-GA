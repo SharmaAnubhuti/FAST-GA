{
 "cells": [
  {
   "cell_type": "markdown",
   "metadata": {},
   "source": [
    "<div class=\"row\">\n",
    "  <div class=\"column\">\n",
    "    <img src=\"./img/logo-onera.png\" width=\"200\">\n",
    "  </div>\n",
    "  <div class=\"column\">\n",
    "    <img src=\"./img/logo-ISAE_SUPAERO.png\" width=\"200\">\n",
    "  </div>\n",
    "</div>"
   ]
  },
  {
   "cell_type": "markdown",
   "metadata": {},
   "source": [
    "# FAST-OAD-GA MDA"
   ]
  },
  {
   "cell_type": "markdown",
   "metadata": {},
   "source": [
    "FAST-OAD-GA is an add-on package for [FAST-OAD framework](https://github.com/fast-aircraft-design/FAST-OAD) for performing rapid Overall Aircraft Design in the category General Aviation (GA). The computational core of FAST-OAD being based on the  [OpenMDAO framework](https://openmdao.org/)."
   ]
  },
  {
   "cell_type": "markdown",
   "metadata": {},
   "source": [
    "## 1. Setting up and analyzing the initial problem"
   ]
  },
  {
   "cell_type": "markdown",
   "metadata": {},
   "source": [
    "To organize our work, we propose to use two user folders `data/` and `workdir/`. For instance, in `data/` we store a XML file which describes the Beechcraft Duchess. In `workdir/`, we store files generated or modified by FAST-OAD."
   ]
  },
  {
   "cell_type": "code",
   "execution_count": 1,
   "metadata": {},
   "outputs": [
    {
     "name": "stdout",
     "output_type": "stream",
     "text": [
      "Unable to import mpi4py. Parallel processing unavailable.\n",
      "Unable to import petsc4py. Parallel processing unavailable.\n",
      "Unable to import petsc4py. Parallel processing unavailable.\n"
     ]
    },
    {
     "data": {
      "text/html": [
       "<style>.container { width:95% !important; }</style>"
      ],
      "text/plain": [
       "<IPython.core.display.HTML object>"
      ]
     },
     "metadata": {},
     "output_type": "display_data"
    }
   ],
   "source": [
    "import os.path as pth\n",
    "import os\n",
    "import openmdao.api as om\n",
    "from fastoad import api as api_cs25\n",
    "from fastga import api as api_cs23\n",
    "import logging\n",
    "from fastoad.utils.postprocessing import VariableViewer\n",
    "import shutil\n",
    "\n",
    "# Define relative path\n",
    "DATA_FOLDER_PATH = 'data'\n",
    "WORK_FOLDER_PATH = 'workdir'\n",
    "OUTPUT_FOLDER_PATH = 'output'\n",
    "\n",
    "# Clear work folder\n",
    "shutil.rmtree(WORK_FOLDER_PATH, ignore_errors=True)\n",
    "os.mkdir(WORK_FOLDER_PATH)\n",
    "\n",
    "# Define files\n",
    "CONFIGURATION_FILE = pth.join(WORK_FOLDER_PATH, 'MDA.toml')\n",
    "SOURCE_FILE = pth.join(DATA_FOLDER_PATH, 'beechcraft_76.xml')\n",
    "\n",
    "# For having log messages on screen\n",
    "logging.basicConfig(level=logging.INFO, format='%(levelname)-8s: %(message)s')\n",
    "\n",
    "# For using all screen width\n",
    "from IPython.core.display import display, HTML\n",
    "display(HTML(\"<style>.container { width:95% !important; }</style>\"))"
   ]
  },
  {
   "cell_type": "markdown",
   "metadata": {},
   "source": [
    "After defining a configuration file name, we can ask FAST-GA to generate a default configuration file based on the default OAD model implemented in the framework:"
   ]
  },
  {
   "cell_type": "code",
   "execution_count": 2,
   "metadata": {},
   "outputs": [
    {
     "name": "stderr",
     "output_type": "stream",
     "text": [
      "INFO    : Sample configuration written in workdir\\MDA.toml\n"
     ]
    }
   ],
   "source": [
    "api_cs23.generate_configuration_file(CONFIGURATION_FILE, overwrite=True)"
   ]
  },
  {
   "cell_type": "markdown",
   "metadata": {},
   "source": [
    "You can now checkout the generated [configuration file](./workdir/MDA.toml). In this configuration file, we have specified an input file name 'problem_inputs.xml'. We can ask FAST-OAD to generate the inputs of the default model with the CeRAS parameters as default values:"
   ]
  },
  {
   "cell_type": "code",
   "execution_count": 3,
   "metadata": {
    "scrolled": true
   },
   "outputs": [
    {
     "name": "stderr",
     "output_type": "stream",
     "text": [
      "INFO    : Loading bundles from c:/users/lucas/anaconda3/lib/site-packages/fastga\n",
      "ERROR   : Cannot register factory 'test.wrapper.aerodynamics.beechcraft.dummy_engine' of bundle 81 (fastga.models.aerodynamics.tests.test_slipstream_x57): 'test.wrapper.aerodynamics.beechcraft.dummy_engine' factory already exist\n",
      "ERROR   : class: <class 'fastga.models.aerodynamics.tests.test_slipstream_x57.DummyEngineWrapper'> -- module: fastga.models.aerodynamics.tests.test_slipstream_x57\n",
      "WARNING : Error visiting fastga.models.geometry.tests.test_beechcraft_76: Error installing bundle fastga.models.geometry.tests.test_beechcraft_76: cannot import name 'ComputeMFW' from 'fastga.models.geometry.geom_components.wing.components' (c:\\users\\lucas\\anaconda3\\lib\\site-packages\\fastga\\models\\geometry\\geom_components\\wing\\components\\__init__.py)\n",
      "WARNING : Error visiting fastga.models.geometry.tests.test_cirrus_sr22: Error installing bundle fastga.models.geometry.tests.test_cirrus_sr22: cannot import name 'ComputeMFW' from 'fastga.models.geometry.geom_components.wing.components' (c:\\users\\lucas\\anaconda3\\lib\\site-packages\\fastga\\models\\geometry\\geom_components\\wing\\components\\__init__.py)\n",
      "ERROR   : Cannot register factory 'test.wrapper.performances.cirrus.dummy_engine' of bundle 164 (fastga.models.load_analysis.tests.test_maxwell_x57): 'test.wrapper.performances.cirrus.dummy_engine' factory already exist\n",
      "ERROR   : class: <class 'fastga.models.load_analysis.tests.test_maxwell_x57.DummyEngineWrapper'> -- module: fastga.models.load_analysis.tests.test_maxwell_x57\n",
      "ERROR   : Cannot register factory 'test.wrapper.performances.beechcraft.dummy_engine' of bundle 183 (fastga.models.performances.tests.test_beechcraft_76): 'test.wrapper.performances.beechcraft.dummy_engine' factory already exist\n",
      "ERROR   : class: <class 'fastga.models.performances.tests.test_beechcraft_76.DummyEngineWrapper'> -- module: fastga.models.performances.tests.test_beechcraft_76\n",
      "ERROR   : Cannot register factory 'test.wrapper.performances.cirrus.dummy_engine' of bundle 185 (fastga.models.performances.tests.test_cirrus_sr22): 'test.wrapper.performances.cirrus.dummy_engine' factory already exist\n",
      "ERROR   : class: <class 'fastga.models.performances.tests.test_cirrus_sr22.DummyEngineWrapper'> -- module: fastga.models.performances.tests.test_cirrus_sr22\n",
      "WARNING : Error visiting fastga.models.propulsion.fuel_propulsion.basicIC_engine.basicIC_engineOM: Error installing bundle fastga.models.propulsion.fuel_propulsion.basicIC_engine.basicIC_engineOM: No module named 'pyfmi'\n",
      "ERROR   : Cannot register factory 'test.wrapper.cg.beechcraft.dummy_engine' of bundle 232 (fastga.models.weight.cg.tests.test_cirrus_sr22): 'test.wrapper.cg.beechcraft.dummy_engine' factory already exist\n",
      "ERROR   : class: <class 'fastga.models.weight.cg.tests.test_cirrus_sr22.DummyEngineWrapper'> -- module: fastga.models.weight.cg.tests.test_cirrus_sr22\n",
      "INFO    : Installed bundle fastga.models.geometry.tests (ID 127 )\n",
      "INFO    : Installed bundle fastga.models.handling_qualities.tests.test_beechcraft_76 (ID 139 )\n",
      "ERROR   : Cannot register factory 'test.wrapper.handling_qualities.beechcraft.dummy_engine' of bundle 139 (fastga.models.handling_qualities.tests.test_beechcraft_76): 'test.wrapper.handling_qualities.beechcraft.dummy_engine' factory already exist\n",
      "ERROR   : class: <class 'fastga.models.handling_qualities.tests.test_beechcraft_76.DummyEngineWrapper'> -- module: fastga.models.handling_qualities.tests.test_beechcraft_76\n",
      "INFO    : Installed bundle fastga.models.load_analysis.tests.test_cirrus_sr22 (ID 163 )\n",
      "ERROR   : Cannot register factory 'test.wrapper.performances.cirrus.dummy_engine' of bundle 163 (fastga.models.load_analysis.tests.test_cirrus_sr22): 'test.wrapper.performances.cirrus.dummy_engine' factory already exist\n",
      "ERROR   : class: <class 'fastga.models.load_analysis.tests.test_cirrus_sr22.DummyEngineWrapper'> -- module: fastga.models.load_analysis.tests.test_cirrus_sr22\n",
      "INFO    : Installed bundle fastga.models.modify_config.compute_fuselage_mod (ID 173 )\n",
      "INFO    : Installed bundle fastga.models.geometry.profiles.get_profile (ID 125 )\n",
      "INFO    : Installed bundle fastga.models.load_analysis.structural_loads (ID 157 )\n",
      "INFO    : Installed bundle fastga.models.modify_config.compute_span (ID 174 )\n",
      "INFO    : Installed bundle fastga.models.propulsion.fuel_propulsion.basicIC_engine (ID 190 )\n",
      "INFO    : Installed bundle fastga.models.weight.cg.cg_components.a_airframe.a3_tail_cg (ID 209 )\n",
      "INFO    : Installed bundle fastga.models.weight.mass_breakdown.tests.test_cirrus_sr22 (ID 258 )\n",
      "ERROR   : Cannot register factory 'test.wrapper.mass_breakdown.cirrus.dummy_engine' of bundle 258 (fastga.models.weight.mass_breakdown.tests.test_cirrus_sr22): 'test.wrapper.mass_breakdown.cirrus.dummy_engine' factory already exist\n",
      "ERROR   : class: <class 'fastga.models.weight.mass_breakdown.tests.test_cirrus_sr22.DummyEngineWrapper'> -- module: fastga.models.weight.mass_breakdown.tests.test_cirrus_sr22\n",
      "INFO    : Installed bundle fastga.models.aerodynamics.tests.test_beechcraft_76 (ID 78 )\n",
      "ERROR   : Cannot register factory 'test.wrapper.aerodynamics.beechcraft.dummy_engine' of bundle 78 (fastga.models.aerodynamics.tests.test_beechcraft_76): 'test.wrapper.aerodynamics.beechcraft.dummy_engine' factory already exist\n",
      "ERROR   : class: <class 'fastga.models.aerodynamics.tests.test_beechcraft_76.DummyEngineWrapper'> -- module: fastga.models.aerodynamics.tests.test_beechcraft_76\n",
      "INFO    : Installed bundle fastga.models.geometry.profiles.profile (ID 126 )\n",
      "INFO    : Installed bundle fastga.models.modify_config.update_XML (ID 175 )\n",
      "INFO    : Installed bundle fastga.models.weight (ID 202 )\n",
      "INFO    : Installed bundle fastga.models.weight.cg.cg_components.a_airframe.a4_flight_control_cg (ID 210 )\n",
      "INFO    : Installed bundle fastga.models.weight.mass_breakdown.update_mlw_and_mzfw (ID 259 )\n",
      "INFO    : Installed bundle fastga.models.aerodynamics.external.openvsp.compute_vn (ID 59 )\n",
      "INFO    : Installed bundle fastga.models.propulsion.fuel_propulsion.basicIC_engine.basicIC_engine (ID 191 )\n",
      "INFO    : Installed bundle fastga.models.weight.cg.cg_components.a_airframe.a5_landing_gear_cg (ID 211 )\n",
      "INFO    : Installed bundle fastga.models.aerodynamics.tests.test_cirrus_sr22 (ID 80 )\n",
      "ERROR   : Cannot register factory 'test.wrapper.aerodynamics.cirrus.dummy_engine' of bundle 80 (fastga.models.aerodynamics.tests.test_cirrus_sr22): 'test.wrapper.aerodynamics.cirrus.dummy_engine' factory already exist\n",
      "ERROR   : class: <class 'fastga.models.aerodynamics.tests.test_cirrus_sr22.DummyEngineWrapper'> -- module: fastga.models.aerodynamics.tests.test_cirrus_sr22\n",
      "INFO    : Installed bundle fastga.models.propulsion.fuel_propulsion.basicIC_engine.openmdao (ID 193 )\n",
      "INFO    : Installed bundle fastga.models.weight.cg.cg_components.b_propulsion (ID 212 )\n",
      "INFO    : Installed bundle fastga.models.weight.mass_breakdown.update_mtow (ID 260 )\n",
      "INFO    : Installed bundle fastga.command (ID 25 )\n",
      "INFO    : Installed bundle fastga.models.aerodynamics.external.openvsp.openvsp (ID 60 )\n",
      "INFO    : Installed bundle fastga.models.propulsion.fuel_propulsion.basicIC_engine.tests (ID 194 )\n",
      "INFO    : Installed bundle fastga.models.weight.cg.cg_components.c_systems (ID 216 )\n",
      "INFO    : Installed bundle fastga.notebooks.Lucas.data (ID 264 )\n",
      "INFO    : Installed bundle fastga.command.resources (ID 27 )\n",
      "INFO    : Installed bundle fastga.models.load_analysis.aerodynamic_loads_x57 (ID 144 )\n",
      "INFO    : Installed bundle fastga.models.propulsion.fuel_propulsion.basicIC_engine.tests.test_basicIC_engine (ID 195 )\n",
      "INFO    : Installed bundle fastga.notebooks.Lucas.img (ID 265 )\n",
      "INFO    : Installed bundle fastga.command.api (ID 26 )\n",
      "INFO    : Installed bundle fastga.models.aerodynamics.external.openvsp.openvsp3201 (ID 61 )\n",
      "INFO    : Installed bundle fastga.models.weight.cg.cg_components.b_propulsion.b1_engine_cg (ID 213 )\n",
      "INFO    : Installed bundle fastga.models.load_analysis.aerostructural_loads (ID 145 )\n",
      "INFO    : Installed bundle fastga.models.weight.cg.cg_components.b_propulsion.b2_fuel_lines_cg (ID 214 )\n",
      "INFO    : Installed bundle fastga.notebooks.tutorial.data (ID 267 )\n",
      "INFO    : Installed bundle fastga.models.aerodynamics.external.openvsp.resources (ID 62 )\n"
     ]
    },
    {
     "name": "stderr",
     "output_type": "stream",
     "text": [
      "INFO    : Installed bundle fastga.models.load_analysis.structural_loads_x57 (ID 158 )\n",
      "INFO    : Installed bundle fastga.models.propulsion.fuel_propulsion.basicIC_engine.tests.test_openmdao_engine (ID 196 )\n",
      "INFO    : Installed bundle fastga.notebooks.tutorial.img (ID 268 )\n",
      "INFO    : Installed bundle fastga.models (ID 28 )\n",
      "INFO    : Installed bundle fastga.models.aerodynamics.external.xfoil (ID 67 )\n",
      "INFO    : Installed bundle fastga.models.load_analysis.aerostructural_loads_x57 (ID 146 )\n",
      "INFO    : Installed bundle fastga.models.load_analysis.tests (ID 159 )\n",
      "INFO    : Installed bundle fastga.models.weight.cg.cg_components.b_propulsion.b3_tank_cg (ID 215 )\n",
      "INFO    : Installed bundle fastga.models.geometry (ID 83 )\n",
      "INFO    : Installed bundle fastga.models.handling_qualities.tests.test_cirrus_sr22 (ID 141 )\n",
      "ERROR   : Cannot register factory 'test.wrapper.handling_qualities.cirrus.dummy_engine' of bundle 141 (fastga.models.handling_qualities.tests.test_cirrus_sr22): 'test.wrapper.handling_qualities.cirrus.dummy_engine' factory already exist\n",
      "ERROR   : class: <class 'fastga.models.handling_qualities.tests.test_cirrus_sr22.DummyEngineWrapper'> -- module: fastga.models.handling_qualities.tests.test_cirrus_sr22\n",
      "INFO    : Installed bundle fastga.models.aerodynamics.external.vlm.compute_aero (ID 64 )\n",
      "INFO    : Installed bundle fastga.models.load_analysis.compute_wing_loading (ID 147 )\n",
      "INFO    : Installed bundle fastga.models.propulsion.fuel_propulsion.basicIC_engine.exceptions (ID 192 )\n",
      "INFO    : Installed bundle fastga.models.weight.cg.cg_components.c_systems.c1_power_systems_cg (ID 217 )\n",
      "INFO    : Installed bundle fastga.models.load_analysis.fuselage (ID 148 )\n",
      "INFO    : Installed bundle fastga.models.weight.cg.cg_components.c_systems.c2_life_support_systems_cg (ID 218 )\n",
      "INFO    : Installed bundle fastga.models.aerodynamics.external.vlm.compute_vn (ID 65 )\n",
      "INFO    : Installed bundle fastga.models.load_analysis.loads (ID 155 )\n",
      "INFO    : Installed bundle fastga.models.weight.cg.cg_components.c_systems.c3_navigation_systems_cg (ID 219 )\n",
      "INFO    : Installed bundle fastga.utils (ID 279 )\n",
      "INFO    : Installed bundle fastga (ID 24 )\n",
      "INFO    : Installed bundle fastga.models.aerodynamics (ID 29 )\n",
      "INFO    : Installed bundle fastga.models.aerodynamics.external.vlm.vlm (ID 66 )\n",
      "INFO    : Installed bundle fastga.models.load_analysis.tests.test_maxwell_x57 (ID 165 )\n",
      "ERROR   : Cannot register factory 'test.wrapper.performances.cirrus.dummy_engine' of bundle 165 (fastga.models.load_analysis.tests.test_maxwell_x57): 'test.wrapper.performances.cirrus.dummy_engine' factory already exist\n",
      "ERROR   : class: <class 'fastga.models.load_analysis.tests.test_maxwell_x57.DummyEngineWrapper'> -- module: fastga.models.load_analysis.tests.test_maxwell_x57\n",
      "INFO    : Installed bundle fastga.models.weight.cg.cg_components.d_furniture (ID 220 )\n",
      "INFO    : Installed bundle fastga.register (ID 269 )\n",
      "INFO    : Installed bundle fastga.tests.conftest (ID 271 )\n",
      "INFO    : Installed bundle fastga.models.aerodynamics.resources (ID 75 )\n",
      "INFO    : Installed bundle fastga.models.load_analysis.fuselage.compute_bending_moment (ID 149 )\n",
      "INFO    : Installed bundle fastga.models.weight.cg.cg_components.global_cg (ID 222 )\n",
      "INFO    : Installed bundle fastga.notebooks (ID 262 )\n",
      "INFO    : Installed bundle fastga.tests (ID 270 )\n",
      "INFO    : Installed bundle fastga.tests.integration_tests (ID 272 )\n",
      "INFO    : Installed bundle fastga.models.weight.cg.cg_components.d_furniture.d2_passenger_seats_cg (ID 221 )\n",
      "INFO    : Installed bundle fastga.models.aerodynamics.external.xfoil.resources (ID 68 )\n",
      "INFO    : Installed bundle fastga.models.geometry.geom_components (ID 84 )\n",
      "INFO    : Installed bundle fastga.models.loops (ID 166 )\n",
      "INFO    : Installed bundle fastga.models.weight.cg.cg_components.loadcase (ID 223 )\n",
      "INFO    : Installed bundle fastga.tests.integration_tests.oad_process (ID 273 )\n",
      "INFO    : Installed bundle fastga.models.aerodynamics.external.xfoil.tests (ID 69 )\n",
      "INFO    : Installed bundle fastga.models.aerodynamics.tests.test_slipstream_x57 (ID 82 )\n",
      "ERROR   : Cannot register factory 'test.wrapper.aerodynamics.beechcraft.dummy_engine' of bundle 82 (fastga.models.aerodynamics.tests.test_slipstream_x57): 'test.wrapper.aerodynamics.beechcraft.dummy_engine' factory already exist\n",
      "ERROR   : class: <class 'fastga.models.aerodynamics.tests.test_slipstream_x57.DummyEngineWrapper'> -- module: fastga.models.aerodynamics.tests.test_slipstream_x57\n",
      "INFO    : Installed bundle fastga.models.tests.xfoil_exe (ID 200 )\n",
      "INFO    : Installed bundle fastga.tests.testing_utilities (ID 276 )\n",
      "INFO    : Installed bundle fastga.models.geometry.geometry_fuselage (ID 122 )\n",
      "INFO    : Installed bundle fastga.models.options (ID 176 )\n",
      "INFO    : Installed bundle fastga.models.tests.testing_utilities (ID 199 )\n",
      "INFO    : Installed bundle fastga.models.weight.cg.cg_components.max_cg_ratio (ID 224 )\n",
      "INFO    : Installed bundle fastga.utils.postprocessing.analysis_and_plots (ID 285 )\n",
      "INFO    : Installed bundle fastga.models.aerodynamics.aero_center (ID 30 )\n",
      "INFO    : Installed bundle fastga.models.loops.update_wing_area (ID 169 )\n",
      "INFO    : Installed bundle fastga.models.weight.cg.cg_components.payload (ID 225 )\n",
      "INFO    : Installed bundle fastga.models.weight.mass_breakdown (ID 234 )\n",
      "INFO    : Installed bundle fastga.models.aerodynamics.aerodynamics (ID 31 )\n",
      "INFO    : Installed bundle fastga.models.geometry.geom_components.compute_mfw (ID 85 )\n",
      "INFO    : Installed bundle fastga.models.loops.tests (ID 167 )\n",
      "INFO    : Installed bundle fastga.models.weight.cg.cg_components.ratio_aft (ID 226 )\n",
      "INFO    : Installed bundle fastga.notebooks.tutorial (ID 266 )\n",
      "INFO    : Installed bundle fastga.tests.integration_tests.oad_process.test_oad_process_no_wing_positionning (ID 274 )\n",
      "INFO    : Installed bundle fastga.models.tests.xfoil_exe.get_xfoil (ID 201 )\n",
      "INFO    : Installed bundle fastga.models.aerodynamics.aerodynamics_high_speed (ID 32 )\n",
      "INFO    : Installed bundle fastga.models.geometry.geom_components.compute_total_area (ID 86 )\n",
      "INFO    : Installed bundle fastga.models.load_analysis.tests.test_beechcraft_76 (ID 161 )\n",
      "ERROR   : Cannot register factory 'test.wrapper.performances.beechcraft.dummy_engine' of bundle 161 (fastga.models.load_analysis.tests.test_beechcraft_76): 'test.wrapper.performances.beechcraft.dummy_engine' factory already exist\n",
      "ERROR   : class: <class 'fastga.models.load_analysis.tests.test_beechcraft_76.DummyEngineWrapper'> -- module: fastga.models.load_analysis.tests.test_beechcraft_76\n",
      "INFO    : Installed bundle fastga.models.weight.cg (ID 203 )\n",
      "INFO    : Installed bundle fastga.models.weight.cg.cg_components.update_mlg (ID 227 )\n",
      "INFO    : Installed bundle fastga.models.geometry.geom_components.fuselage (ID 87 )\n",
      "INFO    : Installed bundle fastga.models.load_analysis.fuselage.compute_bending_moment_bis (ID 150 )\n",
      "INFO    : Installed bundle fastga.models.loops.tests.test_wing_area (ID 168 )\n",
      "INFO    : Installed bundle fastga.models.weight.cg.tests (ID 229 )\n",
      "INFO    : Installed bundle fastga.notebooks.Lucas (ID 263 )\n",
      "INFO    : Installed bundle fastga.models.loops.update_wing_position (ID 170 )\n",
      "INFO    : Installed bundle fastga.models.aerodynamics.aerodynamics_low_speed (ID 33 )\n",
      "INFO    : Installed bundle fastga.models.aerodynamics.external.xfoil.tests.test_xfoil (ID 70 )\n",
      "INFO    : Installed bundle fastga.models.geometry.geom_components.ht (ID 89 )\n",
      "INFO    : Installed bundle fastga.models.load_analysis.fuselage.compute_fuselage_additional_mass (ID 151 )\n",
      "INFO    : Installed bundle fastga.models.weight.cg.cg (ID 204 )\n",
      "INFO    : Installed bundle fastga.models.weight.weight (ID 261 )\n",
      "INFO    : Installed bundle fastga.models.aerodynamics.components (ID 34 )\n",
      "INFO    : Installed bundle fastga.models.aerodynamics.external.xfoil.xfoil699 (ID 71 )\n",
      "INFO    : Installed bundle fastga.models.geometry.geom_components.fuselage.compute_fuselage (ID 88 )\n",
      "INFO    : Installed bundle fastga.models.weight.cg.cg_components (ID 205 )\n",
      "INFO    : Installed bundle fastga.tests.xfoil_exe (ID 277 )\n",
      "INFO    : Installed bundle fastga.models.aerodynamics.constants (ID 53 )\n",
      "INFO    : Installed bundle fastga.models.load_analysis.fuselage.compute_fuselage_shell (ID 152 )\n",
      "INFO    : Installed bundle fastga.models.weight.cg.cg_variation (ID 228 )\n"
     ]
    },
    {
     "name": "stderr",
     "output_type": "stream",
     "text": [
      "INFO    : Installed bundle fastga.models.aerodynamics.components.cd0 (ID 35 )\n",
      "INFO    : Installed bundle fastga.models.aerodynamics.external.xfoil.xfoil_group (ID 72 )\n",
      "INFO    : Installed bundle fastga.models.geometry.geom_components.ht.components (ID 90 )\n",
      "INFO    : Installed bundle fastga.models.load_analysis.fuselage.compute_torsion_moment (ID 153 )\n",
      "INFO    : Installed bundle fastga.models.weight.cg.cg_components.a_airframe (ID 206 )\n",
      "INFO    : Installed bundle fastga.models.aerodynamics.components.cd0_fuselage (ID 36 )\n",
      "INFO    : Installed bundle fastga.models.aerodynamics.external.xfoil.xfoil_polar (ID 73 )\n",
      "INFO    : Installed bundle fastga.models.geometry.geom_components.ht.compute_horizontal_tail (ID 97 )\n",
      "INFO    : Installed bundle fastga.tests.xfoil_exe.get_xfoil (ID 278 )\n",
      "INFO    : Installed bundle fastga.models.aerodynamics.components.cd0_ht (ID 37 )\n",
      "INFO    : Installed bundle fastga.models.aerodynamics.tests (ID 76 )\n",
      "INFO    : Installed bundle fastga.models.geometry.geom_components.ht.components.compute_ht_chords (ID 91 )\n",
      "INFO    : Installed bundle fastga.models.load_analysis.fuselage.loads_fuselage (ID 154 )\n",
      "INFO    : Installed bundle fastga.models.aerodynamics.components.cd0_lg (ID 38 )\n",
      "INFO    : Installed bundle fastga.models.geometry.geom_components.ht.components.compute_ht_distance (ID 92 )\n",
      "INFO    : Installed bundle fastga.models.load_analysis.loads_x57 (ID 156 )\n",
      "INFO    : Installed bundle fastga.models.modify_config (ID 171 )\n",
      "INFO    : Installed bundle fastga.models.weight.cg.cg_components.a_airframe.a1_wing_cg (ID 207 )\n",
      "INFO    : Installed bundle fastga.models.geometry.geom_components.ht.components.compute_ht_efficiency (ID 93 )\n",
      "INFO    : Installed bundle fastga.models.modify_config.compute_config_mod (ID 172 )\n",
      "INFO    : Installed bundle fastga.utils.postprocessing (ID 284 )\n",
      "INFO    : Installed bundle fastga.models.geometry.geom_components.ht.components.compute_ht_mac (ID 94 )\n",
      "INFO    : Installed bundle fastga.models.aerodynamics.components.cd0_nacelle (ID 39 )\n",
      "INFO    : Installed bundle fastga.models.weight.cg.cg_components.a_airframe.a2_fuselage_cg (ID 208 )\n",
      "INFO    : Installed bundle fastga.models.aerodynamics.components.cd0_other (ID 40 )\n",
      "INFO    : Installed bundle fastga.models.geometry.geom_components.ht.components.compute_ht_sweep (ID 95 )\n",
      "INFO    : Installed bundle fastga.models.weight.cg.tests.test_cirrus_sr22 (ID 233 )\n",
      "ERROR   : Cannot register factory 'test.wrapper.cg.beechcraft.dummy_engine' of bundle 233 (fastga.models.weight.cg.tests.test_cirrus_sr22): 'test.wrapper.cg.beechcraft.dummy_engine' factory already exist\n",
      "ERROR   : class: <class 'fastga.models.weight.cg.tests.test_cirrus_sr22.DummyEngineWrapper'> -- module: fastga.models.weight.cg.tests.test_cirrus_sr22\n",
      "INFO    : Installed bundle fastga.models.aerodynamics.components.cd0_total (ID 41 )\n",
      "INFO    : Installed bundle fastga.models.geometry.geom_components.ht.components.compute_ht_wet_area (ID 96 )\n",
      "INFO    : Installed bundle fastga.models.aerodynamics.components.cd0_vt (ID 42 )\n",
      "INFO    : Installed bundle fastga.models.geometry.geom_components.landing_gears (ID 98 )\n",
      "INFO    : Installed bundle fastga.models.performances (ID 177 )\n",
      "INFO    : Installed bundle fastga.models.aerodynamics.components.cd0_wing (ID 43 )\n",
      "INFO    : Installed bundle fastga.models.geometry.geom_components.nacelle (ID 100 )\n",
      "INFO    : Installed bundle fastga.models.tests (ID 198 )\n",
      "INFO    : Installed bundle fastga.models.performances.mission (ID 178 )\n",
      "INFO    : Installed bundle fastga.models.weight.mass_breakdown.a_airframe (ID 235 )\n",
      "INFO    : Installed bundle fastga.utils.physics (ID 280 )\n",
      "INFO    : Installed bundle fastga.models.aerodynamics.components.clalpha_vt (ID 44 )\n",
      "INFO    : Installed bundle fastga.models.geometry.geom_components.landing_gears.compute_lg (ID 99 )\n",
      "INFO    : Installed bundle fastga.models.geometry.geom_components.vt (ID 102 )\n",
      "INFO    : Installed bundle fastga.models.aerodynamics.components.compute_L_D_max (ID 45 )\n",
      "INFO    : Installed bundle fastga.models.performances.payload_range (ID 179 )\n",
      "INFO    : Installed bundle fastga.models.weight.mass_breakdown.a_airframe.a1_wing_weight (ID 236 )\n",
      "INFO    : Installed bundle fastga.models.geometry.geom_components.nacelle.compute_nacelle (ID 101 )\n",
      "INFO    : Installed bundle fastga.models.handling_qualities (ID 128 )\n",
      "INFO    : Installed bundle fastga.models.performances.sizing (ID 180 )\n",
      "INFO    : Installed bundle fastga.models.weight.mass_breakdown.a_airframe.a2_fuselage_weight (ID 237 )\n",
      "INFO    : Installed bundle fastga.utils.physics.tests (ID 282 )\n",
      "INFO    : Installed bundle fastga.models.aerodynamics.components.compute_cl_extreme (ID 46 )\n",
      "INFO    : Installed bundle fastga.models.geometry.geom_components.wing (ID 109 )\n",
      "INFO    : Installed bundle fastga.models.performances.takeoff (ID 181 )\n",
      "INFO    : Installed bundle fastga.utils.physics.atmosphere (ID 281 )\n",
      "INFO    : Installed bundle fastga.tests.integration_tests.oad_process.test_oad_process_wing_positionning (ID 275 )\n",
      "INFO    : Installed bundle fastga.models.performances.tests (ID 182 )\n",
      "INFO    : Installed bundle fastga.models.weight.mass_breakdown.a_airframe.a3_tail_weight (ID 238 )\n",
      "INFO    : Installed bundle fastga.models.propulsion.fuel_propulsion.base (ID 189 )\n",
      "INFO    : Installed bundle fastga.models.aerodynamics.components.compute_cnbeta_fuselage (ID 47 )\n",
      "INFO    : Installed bundle fastga.models.geometry.geom_components.vt.components (ID 103 )\n",
      "INFO    : Installed bundle fastga.models.propulsion.fuel_propulsion (ID 188 )\n",
      "INFO    : Installed bundle fastga.models.weight.mass_breakdown.a_airframe.a4_flight_control_weight (ID 239 )\n",
      "INFO    : Installed bundle fastga.models.weight.mass_breakdown.a_airframe.a5_landing_gear_weight (ID 240 )\n",
      "INFO    : Installed bundle fastga.models.aerodynamics.components.compute_reynolds (ID 48 )\n",
      "INFO    : Installed bundle fastga.models.geometry.geom_components.vt.components.compute_vt_chords (ID 104 )\n",
      "INFO    : Installed bundle fastga.models.weight.mass_breakdown.b_propulsion (ID 241 )\n",
      "INFO    : Installed bundle fastga.utils.physics.tests.test_atmosphere (ID 283 )\n",
      "INFO    : Installed bundle fastga.models.geometry.geom_components.vt.components.compute_vt_mac (ID 105 )\n",
      "INFO    : Installed bundle fastga.models.handling_qualities.compute_static_margin (ID 129 )\n",
      "INFO    : Installed bundle fastga.models.weight.mass_breakdown.c_systems (ID 246 )\n",
      "INFO    : Installed bundle fastga.models.aerodynamics.components.high_lift_aero (ID 49 )\n",
      "INFO    : Installed bundle fastga.models.geometry.geom_components.vt.components.compute_vt_sweep (ID 106 )\n",
      "INFO    : Installed bundle fastga.models.weight.mass_breakdown.b_propulsion.b1_2_oil_weight (ID 242 )\n",
      "INFO    : Installed bundle fastga.models.geometry.geom_components.vt.components.compute_vt_wet_area (ID 107 )\n",
      "INFO    : Installed bundle fastga.models.handling_qualities.handling_qualities (ID 130 )\n",
      "INFO    : Installed bundle fastga.models.load_analysis (ID 142 )\n",
      "INFO    : Installed bundle fastga.models.weight.mass_breakdown.b_propulsion.b1_engine_weight (ID 243 )\n",
      "INFO    : Installed bundle fastga.models.aerodynamics.components.hinge_moments_elevator (ID 50 )\n",
      "INFO    : Installed bundle fastga.models.geometry.geom_components.vt.compute_vertical_tail (ID 108 )\n",
      "INFO    : Installed bundle fastga.models.handling_qualities.tail_sizing (ID 131 )\n",
      "INFO    : Installed bundle fastga.models.weight.mass_breakdown.b_propulsion.b2_fuel_lines_weight (ID 244 )\n",
      "INFO    : Installed bundle fastga.models.geometry.geometry_htp_distance (ID 123 )\n",
      "INFO    : Installed bundle fastga.models.handling_qualities.tests (ID 137 )\n",
      "INFO    : Installed bundle fastga.models.load_analysis.aerodynamic_loads (ID 143 )\n",
      "INFO    : Installed bundle fastga.models.weight.mass_breakdown.b_propulsion.b3_unusable_fuel_weight (ID 245 )\n",
      "INFO    : Installed bundle fastga.models.aerodynamics.components.mach_interpolation (ID 51 )\n",
      "INFO    : Installed bundle fastga.models.handling_qualities.tail_sizing.compute_balked_landing_limit (ID 132 )\n",
      "INFO    : Installed bundle fastga.models.performances.tests.test_beechcraft_76 (ID 184 )\n",
      "ERROR   : Cannot register factory 'test.wrapper.performances.beechcraft.dummy_engine' of bundle 184 (fastga.models.performances.tests.test_beechcraft_76): 'test.wrapper.performances.beechcraft.dummy_engine' factory already exist\n"
     ]
    },
    {
     "name": "stderr",
     "output_type": "stream",
     "text": [
      "ERROR   : class: <class 'fastga.models.performances.tests.test_beechcraft_76.DummyEngineWrapper'> -- module: fastga.models.performances.tests.test_beechcraft_76\n",
      "INFO    : Installed bundle fastga.models.weight.mass_breakdown.d_furniture (ID 250 )\n",
      "INFO    : Installed bundle fastga.models.aerodynamics.components.resources (ID 52 )\n",
      "INFO    : Installed bundle fastga.models.geometry.geom_components.wing.components (ID 110 )\n",
      "INFO    : Installed bundle fastga.models.handling_qualities.tail_sizing.compute_to_rotation_limit (ID 133 )\n",
      "INFO    : Installed bundle fastga.models.weight.mass_breakdown.c_systems.c1_power_systems_weight (ID 247 )\n",
      "INFO    : Installed bundle fastga.models.aerodynamics.external (ID 54 )\n",
      "INFO    : Installed bundle fastga.models.weight.mass_breakdown.c_systems.c2_life_support_systems_weight (ID 248 )\n",
      "INFO    : Installed bundle fastga.models.aerodynamics.lift_equilibrium (ID 74 )\n",
      "INFO    : Installed bundle fastga.models.geometry.geom_components.wing.components.compute_mfw (ID 111 )\n",
      "INFO    : Installed bundle fastga.models.handling_qualities.tail_sizing.update_ht_area (ID 134 )\n",
      "INFO    : Installed bundle fastga.models.weight.mass_breakdown.c_systems.c3_navigation_systems_weight (ID 249 )\n",
      "INFO    : Installed bundle fastga.models.aerodynamics.external.openvsp (ID 55 )\n",
      "INFO    : Installed bundle fastga.models.aerodynamics.external.vlm (ID 63 )\n",
      "INFO    : Installed bundle fastga.models.handling_qualities.tail_sizing.update_tail_areas (ID 135 )\n",
      "INFO    : Installed bundle fastga.models.weight.mass_breakdown.d_furniture.d2_passenger_seats_weight (ID 251 )\n",
      "INFO    : Installed bundle fastga.models.geometry.geom_components.wing.components.compute_wing_b50 (ID 112 )\n",
      "INFO    : Installed bundle fastga.models.weight.mass_breakdown.mass_breakdown (ID 252 )\n",
      "INFO    : Installed bundle fastga.models.aerodynamics.external.openvsp.compute_aero (ID 56 )\n",
      "INFO    : Installed bundle fastga.models.geometry.geom_components.wing.components.compute_wing_l1_l4 (ID 113 )\n",
      "INFO    : Installed bundle fastga.models.handling_qualities.tail_sizing.update_vt_area (ID 136 )\n",
      "INFO    : Installed bundle fastga.models.weight.mass_breakdown.payload (ID 253 )\n",
      "INFO    : Installed bundle fastga.models.aerodynamics.external.openvsp.compute_aero_slipstream (ID 57 )\n",
      "INFO    : Installed bundle fastga.models.geometry.geom_components.wing.components.compute_wing_l2_l3 (ID 114 )\n",
      "INFO    : Installed bundle fastga.models.weight.mass_breakdown.tests (ID 254 )\n",
      "INFO    : Installed bundle fastga.models.geometry.geom_components.wing.components.compute_wing_mac (ID 115 )\n",
      "INFO    : Installed bundle fastga.models.performances.tests.test_cirrus_sr22 (ID 186 )\n",
      "ERROR   : Cannot register factory 'test.wrapper.performances.cirrus.dummy_engine' of bundle 186 (fastga.models.performances.tests.test_cirrus_sr22): 'test.wrapper.performances.cirrus.dummy_engine' factory already exist\n",
      "ERROR   : class: <class 'fastga.models.performances.tests.test_cirrus_sr22.DummyEngineWrapper'> -- module: fastga.models.performances.tests.test_cirrus_sr22\n",
      "INFO    : Installed bundle fastga.models.geometry.geom_components.wing.components.compute_wing_sweep (ID 116 )\n",
      "INFO    : Installed bundle fastga.models.aerodynamics.external.openvsp.compute_aero_slipstream_x57 (ID 58 )\n",
      "INFO    : Installed bundle fastga.models.geometry.geom_components.wing.components.compute_wing_toc (ID 117 )\n",
      "INFO    : Installed bundle fastga.models.geometry.geom_components.wing.components.compute_wing_wet_area (ID 118 )\n",
      "INFO    : Installed bundle fastga.models.weight.cg.tests.test_beechcraft_76 (ID 231 )\n",
      "ERROR   : Cannot register factory 'test.wrapper.cg.beechcraft.dummy_engine' of bundle 231 (fastga.models.weight.cg.tests.test_beechcraft_76): 'test.wrapper.cg.beechcraft.dummy_engine' factory already exist\n",
      "ERROR   : class: <class 'fastga.models.weight.cg.tests.test_beechcraft_76.DummyEngineWrapper'> -- module: fastga.models.weight.cg.tests.test_beechcraft_76\n",
      "INFO    : Installed bundle fastga.models.geometry.geom_components.wing.components.compute_wing_x (ID 119 )\n",
      "INFO    : Installed bundle fastga.models.weight.mass_breakdown.tests.test_beechcraft_76 (ID 256 )\n",
      "ERROR   : Cannot register factory 'test.wrapper.mass_breakdown.beechcraft.dummy_engine' of bundle 256 (fastga.models.weight.mass_breakdown.tests.test_beechcraft_76): 'test.wrapper.mass_breakdown.beechcraft.dummy_engine' factory already exist\n",
      "ERROR   : class: <class 'fastga.models.weight.mass_breakdown.tests.test_beechcraft_76.DummyEngineWrapper'> -- module: fastga.models.weight.mass_breakdown.tests.test_beechcraft_76\n",
      "INFO    : Installed bundle fastga.models.geometry.geom_components.wing.components.compute_wing_y (ID 120 )\n",
      "INFO    : Installed bundle fastga.models.propulsion (ID 187 )\n",
      "INFO    : Installed bundle fastga.models.geometry.geom_components.wing.compute_wing (ID 121 )\n",
      "INFO    : Installed bundle fastga.models.propulsion.propulsion (ID 197 )\n",
      "INFO    : Installed bundle fastga.models.geometry.profiles (ID 124 )\n",
      "WARNING : Failed to import module fastga.models.geometry.tests.test_beechcraft_76\n",
      "WARNING : Failed to import module fastga.models.geometry.tests.test_cirrus_sr22\n",
      "WARNING : Failed to import module fastga.models.propulsion.fuel_propulsion.basicIC_engine.basicIC_engineOM\n",
      "INFO    : Problem inputs written in C:\\Users\\Lucas\\anaconda3\\Lib\\site-packages\\fastga\\notebooks\\Lucas\\workdir\\problem_inputs.xml\n"
     ]
    }
   ],
   "source": [
    "api_cs25.generate_inputs(CONFIGURATION_FILE, SOURCE_FILE, overwrite=True)"
   ]
  },
  {
   "cell_type": "markdown",
   "metadata": {},
   "source": [
    "You can now checkout the generated [input file](./workdir/problem_inputs.xml). As shown previously in the user file architecture, the values in this file can be modified by the user and will be considered by FAST-OAD when executing a computational process."
   ]
  },
  {
   "cell_type": "markdown",
   "metadata": {},
   "source": [
    "A useful feature that FAST-OAD provides is to list the outputs of the model defined in the configuration file:"
   ]
  },
  {
   "cell_type": "code",
   "execution_count": null,
   "metadata": {
    "scrolled": true
   },
   "outputs": [],
   "source": [
    "api_cs25.list_variables(CONFIGURATION_FILE)"
   ]
  },
  {
   "cell_type": "markdown",
   "metadata": {},
   "source": [
    "Another useful feature is to list the modules of the model defined in the configuration file:"
   ]
  },
  {
   "cell_type": "code",
   "execution_count": null,
   "metadata": {
    "scrolled": true
   },
   "outputs": [],
   "source": [
    "api_cs25.list_systems(CONFIGURATION_FILE)"
   ]
  },
  {
   "cell_type": "markdown",
   "metadata": {},
   "source": [
    "\n",
    "\n",
    ".Another useful feature is the [N2 diagram](http://openmdao.org/twodocs/versions/latest/basic_guide/make_n2.html) visualization available in OpenMDAO to see the structure of the model:"
   ]
  },
  {
   "cell_type": "code",
   "execution_count": null,
   "metadata": {
    "scrolled": true
   },
   "outputs": [],
   "source": [
    "N2_FILE = pth.join(WORK_FOLDER_PATH, 'n2.html')\n",
    "api_cs25.write_n2(CONFIGURATION_FILE, N2_FILE, overwrite=True)\n",
    "from IPython.display import IFrame\n",
    "IFrame(src=N2_FILE, width='100%', height='500px')"
   ]
  },
  {
   "cell_type": "markdown",
   "metadata": {},
   "source": [
    "## 2. Running your first MDA"
   ]
  },
  {
   "cell_type": "markdown",
   "metadata": {},
   "source": [
    "### Beechcraft\n",
    "Here we run an MDA, that is solving the multidisciplinary couplings using the different nested solvers in the model, without running the optimization problem even if it is defined in the configuration file."
   ]
  },
  {
   "cell_type": "code",
   "execution_count": 4,
   "metadata": {
    "scrolled": false
   },
   "outputs": [
    {
     "name": "stderr",
     "output_type": "stream",
     "text": [
      "INFO    : Loading bundles from c:/users/lucas/anaconda3/lib/site-packages/fastga\n",
      "WARNING : Error visiting fastga.models.geometry.tests.test_beechcraft_76: Error installing bundle fastga.models.geometry.tests.test_beechcraft_76: cannot import name 'ComputeMFW' from 'fastga.models.geometry.geom_components.wing.components' (c:\\users\\lucas\\anaconda3\\lib\\site-packages\\fastga\\models\\geometry\\geom_components\\wing\\components\\__init__.py)\n",
      "WARNING : Error visiting fastga.models.geometry.tests.test_cirrus_sr22: Error installing bundle fastga.models.geometry.tests.test_cirrus_sr22: cannot import name 'ComputeMFW' from 'fastga.models.geometry.geom_components.wing.components' (c:\\users\\lucas\\anaconda3\\lib\\site-packages\\fastga\\models\\geometry\\geom_components\\wing\\components\\__init__.py)\n",
      "WARNING : Error visiting fastga.models.propulsion.fuel_propulsion.basicIC_engine.basicIC_engineOM: Error installing bundle fastga.models.propulsion.fuel_propulsion.basicIC_engine.basicIC_engineOM: No module named 'pyfmi'\n",
      "INFO    : Installed bundle fastga.models.geometry.tests (ID 127 )\n",
      "INFO    : Installed bundle fastga.models.modify_config.compute_fuselage_mod (ID 173 )\n",
      "INFO    : Installed bundle fastga.models.weight.mass_breakdown.tests.test_cirrus_sr22 (ID 257 )\n",
      "INFO    : Installed bundle fastga.models.aerodynamics.tests.test_beechcraft_76 (ID 77 )\n",
      "INFO    : Installed bundle fastga.models.geometry.profiles.get_profile (ID 125 )\n",
      "INFO    : Installed bundle fastga.models.load_analysis.structural_loads (ID 157 )\n",
      "INFO    : Installed bundle fastga.models.modify_config.compute_span (ID 174 )\n",
      "INFO    : Installed bundle fastga.models.propulsion.fuel_propulsion.basicIC_engine (ID 190 )\n",
      "INFO    : Installed bundle fastga.models.weight.cg.cg_components.a_airframe.a3_tail_cg (ID 209 )\n",
      "INFO    : Installed bundle fastga.models.geometry.profiles.profile (ID 126 )\n",
      "INFO    : Installed bundle fastga.models.modify_config.update_XML (ID 175 )\n",
      "INFO    : Installed bundle fastga.models.weight (ID 202 )\n",
      "INFO    : Installed bundle fastga.models.weight.cg.cg_components.a_airframe.a4_flight_control_cg (ID 210 )\n",
      "INFO    : Installed bundle fastga.models.weight.mass_breakdown.update_mlw_and_mzfw (ID 259 )\n",
      "INFO    : Installed bundle fastga.models.aerodynamics.external.openvsp.compute_vn (ID 59 )\n",
      "INFO    : Installed bundle fastga.models.aerodynamics.tests.test_cirrus_sr22 (ID 79 )\n",
      "INFO    : Installed bundle fastga.models.propulsion.fuel_propulsion.basicIC_engine.basicIC_engine (ID 191 )\n",
      "INFO    : Installed bundle fastga.models.weight.cg.cg_components.a_airframe.a5_landing_gear_cg (ID 211 )\n",
      "INFO    : Installed bundle fastga.models.propulsion.fuel_propulsion.basicIC_engine.openmdao (ID 193 )\n",
      "INFO    : Installed bundle fastga.models.weight.cg.cg_components.b_propulsion (ID 212 )\n",
      "INFO    : Installed bundle fastga.models.weight.mass_breakdown.update_mtow (ID 260 )\n",
      "INFO    : Installed bundle fastga.command (ID 25 )\n",
      "INFO    : Installed bundle fastga.models.aerodynamics.external.openvsp.openvsp (ID 60 )\n",
      "INFO    : Installed bundle fastga.models.propulsion.fuel_propulsion.basicIC_engine.tests (ID 194 )\n",
      "INFO    : Installed bundle fastga.models.weight.cg.cg_components.c_systems (ID 216 )\n",
      "INFO    : Installed bundle fastga.notebooks.Lucas.data (ID 264 )\n",
      "INFO    : Installed bundle fastga.command.resources (ID 27 )\n",
      "INFO    : Installed bundle fastga.models.load_analysis.aerodynamic_loads_x57 (ID 144 )\n",
      "INFO    : Installed bundle fastga.models.propulsion.fuel_propulsion.basicIC_engine.tests.test_basicIC_engine (ID 195 )\n",
      "INFO    : Installed bundle fastga.notebooks.Lucas.img (ID 265 )\n",
      "INFO    : Installed bundle fastga.command.api (ID 26 )\n",
      "INFO    : Installed bundle fastga.models.aerodynamics.external.openvsp.openvsp3201 (ID 61 )\n",
      "INFO    : Installed bundle fastga.models.weight.cg.cg_components.b_propulsion.b1_engine_cg (ID 213 )\n",
      "INFO    : Installed bundle fastga.models.load_analysis.aerostructural_loads (ID 145 )\n",
      "INFO    : Installed bundle fastga.models.weight.cg.cg_components.b_propulsion.b2_fuel_lines_cg (ID 214 )\n",
      "INFO    : Installed bundle fastga.notebooks.tutorial.data (ID 267 )\n",
      "INFO    : Installed bundle fastga.models.aerodynamics.external.openvsp.resources (ID 62 )\n",
      "INFO    : Installed bundle fastga.models.load_analysis.structural_loads_x57 (ID 158 )\n",
      "INFO    : Installed bundle fastga.models.load_analysis.tests.test_maxwell_x57 (ID 164 )\n",
      "INFO    : Installed bundle fastga.models.propulsion.fuel_propulsion.basicIC_engine.tests.test_openmdao_engine (ID 196 )\n",
      "INFO    : Installed bundle fastga.notebooks.tutorial.img (ID 268 )\n",
      "INFO    : Installed bundle fastga.models (ID 28 )\n",
      "INFO    : Installed bundle fastga.models.aerodynamics.external.xfoil (ID 67 )\n",
      "INFO    : Installed bundle fastga.models.handling_qualities.tests.test_cirrus_sr22 (ID 140 )\n",
      "INFO    : Installed bundle fastga.models.load_analysis.aerostructural_loads_x57 (ID 146 )\n",
      "INFO    : Installed bundle fastga.models.load_analysis.tests (ID 159 )\n",
      "INFO    : Installed bundle fastga.models.weight.cg.cg_components.b_propulsion.b3_tank_cg (ID 215 )\n",
      "INFO    : Installed bundle fastga.models.geometry (ID 83 )\n",
      "INFO    : Installed bundle fastga.models.aerodynamics.external.vlm.compute_aero (ID 64 )\n",
      "INFO    : Installed bundle fastga.models.load_analysis.compute_wing_loading (ID 147 )\n",
      "INFO    : Installed bundle fastga.models.propulsion.fuel_propulsion.basicIC_engine.exceptions (ID 192 )\n",
      "INFO    : Installed bundle fastga.models.weight.cg.cg_components.c_systems.c1_power_systems_cg (ID 217 )\n",
      "INFO    : Installed bundle fastga.models.aerodynamics.tests.test_slipstream_x57 (ID 81 )\n",
      "INFO    : Installed bundle fastga.models.load_analysis.fuselage (ID 148 )\n",
      "INFO    : Installed bundle fastga.models.weight.cg.cg_components.c_systems.c2_life_support_systems_cg (ID 218 )\n",
      "INFO    : Installed bundle fastga.models.aerodynamics.external.vlm.compute_vn (ID 65 )\n",
      "INFO    : Installed bundle fastga.models.load_analysis.loads (ID 155 )\n",
      "INFO    : Installed bundle fastga.models.weight.cg.cg_components.c_systems.c3_navigation_systems_cg (ID 219 )\n",
      "INFO    : Installed bundle fastga.utils (ID 279 )\n",
      "INFO    : Installed bundle fastga (ID 24 )\n",
      "INFO    : Installed bundle fastga.models.aerodynamics (ID 29 )\n",
      "INFO    : Installed bundle fastga.models.aerodynamics.external.vlm.vlm (ID 66 )\n",
      "INFO    : Installed bundle fastga.models.weight.cg.cg_components.d_furniture (ID 220 )\n",
      "INFO    : Installed bundle fastga.register (ID 269 )\n",
      "INFO    : Installed bundle fastga.tests.conftest (ID 271 )\n",
      "INFO    : Installed bundle fastga.models.aerodynamics.resources (ID 75 )\n",
      "INFO    : Installed bundle fastga.models.load_analysis.fuselage.compute_bending_moment (ID 149 )\n",
      "INFO    : Installed bundle fastga.models.weight.cg.cg_components.global_cg (ID 222 )\n",
      "INFO    : Installed bundle fastga.notebooks (ID 262 )\n",
      "INFO    : Installed bundle fastga.tests (ID 270 )\n",
      "INFO    : Installed bundle fastga.tests.integration_tests (ID 272 )\n",
      "INFO    : Installed bundle fastga.models.weight.cg.cg_components.d_furniture.d2_passenger_seats_cg (ID 221 )\n",
      "INFO    : Installed bundle fastga.models.aerodynamics.external.xfoil.resources (ID 68 )\n",
      "INFO    : Installed bundle fastga.models.geometry.geom_components (ID 84 )\n",
      "INFO    : Installed bundle fastga.models.loops (ID 166 )\n",
      "INFO    : Installed bundle fastga.models.weight.cg.cg_components.loadcase (ID 223 )\n",
      "INFO    : Installed bundle fastga.tests.integration_tests.oad_process (ID 273 )\n",
      "INFO    : Installed bundle fastga.models.aerodynamics.external.xfoil.tests (ID 69 )\n",
      "INFO    : Installed bundle fastga.models.tests.xfoil_exe (ID 200 )\n",
      "INFO    : Installed bundle fastga.tests.testing_utilities (ID 276 )\n",
      "INFO    : Installed bundle fastga.models.geometry.geometry_fuselage (ID 122 )\n",
      "INFO    : Installed bundle fastga.models.options (ID 176 )\n",
      "INFO    : Installed bundle fastga.models.tests.testing_utilities (ID 199 )\n",
      "INFO    : Installed bundle fastga.models.weight.cg.cg_components.max_cg_ratio (ID 224 )\n",
      "INFO    : Installed bundle fastga.utils.postprocessing.analysis_and_plots (ID 285 )\n",
      "INFO    : Installed bundle fastga.models.aerodynamics.aero_center (ID 30 )\n",
      "INFO    : Installed bundle fastga.models.loops.update_wing_area (ID 169 )\n",
      "INFO    : Installed bundle fastga.models.weight.cg.cg_components.payload (ID 225 )\n",
      "INFO    : Installed bundle fastga.models.weight.mass_breakdown (ID 234 )\n"
     ]
    },
    {
     "name": "stderr",
     "output_type": "stream",
     "text": [
      "INFO    : Installed bundle fastga.models.aerodynamics.aerodynamics (ID 31 )\n",
      "INFO    : Installed bundle fastga.models.geometry.geom_components.compute_mfw (ID 85 )\n",
      "INFO    : Installed bundle fastga.models.loops.tests (ID 167 )\n",
      "INFO    : Installed bundle fastga.models.weight.cg.cg_components.ratio_aft (ID 226 )\n",
      "INFO    : Installed bundle fastga.notebooks.tutorial (ID 266 )\n",
      "INFO    : Installed bundle fastga.tests.integration_tests.oad_process.test_oad_process_no_wing_positionning (ID 274 )\n",
      "INFO    : Installed bundle fastga.models.load_analysis.tests.test_beechcraft_76 (ID 160 )\n",
      "INFO    : Installed bundle fastga.models.tests.xfoil_exe.get_xfoil (ID 201 )\n",
      "INFO    : Installed bundle fastga.models.aerodynamics.aerodynamics_high_speed (ID 32 )\n",
      "INFO    : Installed bundle fastga.models.geometry.geom_components.compute_total_area (ID 86 )\n",
      "INFO    : Installed bundle fastga.models.weight.cg (ID 203 )\n",
      "INFO    : Installed bundle fastga.models.weight.cg.cg_components.update_mlg (ID 227 )\n",
      "INFO    : Installed bundle fastga.models.geometry.geom_components.fuselage (ID 87 )\n",
      "INFO    : Installed bundle fastga.models.load_analysis.fuselage.compute_bending_moment_bis (ID 150 )\n",
      "INFO    : Installed bundle fastga.models.loops.tests.test_wing_area (ID 168 )\n",
      "INFO    : Installed bundle fastga.models.weight.cg.tests (ID 229 )\n",
      "INFO    : Installed bundle fastga.notebooks.Lucas (ID 263 )\n",
      "INFO    : Installed bundle fastga.models.loops.update_wing_position (ID 170 )\n",
      "INFO    : Installed bundle fastga.models.aerodynamics.aerodynamics_low_speed (ID 33 )\n",
      "INFO    : Installed bundle fastga.models.aerodynamics.external.xfoil.tests.test_xfoil (ID 70 )\n",
      "INFO    : Installed bundle fastga.models.geometry.geom_components.ht (ID 89 )\n",
      "INFO    : Installed bundle fastga.models.load_analysis.fuselage.compute_fuselage_additional_mass (ID 151 )\n",
      "INFO    : Installed bundle fastga.models.weight.cg.cg (ID 204 )\n",
      "INFO    : Installed bundle fastga.models.weight.weight (ID 261 )\n",
      "INFO    : Installed bundle fastga.models.aerodynamics.components (ID 34 )\n",
      "INFO    : Installed bundle fastga.models.aerodynamics.external.xfoil.xfoil699 (ID 71 )\n",
      "INFO    : Installed bundle fastga.models.geometry.geom_components.fuselage.compute_fuselage (ID 88 )\n",
      "INFO    : Installed bundle fastga.models.weight.cg.cg_components (ID 205 )\n",
      "INFO    : Installed bundle fastga.tests.xfoil_exe (ID 277 )\n",
      "INFO    : Installed bundle fastga.models.aerodynamics.constants (ID 53 )\n",
      "INFO    : Installed bundle fastga.models.load_analysis.fuselage.compute_fuselage_shell (ID 152 )\n",
      "INFO    : Installed bundle fastga.models.weight.cg.cg_variation (ID 228 )\n",
      "INFO    : Installed bundle fastga.models.aerodynamics.components.cd0 (ID 35 )\n",
      "INFO    : Installed bundle fastga.models.aerodynamics.external.xfoil.xfoil_group (ID 72 )\n",
      "INFO    : Installed bundle fastga.models.geometry.geom_components.ht.components (ID 90 )\n",
      "INFO    : Installed bundle fastga.models.load_analysis.fuselage.compute_torsion_moment (ID 153 )\n",
      "INFO    : Installed bundle fastga.models.weight.cg.cg_components.a_airframe (ID 206 )\n",
      "INFO    : Installed bundle fastga.models.aerodynamics.components.cd0_fuselage (ID 36 )\n",
      "INFO    : Installed bundle fastga.models.aerodynamics.external.xfoil.xfoil_polar (ID 73 )\n",
      "INFO    : Installed bundle fastga.models.geometry.geom_components.ht.compute_horizontal_tail (ID 97 )\n",
      "INFO    : Installed bundle fastga.tests.xfoil_exe.get_xfoil (ID 278 )\n",
      "INFO    : Installed bundle fastga.models.aerodynamics.components.cd0_ht (ID 37 )\n",
      "INFO    : Installed bundle fastga.models.aerodynamics.tests (ID 76 )\n",
      "INFO    : Installed bundle fastga.models.geometry.geom_components.ht.components.compute_ht_chords (ID 91 )\n",
      "INFO    : Installed bundle fastga.models.load_analysis.fuselage.loads_fuselage (ID 154 )\n",
      "INFO    : Installed bundle fastga.models.aerodynamics.components.cd0_lg (ID 38 )\n",
      "INFO    : Installed bundle fastga.models.geometry.geom_components.ht.components.compute_ht_distance (ID 92 )\n",
      "INFO    : Installed bundle fastga.models.load_analysis.loads_x57 (ID 156 )\n",
      "INFO    : Installed bundle fastga.models.modify_config (ID 171 )\n",
      "INFO    : Installed bundle fastga.models.weight.cg.cg_components.a_airframe.a1_wing_cg (ID 207 )\n",
      "INFO    : Installed bundle fastga.models.geometry.geom_components.ht.components.compute_ht_efficiency (ID 93 )\n",
      "INFO    : Installed bundle fastga.models.modify_config.compute_config_mod (ID 172 )\n",
      "INFO    : Installed bundle fastga.utils.postprocessing (ID 284 )\n",
      "INFO    : Installed bundle fastga.models.geometry.geom_components.ht.components.compute_ht_mac (ID 94 )\n",
      "INFO    : Installed bundle fastga.models.load_analysis.tests.test_cirrus_sr22 (ID 162 )\n",
      "INFO    : Installed bundle fastga.models.aerodynamics.components.cd0_nacelle (ID 39 )\n",
      "INFO    : Installed bundle fastga.models.weight.cg.tests.test_cirrus_sr22 (ID 232 )\n",
      "INFO    : Installed bundle fastga.models.weight.cg.cg_components.a_airframe.a2_fuselage_cg (ID 208 )\n",
      "INFO    : Installed bundle fastga.models.aerodynamics.components.cd0_other (ID 40 )\n",
      "INFO    : Installed bundle fastga.models.geometry.geom_components.ht.components.compute_ht_sweep (ID 95 )\n",
      "INFO    : Installed bundle fastga.models.aerodynamics.components.cd0_total (ID 41 )\n",
      "INFO    : Installed bundle fastga.models.geometry.geom_components.ht.components.compute_ht_wet_area (ID 96 )\n",
      "INFO    : Installed bundle fastga.models.aerodynamics.components.cd0_vt (ID 42 )\n",
      "INFO    : Installed bundle fastga.models.geometry.geom_components.landing_gears (ID 98 )\n",
      "INFO    : Installed bundle fastga.models.performances (ID 177 )\n",
      "INFO    : Installed bundle fastga.models.aerodynamics.components.cd0_wing (ID 43 )\n",
      "INFO    : Installed bundle fastga.models.geometry.geom_components.nacelle (ID 100 )\n",
      "INFO    : Installed bundle fastga.models.tests (ID 198 )\n",
      "INFO    : Installed bundle fastga.models.performances.mission (ID 178 )\n",
      "INFO    : Installed bundle fastga.models.weight.mass_breakdown.a_airframe (ID 235 )\n",
      "INFO    : Installed bundle fastga.utils.physics (ID 280 )\n",
      "INFO    : Installed bundle fastga.models.aerodynamics.components.clalpha_vt (ID 44 )\n",
      "INFO    : Installed bundle fastga.models.geometry.geom_components.landing_gears.compute_lg (ID 99 )\n",
      "INFO    : Installed bundle fastga.models.geometry.geom_components.vt (ID 102 )\n",
      "INFO    : Installed bundle fastga.models.aerodynamics.components.compute_L_D_max (ID 45 )\n",
      "INFO    : Installed bundle fastga.models.performances.payload_range (ID 179 )\n",
      "INFO    : Installed bundle fastga.models.weight.mass_breakdown.a_airframe.a1_wing_weight (ID 236 )\n",
      "INFO    : Installed bundle fastga.models.geometry.geom_components.nacelle.compute_nacelle (ID 101 )\n",
      "INFO    : Installed bundle fastga.models.handling_qualities (ID 128 )\n",
      "INFO    : Installed bundle fastga.models.performances.sizing (ID 180 )\n",
      "INFO    : Installed bundle fastga.models.weight.mass_breakdown.a_airframe.a2_fuselage_weight (ID 237 )\n",
      "INFO    : Installed bundle fastga.utils.physics.tests (ID 282 )\n",
      "INFO    : Installed bundle fastga.models.aerodynamics.components.compute_cl_extreme (ID 46 )\n",
      "INFO    : Installed bundle fastga.models.geometry.geom_components.wing (ID 109 )\n",
      "INFO    : Installed bundle fastga.models.performances.takeoff (ID 181 )\n",
      "INFO    : Installed bundle fastga.utils.physics.atmosphere (ID 281 )\n",
      "INFO    : Installed bundle fastga.tests.integration_tests.oad_process.test_oad_process_wing_positionning (ID 275 )\n",
      "INFO    : Installed bundle fastga.models.performances.tests (ID 182 )\n",
      "INFO    : Installed bundle fastga.models.weight.mass_breakdown.a_airframe.a3_tail_weight (ID 238 )\n",
      "INFO    : Installed bundle fastga.models.propulsion.fuel_propulsion.base (ID 189 )\n",
      "INFO    : Installed bundle fastga.models.aerodynamics.components.compute_cnbeta_fuselage (ID 47 )\n",
      "INFO    : Installed bundle fastga.models.geometry.geom_components.vt.components (ID 103 )\n",
      "INFO    : Installed bundle fastga.models.propulsion.fuel_propulsion (ID 188 )\n",
      "INFO    : Installed bundle fastga.models.weight.mass_breakdown.a_airframe.a4_flight_control_weight (ID 239 )\n",
      "INFO    : Installed bundle fastga.models.weight.mass_breakdown.a_airframe.a5_landing_gear_weight (ID 240 )\n",
      "INFO    : Installed bundle fastga.models.aerodynamics.components.compute_reynolds (ID 48 )\n",
      "INFO    : Installed bundle fastga.models.geometry.geom_components.vt.components.compute_vt_chords (ID 104 )\n"
     ]
    },
    {
     "name": "stderr",
     "output_type": "stream",
     "text": [
      "INFO    : Installed bundle fastga.models.weight.mass_breakdown.b_propulsion (ID 241 )\n",
      "INFO    : Installed bundle fastga.utils.physics.tests.test_atmosphere (ID 283 )\n",
      "INFO    : Installed bundle fastga.models.geometry.geom_components.vt.components.compute_vt_mac (ID 105 )\n",
      "INFO    : Installed bundle fastga.models.handling_qualities.compute_static_margin (ID 129 )\n",
      "INFO    : Installed bundle fastga.models.weight.mass_breakdown.c_systems (ID 246 )\n",
      "INFO    : Installed bundle fastga.models.aerodynamics.components.high_lift_aero (ID 49 )\n",
      "INFO    : Installed bundle fastga.models.geometry.geom_components.vt.components.compute_vt_sweep (ID 106 )\n",
      "INFO    : Installed bundle fastga.models.weight.mass_breakdown.b_propulsion.b1_2_oil_weight (ID 242 )\n",
      "INFO    : Installed bundle fastga.models.geometry.geom_components.vt.components.compute_vt_wet_area (ID 107 )\n",
      "INFO    : Installed bundle fastga.models.handling_qualities.handling_qualities (ID 130 )\n",
      "INFO    : Installed bundle fastga.models.load_analysis (ID 142 )\n",
      "INFO    : Installed bundle fastga.models.weight.mass_breakdown.b_propulsion.b1_engine_weight (ID 243 )\n",
      "INFO    : Installed bundle fastga.models.aerodynamics.components.hinge_moments_elevator (ID 50 )\n",
      "INFO    : Installed bundle fastga.models.geometry.geom_components.vt.compute_vertical_tail (ID 108 )\n",
      "INFO    : Installed bundle fastga.models.handling_qualities.tail_sizing (ID 131 )\n",
      "INFO    : Installed bundle fastga.models.weight.mass_breakdown.b_propulsion.b2_fuel_lines_weight (ID 244 )\n",
      "INFO    : Installed bundle fastga.models.geometry.geometry_htp_distance (ID 123 )\n",
      "INFO    : Installed bundle fastga.models.handling_qualities.tests (ID 137 )\n",
      "INFO    : Installed bundle fastga.models.load_analysis.aerodynamic_loads (ID 143 )\n",
      "INFO    : Installed bundle fastga.models.weight.mass_breakdown.b_propulsion.b3_unusable_fuel_weight (ID 245 )\n",
      "INFO    : Installed bundle fastga.models.aerodynamics.components.mach_interpolation (ID 51 )\n",
      "INFO    : Installed bundle fastga.models.handling_qualities.tail_sizing.compute_balked_landing_limit (ID 132 )\n",
      "INFO    : Installed bundle fastga.models.weight.mass_breakdown.d_furniture (ID 250 )\n",
      "INFO    : Installed bundle fastga.models.aerodynamics.components.resources (ID 52 )\n",
      "INFO    : Installed bundle fastga.models.geometry.geom_components.wing.components (ID 110 )\n",
      "INFO    : Installed bundle fastga.models.handling_qualities.tail_sizing.compute_to_rotation_limit (ID 133 )\n",
      "INFO    : Installed bundle fastga.models.performances.tests.test_beechcraft_76 (ID 183 )\n",
      "INFO    : Installed bundle fastga.models.weight.mass_breakdown.c_systems.c1_power_systems_weight (ID 247 )\n",
      "INFO    : Installed bundle fastga.models.aerodynamics.external (ID 54 )\n",
      "INFO    : Installed bundle fastga.models.weight.mass_breakdown.c_systems.c2_life_support_systems_weight (ID 248 )\n",
      "INFO    : Installed bundle fastga.models.aerodynamics.lift_equilibrium (ID 74 )\n",
      "INFO    : Installed bundle fastga.models.geometry.geom_components.wing.components.compute_mfw (ID 111 )\n",
      "INFO    : Installed bundle fastga.models.handling_qualities.tail_sizing.update_ht_area (ID 134 )\n",
      "INFO    : Installed bundle fastga.models.weight.mass_breakdown.c_systems.c3_navigation_systems_weight (ID 249 )\n",
      "INFO    : Installed bundle fastga.models.aerodynamics.external.openvsp (ID 55 )\n",
      "INFO    : Installed bundle fastga.models.aerodynamics.external.vlm (ID 63 )\n",
      "INFO    : Installed bundle fastga.models.handling_qualities.tail_sizing.update_tail_areas (ID 135 )\n",
      "INFO    : Installed bundle fastga.models.weight.mass_breakdown.d_furniture.d2_passenger_seats_weight (ID 251 )\n",
      "INFO    : Installed bundle fastga.models.geometry.geom_components.wing.components.compute_wing_b50 (ID 112 )\n",
      "INFO    : Installed bundle fastga.models.weight.mass_breakdown.mass_breakdown (ID 252 )\n",
      "INFO    : Installed bundle fastga.models.aerodynamics.external.openvsp.compute_aero (ID 56 )\n",
      "INFO    : Installed bundle fastga.models.geometry.geom_components.wing.components.compute_wing_l1_l4 (ID 113 )\n",
      "INFO    : Installed bundle fastga.models.handling_qualities.tail_sizing.update_vt_area (ID 136 )\n",
      "INFO    : Installed bundle fastga.models.weight.mass_breakdown.payload (ID 253 )\n",
      "INFO    : Installed bundle fastga.models.aerodynamics.external.openvsp.compute_aero_slipstream (ID 57 )\n",
      "INFO    : Installed bundle fastga.models.geometry.geom_components.wing.components.compute_wing_l2_l3 (ID 114 )\n",
      "INFO    : Installed bundle fastga.models.weight.mass_breakdown.tests (ID 254 )\n",
      "INFO    : Installed bundle fastga.models.geometry.geom_components.wing.components.compute_wing_mac (ID 115 )\n",
      "INFO    : Installed bundle fastga.models.geometry.profiles (ID 124 )\n",
      "INFO    : Installed bundle fastga.models.geometry.geom_components.wing.components.compute_wing_sweep (ID 116 )\n",
      "INFO    : Installed bundle fastga.models.performances.tests.test_cirrus_sr22 (ID 185 )\n",
      "INFO    : Installed bundle fastga.models.aerodynamics.external.openvsp.compute_aero_slipstream_x57 (ID 58 )\n",
      "INFO    : Installed bundle fastga.models.geometry.geom_components.wing.components.compute_wing_toc (ID 117 )\n",
      "INFO    : Installed bundle fastga.models.weight.cg.tests.test_beechcraft_76 (ID 230 )\n",
      "INFO    : Installed bundle fastga.models.geometry.geom_components.wing.components.compute_wing_wet_area (ID 118 )\n",
      "INFO    : Installed bundle fastga.models.weight.mass_breakdown.tests.test_beechcraft_76 (ID 255 )\n",
      "INFO    : Installed bundle fastga.models.geometry.geom_components.wing.components.compute_wing_x (ID 119 )\n",
      "INFO    : Installed bundle fastga.models.geometry.geom_components.wing.components.compute_wing_y (ID 120 )\n",
      "INFO    : Installed bundle fastga.models.propulsion (ID 187 )\n",
      "INFO    : Installed bundle fastga.models.geometry.geom_components.wing.compute_wing (ID 121 )\n",
      "INFO    : Installed bundle fastga.models.propulsion.propulsion (ID 197 )\n",
      "INFO    : Installed bundle fastga.models.handling_qualities.tests.test_beechcraft_76 (ID 138 )\n",
      "WARNING : Failed to import module fastga.models.geometry.tests.test_beechcraft_76\n",
      "WARNING : Failed to import module fastga.models.geometry.tests.test_cirrus_sr22\n",
      "WARNING : Failed to import module fastga.models.propulsion.fuel_propulsion.basicIC_engine.basicIC_engineOM\n",
      "INFO    : Note: NumExpr detected 12 cores but \"NUMEXPR_MAX_THREADS\" not set, so enforcing safe limit of 8.\n",
      "INFO    : NumExpr defaulting to 8 threads.\n"
     ]
    },
    {
     "name": "stdout",
     "output_type": "stream",
     "text": [
      "NL: NLBGS 1 ; 7822376.88 1\n",
      "NL: NLBGS 2 ; 1143897.93 0.14623406\n",
      "NL: NLBGS 3 ; 724963.442 0.0926781531\n",
      "NL: NLBGS 4 ; 500312.455 0.0639591345\n",
      "NL: NLBGS 5 ; 287301.547 0.0367281647\n",
      "NL: NLBGS 6 ; 43517.8287 0.00556324879\n",
      "NL: NLBGS 7 ; 35591.1052 0.00454990928\n",
      "NL: NLBGS 8 ; 13480.525 0.0017233285\n",
      "NL: NLBGS 9 ; 9882.2265 0.00126332784\n",
      "NL: NLBGS 10 ; 4726.5104 0.00060422944\n",
      "NL: NLBGS 11 ; 3087.67839 0.000394723809\n",
      "NL: NLBGS 12 ; 1704.15122 0.000217855933\n",
      "NL: NLBGS 13 ; 1018.22688 0.000130168477\n",
      "NL: NLBGS 14 ; 584.967777 7.47813339e-05\n",
      "NL: NLBGS 15 ; 344.188118 4.4000452e-05\n",
      "NL: NLBGS 16 ; 199.659057 2.55240907e-05\n",
      "NL: NLBGS 17 ; 116.718385 1.49210894e-05\n",
      "NL: NLBGS 18 ; 67.9570534 8.68751973e-06\n",
      "NL: NLBGS Converged\n"
     ]
    },
    {
     "name": "stderr",
     "output_type": "stream",
     "text": [
      "INFO    : Computation finished after 81.43 seconds\n",
      "INFO    : Problem outputs written in C:\\Users\\Lucas\\anaconda3\\Lib\\site-packages\\fastga\\notebooks\\Lucas\\workdir\\problem_outputs.xml\n"
     ]
    }
   ],
   "source": [
    "eval_problem = api_cs25.evaluate_problem(CONFIGURATION_FILE, overwrite=True)"
   ]
  },
  {
   "cell_type": "markdown",
   "metadata": {},
   "source": [
    "Let's save these results. We will use them in the next workbook, that shows some post-processing utilities."
   ]
  },
  {
   "cell_type": "code",
   "execution_count": 5,
   "metadata": {},
   "outputs": [
    {
     "data": {
      "text/plain": [
       "'output\\\\problem_outputs_mda.xml'"
      ]
     },
     "execution_count": 5,
     "metadata": {},
     "output_type": "execute_result"
    }
   ],
   "source": [
    "OUTPUT_FILE = pth.join(WORK_FOLDER_PATH, 'problem_outputs.xml')\n",
    "MDA_OUTPUT_FILE = pth.join(OUTPUT_FOLDER_PATH, 'problem_outputs_mda.xml')\n",
    "shutil.copy(OUTPUT_FILE, MDA_OUTPUT_FILE)"
   ]
  },
  {
   "cell_type": "markdown",
   "metadata": {},
   "source": [
    "The `variable-viewer` provides a way to inspect the content of the XML file. The dropdown lists above the table allow to filter the displayed variable."
   ]
  },
  {
   "cell_type": "code",
   "execution_count": 6,
   "metadata": {},
   "outputs": [
    {
     "data": {
      "application/vnd.jupyter.widget-view+json": {
       "model_id": "7ef82dabbce440f98809b98a012cd76c",
       "version_major": 2,
       "version_minor": 0
      },
      "text/plain": [
       "VBox(children=(HBox(children=(Button(description='Load', icon='upload', style=ButtonStyle(), tooltip='Load the…"
      ]
     },
     "metadata": {},
     "output_type": "display_data"
    }
   ],
   "source": [
    "api_cs25.variable_viewer(OUTPUT_FILE)"
   ]
  },
  {
   "cell_type": "code",
   "execution_count": null,
   "metadata": {},
   "outputs": [],
   "source": []
  }
 ],
 "metadata": {
  "kernelspec": {
   "display_name": "Python 3",
   "language": "python",
   "name": "python3"
  },
  "language_info": {
   "codemirror_mode": {
    "name": "ipython",
    "version": 3
   },
   "file_extension": ".py",
   "mimetype": "text/x-python",
   "name": "python",
   "nbconvert_exporter": "python",
   "pygments_lexer": "ipython3",
   "version": "3.8.5"
  }
 },
 "nbformat": 4,
 "nbformat_minor": 4
}
